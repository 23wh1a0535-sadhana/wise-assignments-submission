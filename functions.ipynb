{
  "nbformat": 4,
  "nbformat_minor": 0,
  "metadata": {
    "colab": {
      "provenance": [],
      "authorship_tag": "ABX9TyNFcOHSEHCgOSmiI9wVTF1/",
      "include_colab_link": true
    },
    "kernelspec": {
      "name": "python3",
      "display_name": "Python 3"
    },
    "language_info": {
      "name": "python"
    }
  },
  "cells": [
    {
      "cell_type": "markdown",
      "metadata": {
        "id": "view-in-github",
        "colab_type": "text"
      },
      "source": [
        "<a href=\"https://colab.research.google.com/github/23wh1a0535-sadhana/wise-assignments-submission/blob/main/functions.ipynb\" target=\"_parent\"><img src=\"https://colab.research.google.com/assets/colab-badge.svg\" alt=\"Open In Colab\"/></a>"
      ]
    },
    {
      "cell_type": "code",
      "execution_count": null,
      "metadata": {
        "id": "otsTHeDvB02r"
      },
      "outputs": [],
      "source": [
        "\n",
        "def vol_cube(a):\n",
        "    volume = a**3\n",
        "    return volume\n",
        "s=int(input(\"Enter side\"))\n",
        "vol_cube(s)"
      ]
    },
    {
      "cell_type": "code",
      "source": [
        "def rainbow(s):\n",
        "    colours = \"\"\n",
        "    return(colours.join(s))\n",
        "s = [\" Voilet\",\" Indigo\",\" Blue\",\" Green\",\" Yellow\",\" Orange\",\" Red\"]\n",
        "print(rainbow(s))"
      ],
      "metadata": {
        "id": "nzWy2qF9B5XQ",
        "colab": {
          "base_uri": "https://localhost:8080/"
        },
        "outputId": "384d44ef-dc40-424e-ee7d-1db21fa2b337"
      },
      "execution_count": null,
      "outputs": [
        {
          "output_type": "stream",
          "name": "stdout",
          "text": [
            " Voilet Indigo Blue Green Yellow Orange Red\n"
          ]
        }
      ]
    },
    {
      "cell_type": "code",
      "source": [
        "3.#Reverse a string\n",
        "name =\"harika\"[::-1]\n",
        "print(name)"
      ],
      "metadata": {
        "id": "RRTFKPW-B5lk"
      },
      "execution_count": null,
      "outputs": []
    },
    {
      "cell_type": "code",
      "source": [
        "num = int(input(\"Enter a number\"))\n",
        "print(\"Given number :  \", num)\n",
        "list = [int(x) for x in str(num)]\n",
        "print(\"List of number: \\n\",list)"
      ],
      "metadata": {
        "id": "_4DfD1grB5w9"
      },
      "execution_count": null,
      "outputs": []
    },
    {
      "cell_type": "code",
      "source": [
        "def right_angled(a, b, c):\n",
        "    if (a*a+b*b==c*c) or (c*c+b*b==a*a) or (a*a+c*c==b*b) :\n",
        "        return \"The triangle is right-angled.\"\n",
        "    else:\n",
        "        return \"The triangle is not right-angled.\"\n",
        "right_angled(3,4,5)"
      ],
      "metadata": {
        "id": "-GByMrzUCYxg"
      },
      "execution_count": null,
      "outputs": []
    },
    {
      "cell_type": "code",
      "source": [
        "string=input(\"Enter a string\")\n",
        "list=[i for i in string]\n",
        "print(list)"
      ],
      "metadata": {
        "id": "9hbeH4XTCYz7"
      },
      "execution_count": null,
      "outputs": []
    },
    {
      "cell_type": "code",
      "source": [
        "def listToString(s):\n",
        "    str1 = \"\"\n",
        "    for l in s:\n",
        "        str1 += l\n",
        "    return str1\n",
        "s = ['I', 'am', 'student']\n",
        "print(listToString(s))"
      ],
      "metadata": {
        "id": "9l3-z67tCY2w"
      },
      "execution_count": null,
      "outputs": []
    },
    {
      "cell_type": "code",
      "source": [
        "def\n",
        "c=0;\n",
        "cname=input(\"Enter a city name\")\n",
        "cities=[Hyderabad,Secunderabad,Warangal]\n",
        "while cname in cities:\n",
        "      c=1\n",
        "if(c==1):\n",
        "    print(\"Present in State of Telangana\")"
      ],
      "metadata": {
        "id": "Ryn9yONvCY5V"
      },
      "execution_count": null,
      "outputs": []
    },
    {
      "cell_type": "code",
      "source": [
        "string = input(\"Enter a string: \")\n",
        "count = 0\n",
        "for s in string:\n",
        "      count = count+1\n",
        "print(\"Length : \",count)"
      ],
      "metadata": {
        "id": "GH0kllTTEM7X"
      },
      "execution_count": null,
      "outputs": []
    },
    {
      "cell_type": "code",
      "source": [
        "num = int(input(\"Enter number: \"))\n",
        "revs_number = 0\n",
        "while (num > 0):\n",
        "    remainder = num % 10\n",
        "    revs_number = (revs_number * 10) + remainder\n",
        "    num = num // 10\n",
        "print(\" reverse is :\",revs_number)"
      ],
      "metadata": {
        "id": "tSRMZky1EM9o"
      },
      "execution_count": null,
      "outputs": []
    },
    {
      "cell_type": "code",
      "source": [
        "test_list = [ 'Cookies', 'Chocolate', 'Green', 'Apple']\n",
        "lengths = [len(s) for s in test_list]\n",
        "longest_index = lengths.index(max(lengths))\n",
        "longest_string = test_list[longest_index]\n",
        "print(\"Longest string is : \" +longest_string)"
      ],
      "metadata": {
        "id": "-7qknml3ENAR"
      },
      "execution_count": null,
      "outputs": []
    },
    {
      "cell_type": "code",
      "source": [
        "total = 0\n",
        "list1 = [11, 5, 17, 18, 23]\n",
        "for ele in range(0, len(list1)):\n",
        "    total = total + list1[ele]\n",
        "print(\"Sum of all elements in given list: \",total)"
      ],
      "metadata": {
        "id": "ABirferjENCl"
      },
      "execution_count": null,
      "outputs": []
    },
    {
      "cell_type": "code",
      "source": [
        "arr = [5, 9, 1, 10, 3, 8, 4, 2, 7, 6]\n",
        "temp = 0\n",
        "max_size = len(arr)\n",
        "print(\"The elements of the array before sorting: \");\n",
        "for i in range(0, max_size):\n",
        "   print(arr[i], end=\" \")\n",
        "\n",
        "print()\n",
        "for i in range(0, max_size):\n",
        "   for j in range(i+1, len(arr)):\n",
        "      if(arr[i] > arr[j]):\n",
        "         temp = arr[i]\n",
        "         arr[i] = arr[j]\n",
        "         arr[j] = temp\n",
        "print(\"The elements of the array after sorting: \")\n",
        "\n",
        "for i in range(0, max_size):\n",
        "   print(arr[i],end=\" \")"
      ],
      "metadata": {
        "id": "XxwmJ1YJENFC"
      },
      "execution_count": null,
      "outputs": []
    },
    {
      "cell_type": "code",
      "source": [
        "def compute_lcm(x, y):\n",
        "\n",
        "   # choose the greater number\n",
        "   if x > y:\n",
        "       greater = x\n",
        "   else:\n",
        "       greater = y\n",
        "\n",
        "   while(True):\n",
        "       if((greater % x == 0) and (greater % y == 0)):\n",
        "           lcm = greater\n",
        "           break\n",
        "       greater += 1\n",
        "\n",
        "   return lcm\n",
        "\n",
        "num1 = int(input(\"Enter a number\"))\n",
        "num2 = int(input(\"Enter a number\"))\n",
        "\n",
        "print(\"The L.C.M. is\", compute_lcm(num1,num2))"
      ],
      "metadata": {
        "id": "wskZvSUsENHs"
      },
      "execution_count": null,
      "outputs": []
    },
    {
      "cell_type": "code",
      "source": [
        "def compute_lcm(x, y):\n",
        "\n",
        "   # choose the greater number\n",
        "   if x > y:\n",
        "       greater = x\n",
        "   else:\n",
        "       greater = y\n",
        "\n",
        "   while(True):\n",
        "       if((greater % x == 0) and (greater % y == 0)):\n",
        "           lcm = greater\n",
        "           break\n",
        "       greater += 1\n",
        "\n",
        "   return lcm\n",
        "\n",
        "num1 = int(input(\"Enter a number\"))\n",
        "num2 = int(input(\"Enter a number\"))\n",
        "\n",
        "print(\"The L.C.M. is\", compute_lcm(num1,num2))"
      ],
      "metadata": {
        "id": "Csiz5J0vCY8z"
      },
      "execution_count": null,
      "outputs": []
    },
    {
      "cell_type": "code",
      "source": [
        "def isPalindrome(s):\n",
        "    return s == s[::-1]\n",
        "\n",
        "s = input(\"Enter a string\")\n",
        "ans = isPalindrome(s)\n",
        "\n",
        "if ans:\n",
        "    print(\"Yes\")\n",
        "else:\n",
        "   print(\"No\")"
      ],
      "metadata": {
        "id": "k5Tt161VFJ8J"
      },
      "execution_count": null,
      "outputs": []
    },
    {
      "cell_type": "code",
      "source": [],
      "metadata": {
        "id": "KEPswQctFJ-i"
      },
      "execution_count": null,
      "outputs": []
    },
    {
      "cell_type": "code",
      "source": [
        "17.x = input('Enter value of x: ')\n",
        "y = input('Enter value of y: ')\n",
        "temp = x\n",
        "x = y\n",
        "y = temp\n",
        "print('The value of x after swapping: {}'.format(x))\n",
        "print('The value of y after swapping: {}'.format(y))"
      ],
      "metadata": {
        "id": "UURoCMi1FKBJ"
      },
      "execution_count": null,
      "outputs": []
    },
    {
      "cell_type": "code",
      "source": [
        "x=int(input(\"Enter the first number:\"))\n",
        "y=int(input(\"Enter the second number:\"))\n",
        "if(x>y):\n",
        "    min1=x\n",
        "else:\n",
        "    min1=y\n",
        "while(1):\n",
        "    if(min1%x==0 and min1%y==0):\n",
        "        print(\"LCM is:\",min1)\n",
        "        break\n",
        "    min1=min1+1"
      ],
      "metadata": {
        "id": "EaZQjAyoFKDz"
      },
      "execution_count": null,
      "outputs": []
    },
    {
      "cell_type": "code",
      "source": [
        "import math\n",
        "a=int(input(\"Enter any value:\"))\n",
        "print (math.sqrt(a))"
      ],
      "metadata": {
        "id": "_eZncNqcFKGT"
      },
      "execution_count": null,
      "outputs": []
    },
    {
      "cell_type": "code",
      "source": [
        "num = 8\n",
        "\n",
        "# To take the input from the user\n",
        "#num = float(input('Enter a number: '))\n",
        "\n",
        "num_sqrt = num ** 0.5\n",
        "print('The square root of %0.3f is %0.3f'%(num,num_sqrt))n"
      ],
      "metadata": {
        "id": "Ue_R7jTTIES1"
      },
      "execution_count": null,
      "outputs": []
    },
    {
      "cell_type": "code",
      "source": [],
      "metadata": {
        "id": "FW3kFyKJIEE-"
      },
      "execution_count": null,
      "outputs": []
    },
    {
      "cell_type": "code",
      "source": [
        "string = \"PrepInsta\"\n",
        "\n",
        "vowels = ['a', 'e', 'i', 'o', 'u', 'A', 'E', 'I', 'O', 'U']\n",
        "result = \"\"\n",
        "\n",
        "for i in range(len(string)):\n",
        "    if string[i] not in vowels:\n",
        "        result = result + string[i]\n",
        "\n",
        "print(\"\\nAfter removing Vowels: \",result)"
      ],
      "metadata": {
        "id": "r1mBqTIYFKIu"
      },
      "execution_count": null,
      "outputs": []
    },
    {
      "cell_type": "code",
      "source": [],
      "metadata": {
        "id": "ze-DU2snFKLT"
      },
      "execution_count": null,
      "outputs": []
    },
    {
      "cell_type": "code",
      "source": [],
      "metadata": {
        "id": "q2REPu6OFKOD"
      },
      "execution_count": null,
      "outputs": []
    },
    {
      "cell_type": "code",
      "source": [],
      "metadata": {
        "id": "nBmYrTOOFKRc"
      },
      "execution_count": null,
      "outputs": []
    }
  ]
}