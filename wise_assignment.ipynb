{
  "nbformat": 4,
  "nbformat_minor": 0,
  "metadata": {
    "colab": {
      "provenance": [],
      "authorship_tag": "ABX9TyMMnKbHznKuj2rUUh4CecCy",
      "include_colab_link": true
    },
    "kernelspec": {
      "name": "python3",
      "display_name": "Python 3"
    },
    "language_info": {
      "name": "python"
    }
  },
  "cells": [
    {
      "cell_type": "markdown",
      "metadata": {
        "id": "view-in-github",
        "colab_type": "text"
      },
      "source": [
        "<a href=\"https://colab.research.google.com/github/23wh1a0535-sadhana/wise-assignments-submission/blob/main/wise_assignment.ipynb\" target=\"_parent\"><img src=\"https://colab.research.google.com/assets/colab-badge.svg\" alt=\"Open In Colab\"/></a>"
      ]
    },
    {
      "cell_type": "code",
      "source": [
        "number_to_guess = random.randint(1, 9)\n",
        "guessed = False\n",
        "\n",
        "while not guessed:\n",
        "    guess = int(input(\"Guess a number between 1 and 9: \"))\n",
        "    if guess == number_to_guess:\n",
        "        print(\"Congratulations! You guessed the correct number.\")\n",
        "        guessed = True\n",
        "    else:\n",
        "        print(\"Try again.\")"
      ],
      "metadata": {
        "colab": {
          "base_uri": "https://localhost:8080/"
        },
        "id": "2lGhr_5rQwJV",
        "outputId": "94e65726-04bd-4f2e-f868-657e0d435c85"
      },
      "execution_count": null,
      "outputs": [
        {
          "output_type": "stream",
          "name": "stdout",
          "text": [
            "Guess a number between 1 and 9: 4\n",
            "Try again.\n",
            "Guess a number between 1 and 9: 5\n",
            "Try again.\n",
            "Guess a number between 1 and 9: 6\n",
            "Try again.\n",
            "Guess a number between 1 and 9: 2\n",
            "Try again.\n",
            "Guess a number between 1 and 9: 8\n",
            "Try again.\n",
            "Guess a number between 1 and 9: 9\n",
            "Congratulations! You guessed the correct number.\n"
          ]
        }
      ]
    },
    {
      "cell_type": "code",
      "source": [
        "for i in range(1, 6):\n",
        "    print('* ' * i)\n",
        "for i in range(4, 0, -1):\n",
        "    print('* ' * i)"
      ],
      "metadata": {
        "colab": {
          "base_uri": "https://localhost:8080/"
        },
        "id": "GILga_r3QaSW",
        "outputId": "efa9d83a-70ca-47eb-8e9a-3e8429932d5b"
      },
      "execution_count": null,
      "outputs": [
        {
          "output_type": "stream",
          "name": "stdout",
          "text": [
            "* \n",
            "* * \n",
            "* * * \n",
            "* * * * \n",
            "* * * * * \n",
            "* * * * \n",
            "* * * \n",
            "* * \n",
            "* \n"
          ]
        }
      ]
    },
    {
      "cell_type": "code",
      "source": [
        "for i in range(7):\n",
        "    if i != 3 and i != 6:\n",
        "        print(i)"
      ],
      "metadata": {
        "colab": {
          "base_uri": "https://localhost:8080/"
        },
        "id": "xQdgQzJEQvQ0",
        "outputId": "b02a11f5-05dd-49dc-a667-9c42179cfd1c"
      },
      "execution_count": null,
      "outputs": [
        {
          "output_type": "stream",
          "name": "stdout",
          "text": [
            "0\n",
            "1\n",
            "2\n",
            "4\n",
            "5\n"
          ]
        }
      ]
    },
    {
      "cell_type": "code",
      "source": [
        "string = input(\"Enter a string: \")\n",
        "letters = sum(c.isalpha() for c in string)\n",
        "digits = sum(c.isdigit() for c in string)\n",
        "print(f\"Letters: {letters}, Digits: {digits}\")"
      ],
      "metadata": {
        "colab": {
          "base_uri": "https://localhost:8080/"
        },
        "id": "yIiISvEgQ75z",
        "outputId": "aa75204c-4ab1-4828-cfe5-3215f6857b54"
      },
      "execution_count": null,
      "outputs": [
        {
          "output_type": "stream",
          "name": "stdout",
          "text": [
            "Enter a string: ice\n",
            "Letters: 3, Digits: 0\n"
          ]
        }
      ]
    },
    {
      "cell_type": "code",
      "source": [
        "def factorial(n):\n",
        "    if n == 0:\n",
        "        return 1\n",
        "    return n * factorial(n - 1)\n",
        "\n",
        "num = int(input(\"Enter a number: \"))\n",
        "print(\"Factorial:\", factorial(num))"
      ],
      "metadata": {
        "colab": {
          "base_uri": "https://localhost:8080/"
        },
        "id": "el2FN3iSQ8RL",
        "outputId": "1c850802-bea1-44e8-9b65-97dd86d4a962"
      },
      "execution_count": null,
      "outputs": [
        {
          "output_type": "stream",
          "name": "stdout",
          "text": [
            "Enter a number: 5\n",
            "Factorial: 120\n"
          ]
        }
      ]
    },
    {
      "cell_type": "code",
      "source": [
        "import random\n",
        "\n",
        "initial_number = 25\n",
        "progression = [initial_number]\n",
        "\n",
        "for _ in range(4):  # Adjust the range to change the number of terms in the progression\n",
        "    initial_number += random.randint(1, 10)\n",
        "    progression.append(initial_number)\n",
        "    print(\"Random Arithmetic Progression:\")"
      ],
      "metadata": {
        "colab": {
          "base_uri": "https://localhost:8080/"
        },
        "id": "NAYDmYLbRUhN",
        "outputId": "44f8a3a8-0c26-41a2-f339-b5c3aa5cb088"
      },
      "execution_count": null,
      "outputs": [
        {
          "output_type": "stream",
          "name": "stdout",
          "text": [
            "Random Arithmetic Progression:\n",
            "Random Arithmetic Progression:\n",
            "Random Arithmetic Progression:\n",
            "Random Arithmetic Progression:\n"
          ]
        }
      ]
    },
    {
      "cell_type": "code",
      "source": [
        "word = input(\"Enter a word: \")\n",
        "reversed_word = word[::-1]\n",
        "print(\"Reversed word:\", reversed_word)"
      ],
      "metadata": {
        "colab": {
          "base_uri": "https://localhost:8080/"
        },
        "id": "88eqQ4tARnL8",
        "outputId": "1fa213fd-3e1e-4575-8bf9-e472be66d09e"
      },
      "execution_count": null,
      "outputs": [
        {
          "output_type": "stream",
          "name": "stdout",
          "text": [
            "Enter a word: word\n",
            "Reversed word: drow\n"
          ]
        }
      ]
    },
    {
      "cell_type": "code",
      "source": [
        "string = input(\"Enter a string: \")\n",
        "digits = sum(c.isdigit() for c in string)\n",
        "letters = sum(c.isalpha() for c in string)\n",
        "print(f\"Number of digits: {digits}\")\n",
        "print(f\"Number of letters: {letters}\")"
      ],
      "metadata": {
        "colab": {
          "base_uri": "https://localhost:8080/"
        },
        "id": "qfUHGOLHRw0q",
        "outputId": "a81946e6-feb1-4c0c-cab0-a71cf26857b0"
      },
      "execution_count": null,
      "outputs": [
        {
          "output_type": "stream",
          "name": "stdout",
          "text": [
            "Enter a string: number123\n",
            "Number of digits: 3\n",
            "Number of letters: 6\n"
          ]
        }
      ]
    },
    {
      "cell_type": "code",
      "source": [
        "alphabet = input(\"Enter an alphabet: \").lower()\n",
        "if alphabet.isalpha() and len(alphabet) == 1:\n",
        "    if alphabet in 'aeiou':\n",
        "        print(f\"{alphabet} is a vowel.\")\n",
        "    else:\n",
        "        print(f\"{alphabet} is a consonant.\")\n",
        "else:\n",
        "    print(\"Please enter a single alphabet character.\")"
      ],
      "metadata": {
        "colab": {
          "base_uri": "https://localhost:8080/"
        },
        "id": "i1M1a_sKSBOi",
        "outputId": "dd01b065-e7cf-42a5-da26-fc2a92077101"
      },
      "execution_count": null,
      "outputs": [
        {
          "output_type": "stream",
          "name": "stdout",
          "text": [
            "Enter an alphabet: a\n",
            "a is a vowel.\n"
          ]
        }
      ]
    },
    {
      "cell_type": "code",
      "source": [
        "month_name = input(\"Enter month name: \").lower()\n",
        "days_in_month = {\n",
        "    \"january\": 31, \"february\": 28, \"march\": 31, \"april\": 30,\n",
        "    \"may\": 31, \"june\": 30, \"july\": 31, \"august\": 31,\n",
        "    \"september\": 30, \"october\": 31, \"november\": 30, \"december\": 31\n",
        "}\n",
        "if month_name in days_in_month:\n",
        "    print(f\"Number of days in {month_name.capitalize()}: {days_in_month[month_name]}\")\n",
        "else:\n",
        "    print(\"Invalid month name entered.\")"
      ],
      "metadata": {
        "colab": {
          "base_uri": "https://localhost:8080/"
        },
        "id": "b9Ed-rhfSFtG",
        "outputId": "3d11e477-b78a-4d38-c2ec-2feb271a80cd"
      },
      "execution_count": null,
      "outputs": [
        {
          "output_type": "stream",
          "name": "stdout",
          "text": [
            "Enter month name: april\n",
            "Number of days in April: 30\n"
          ]
        }
      ]
    },
    {
      "cell_type": "code",
      "source": [
        "def is_leap_year(year):\n",
        "    return (year % 4 == 0 and year % 100 != 0) or (year % 400 == 0)\n",
        "\n",
        "def get_next_day(year, month, day):\n",
        "    days_in_month = [0, 31, 28, 31, 30, 31, 30, 31, 31, 30, 31, 30, 31]\n",
        "\n",
        "    if is_leap_year(year):\n",
        "        days_in_month[2] = 29\n",
        "\n",
        "    if day < days_in_month[month]:\n",
        "        return year, month, day + 1\n",
        "    else:\n",
        "        if month == 12:\n",
        "            return year + 1, 1, 1\n",
        "        else:\n",
        "            return year, month + 1, 1\n",
        "\n",
        "# Input date\n",
        "year = int(input(\"Enter year: \"))\n",
        "month = int(input(\"Enter month (1-12): \"))\n",
        "day = int(input(\"Enter day (1-31): \"))\n",
        "\n",
        "next_year, next_month, next_day = get_next_day(year, month, day)\n",
        "print(f\"The next day is: {next_year}-{next_month:02d}-{next_day:02d}\")"
      ],
      "metadata": {
        "colab": {
          "base_uri": "https://localhost:8080/"
        },
        "id": "DKZsSgXUSXSz",
        "outputId": "2e436d72-b4cc-43bb-ee64-f0960273e129"
      },
      "execution_count": null,
      "outputs": [
        {
          "output_type": "stream",
          "name": "stdout",
          "text": [
            "Enter year: 2016\n",
            "Enter month (1-12): 2\n",
            "Enter day (1-31): 22\n",
            "The next day is: 2016-02-23\n"
          ]
        }
      ]
    },
    {
      "cell_type": "markdown",
      "source": [
        "functions\n"
      ],
      "metadata": {
        "id": "F7nl5hhEBO2E"
      }
    },
    {
      "cell_type": "code",
      "source": [
        "def rainbow(s):\n",
        "    colours = \"\"\n",
        "    return(colours.join(s))\n",
        "s = [\" Voilet\",\" Indigo\",\" Blue\",\" Green\",\" Yellow\",\" Orange\",\" Red\"]\n",
        "print(rainbow(s))"
      ],
      "metadata": {
        "colab": {
          "base_uri": "https://localhost:8080/"
        },
        "id": "JDSkEcAXBXDn",
        "outputId": "74910c97-364e-4f4a-9d69-39e7daf52cf9"
      },
      "execution_count": 7,
      "outputs": [
        {
          "output_type": "stream",
          "name": "stdout",
          "text": [
            " Voilet Indigo Blue Green Yellow Orange Red\n"
          ]
        }
      ]
    },
    {
      "cell_type": "code",
      "source": [
        "#Reverse a string\n",
        "\n",
        "name =\"radhika\"[::-1]\n",
        "print(name)"
      ],
      "metadata": {
        "colab": {
          "base_uri": "https://localhost:8080/"
        },
        "id": "HYOaPNULBkUV",
        "outputId": "ad21f5e4-43b2-4461-c690-cd83b5ed28ca"
      },
      "execution_count": 8,
      "outputs": [
        {
          "output_type": "stream",
          "name": "stdout",
          "text": [
            "akihdar\n"
          ]
        }
      ]
    },
    {
      "cell_type": "code",
      "source": [
        "num = int(input(\"Enter a number\"))\n",
        "print(\"Given number :  \", num)\n",
        "list = [int(x) for x in str(num)]\n",
        "\n",
        "print(\"List of number: \\n\",list)"
      ],
      "metadata": {
        "colab": {
          "base_uri": "https://localhost:8080/"
        },
        "id": "p9tbzK-CBq6-",
        "outputId": "5cbbf206-4992-40cf-88a6-4ee08d2959d2"
      },
      "execution_count": 9,
      "outputs": [
        {
          "output_type": "stream",
          "name": "stdout",
          "text": [
            "Enter a number123\n",
            "Given number :   123\n",
            "List of number: \n",
            " [1, 2, 3]\n"
          ]
        }
      ]
    },
    {
      "cell_type": "code",
      "source": [
        "def right_angled(a, b, c):\n",
        "    if (a*a+b*b==c*c) or (c*c+b*b==a*a) or (a*a+c*c==b*b) :\n",
        "        return \"The triangle is right-angled.\"\n",
        "    else:\n",
        "        return \"The triangle is not right-angled.\"\n",
        "right_angled(3,4,5)"
      ],
      "metadata": {
        "colab": {
          "base_uri": "https://localhost:8080/",
          "height": 35
        },
        "id": "HP1McslpB1I8",
        "outputId": "db7118cf-119e-444b-a84d-7cd624446323"
      },
      "execution_count": 10,
      "outputs": [
        {
          "output_type": "execute_result",
          "data": {
            "text/plain": [
              "'The triangle is right-angled.'"
            ],
            "application/vnd.google.colaboratory.intrinsic+json": {
              "type": "string"
            }
          },
          "metadata": {},
          "execution_count": 10
        }
      ]
    },
    {
      "cell_type": "code",
      "source": [
        "string=input(\"Enter a string: \")\n",
        "list=[i for i in string]\n",
        "print(list)"
      ],
      "metadata": {
        "colab": {
          "base_uri": "https://localhost:8080/"
        },
        "id": "Lv_kLZ1QB6ZQ",
        "outputId": "99e3c697-7189-4728-a91a-eef7251a58bd"
      },
      "execution_count": 12,
      "outputs": [
        {
          "output_type": "stream",
          "name": "stdout",
          "text": [
            "Enter a string: string\n",
            "['s', 't', 'r', 'i', 'n', 'g']\n"
          ]
        }
      ]
    },
    {
      "cell_type": "code",
      "source": [
        "def listToString(s):\n",
        "    str1 = \"\"\n",
        "    for l in s:\n",
        "        str1 += l\n",
        "    return str1\n",
        "s = ['I', 'am', 'student']\n",
        "print(listToString(s))"
      ],
      "metadata": {
        "colab": {
          "base_uri": "https://localhost:8080/"
        },
        "id": "837PKCpCCO00",
        "outputId": "f39f11a6-c42b-4164-9ba1-c341885fcf8c"
      },
      "execution_count": 13,
      "outputs": [
        {
          "output_type": "stream",
          "name": "stdout",
          "text": [
            "Iamstudent\n"
          ]
        }
      ]
    },
    {
      "cell_type": "code",
      "source": [
        "string = input(\"Enter a string: \")\n",
        "count = 0\n",
        "for s in string:\n",
        "      count = count+1\n",
        "print(\"Length : \", count)"
      ],
      "metadata": {
        "colab": {
          "base_uri": "https://localhost:8080/"
        },
        "id": "yK2VKyKsC5st",
        "outputId": "41c43147-f80a-4471-992b-702e6f5bc546"
      },
      "execution_count": 20,
      "outputs": [
        {
          "output_type": "stream",
          "name": "stdout",
          "text": [
            "Enter a string: string\n",
            "Length :  6\n"
          ]
        }
      ]
    },
    {
      "cell_type": "code",
      "source": [
        "num = int(input(\"Enter number: \"))\n",
        "revs_number = 0\n",
        "while (num > 0):\n",
        "    remainder = num % 10\n",
        "    revs_number = (revs_number * 10) + remainder\n",
        "    num = num // 10\n",
        "print(\" reverse is :\",revs_number)"
      ],
      "metadata": {
        "colab": {
          "base_uri": "https://localhost:8080/"
        },
        "id": "WXxALMo-DOrf",
        "outputId": "ffa3ea61-00db-4c46-9269-9452db0a460f"
      },
      "execution_count": 21,
      "outputs": [
        {
          "output_type": "stream",
          "name": "stdout",
          "text": [
            "Enter number: 1234\n",
            " reverse is : 4321\n"
          ]
        }
      ]
    },
    {
      "cell_type": "code",
      "source": [
        "test_list = [ 'Cookies', 'Chocolate', 'Green', 'Apple']\n",
        "lengths = [len(s) for s in test_list]\n",
        "longest_index = lengths.index(max(lengths))\n",
        "longest_string = test_list[longest_index]\n",
        "print(\"Longest string is : \" + longest_string)"
      ],
      "metadata": {
        "colab": {
          "base_uri": "https://localhost:8080/"
        },
        "id": "QUWM_CggDXJm",
        "outputId": "e5ec9786-3ba6-4792-b7f1-2e514a837f9d"
      },
      "execution_count": 22,
      "outputs": [
        {
          "output_type": "stream",
          "name": "stdout",
          "text": [
            "Longest string is : Chocolate\n"
          ]
        }
      ]
    },
    {
      "cell_type": "code",
      "source": [
        "total = 0\n",
        "list1 = [11, 5, 17, 18, 23]\n",
        "for ele in range(0, len(list1)):\n",
        "    total = total + list1[ele]\n",
        "print(\"Sum of all elements in given list: \", total)"
      ],
      "metadata": {
        "colab": {
          "base_uri": "https://localhost:8080/"
        },
        "id": "AOoEuJRgDXhU",
        "outputId": "dd3c30dc-d552-4065-dcef-f0bbd012a92e"
      },
      "execution_count": 23,
      "outputs": [
        {
          "output_type": "stream",
          "name": "stdout",
          "text": [
            "Sum of all elements in given list:  74\n"
          ]
        }
      ]
    },
    {
      "cell_type": "code",
      "source": [
        "arr = [5, 9, 1, 10, 3, 8, 4, 2, 7, 6]\n",
        "temp = 0\n",
        "max_size = len(arr)\n",
        "print(\"The elements of the array before sorting: \");\n",
        "for i in range(0, max_size):\n",
        "   print(arr[i], end=\" \")\n",
        "\n",
        "print()\n",
        "for i in range(0, max_size):\n",
        "   for j in range(i+1, len(arr)):\n",
        "      if(arr[i] > arr[j]):\n",
        "         temp = arr[i]\n",
        "         arr[i] = arr[j]\n",
        "         arr[j] = temp\n",
        "print(\"The elements of the array after sorting: \")\n",
        "\n",
        "for i in range(0, max_size):\n",
        "   print(arr[i], end=\" \")"
      ],
      "metadata": {
        "colab": {
          "base_uri": "https://localhost:8080/"
        },
        "id": "K91HzDFaDmM2",
        "outputId": "f6a2b31a-f65f-4c6f-f35d-70f03e14dcf8"
      },
      "execution_count": 24,
      "outputs": [
        {
          "output_type": "stream",
          "name": "stdout",
          "text": [
            "The elements of the array before sorting: \n",
            "5 9 1 10 3 8 4 2 7 6 \n",
            "The elements of the array after sorting: \n",
            "1 2 3 4 5 6 7 8 9 10 "
          ]
        }
      ]
    },
    {
      "cell_type": "code",
      "source": [
        "def compute_lcm(x, y):\n",
        "\n",
        "   # choose the greater number\n",
        "   if x > y:\n",
        "       greater = x\n",
        "   else:\n",
        "       greater = y\n",
        "\n",
        "   while(True):\n",
        "       if((greater % x == 0) and (greater % y == 0)):\n",
        "           lcm = greater\n",
        "           break\n",
        "       greater += 1\n",
        "\n",
        "   return lcm\n",
        "\n",
        "num1 = int(input(\"Enter a number\"))\n",
        "num2 = int(input(\"Enter a number\"))\n",
        "\n",
        "print(\"The L.C.M. is\", compute_lcm(num1, num2))"
      ],
      "metadata": {
        "colab": {
          "base_uri": "https://localhost:8080/"
        },
        "id": "Y33CXTMZDtaG",
        "outputId": "f6f398ff-84ca-407a-9303-2dd918c69972"
      },
      "execution_count": 28,
      "outputs": [
        {
          "output_type": "stream",
          "name": "stdout",
          "text": [
            "Enter a number12\n",
            "Enter a number2\n",
            "The L.C.M. is 12\n"
          ]
        }
      ]
    },
    {
      "cell_type": "code",
      "source": [
        "def isPalindrome(s):\n",
        "    return s == s[::-1]\n",
        "\n",
        "s = input(\"Enter a string: \")\n",
        "ans = isPalindrome(s)\n",
        "\n",
        "if ans:\n",
        "    print(\"Yes\")\n",
        "else:\n",
        "    print(\"No\")"
      ],
      "metadata": {
        "colab": {
          "base_uri": "https://localhost:8080/"
        },
        "id": "oEBrz0JSEABl",
        "outputId": "bd5223bc-3a7e-4754-a2ff-72659de7e18c"
      },
      "execution_count": 30,
      "outputs": [
        {
          "output_type": "stream",
          "name": "stdout",
          "text": [
            "Enter a string: madam\n",
            "Yes\n"
          ]
        }
      ]
    },
    {
      "cell_type": "code",
      "source": [
        "x = input('Enter value of x: ')\n",
        "y = input('Enter value of y: ')\n",
        "temp = x\n",
        "x = y\n",
        "y = temp\n",
        "print('The value of x after swapping: {}'.format(x))\n",
        "print('The value of y after swapping: {}'.format(y))"
      ],
      "metadata": {
        "colab": {
          "base_uri": "https://localhost:8080/"
        },
        "id": "8ZrZ19MLEQSh",
        "outputId": "c7f760ff-5a2c-4234-99e0-ee307e3365e3"
      },
      "execution_count": 31,
      "outputs": [
        {
          "output_type": "stream",
          "name": "stdout",
          "text": [
            "Enter value of x: 12\n",
            "Enter value of y: 22\n",
            "The value of x after swapping: 22\n",
            "The value of y after swapping: 12\n"
          ]
        }
      ]
    }
  ]
}