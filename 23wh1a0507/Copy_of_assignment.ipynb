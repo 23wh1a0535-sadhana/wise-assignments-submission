{
  "nbformat": 4,
  "nbformat_minor": 0,
  "metadata": {
    "colab": {
      "provenance": []
    },
    "kernelspec": {
      "name": "python3",
      "display_name": "Python 3"
    },
    "language_info": {
      "name": "python"
    }
  },
  "cells": [
    {
      "cell_type": "code",
      "execution_count": null,
      "metadata": {
        "colab": {
          "base_uri": "https://localhost:8080/"
        },
        "id": "xkYzwsGMib_p",
        "outputId": "19e96f81-eade-4e7a-e1a7-b1d76bb30102"
      },
      "outputs": [
        {
          "output_type": "stream",
          "name": "stdout",
          "text": [
            "Guess a number between 1 and 9: 5\n",
            "Try again.\n",
            "Guess a number between 1 and 9: 1\n",
            "Try again.\n",
            "Guess a number between 1 and 9: 2\n",
            "Congratulations! You guessed the correct number.\n"
          ]
        }
      ],
      "source": [
        "#1 question\n",
        "import random\n",
        "\n",
        "number_to_guess = random.randint(1, 9)\n",
        "guessed = False\n",
        "\n",
        "while not guessed:\n",
        "    guess = int(input(\"Guess a number between 1 and 9: \"))\n",
        "    if guess == number_to_guess:\n",
        "        print(\"Congratulations! You guessed the correct number.\")\n",
        "        guessed = True\n",
        "    else:\n",
        "        print(\"Try again.\")"
      ]
    },
    {
      "cell_type": "code",
      "source": [
        "# 3 question\n",
        "for i in range(1, 6):\n",
        "    print('* ' * i)\n",
        "for i in range(4, 0, -1):\n",
        "    print('* ' * i)"
      ],
      "metadata": {
        "colab": {
          "base_uri": "https://localhost:8080/"
        },
        "id": "itsOx9ahjKyY",
        "outputId": "b1fee1df-799f-4498-9887-da961a095c50"
      },
      "execution_count": null,
      "outputs": [
        {
          "output_type": "stream",
          "name": "stdout",
          "text": [
            "* \n",
            "* * \n",
            "* * * \n",
            "* * * * \n",
            "* * * * * \n",
            "* * * * \n",
            "* * * \n",
            "* * \n",
            "* \n"
          ]
        }
      ]
    },
    {
      "cell_type": "code",
      "source": [
        "#question 4\n",
        "for i in range(7):\n",
        "    if i != 3 and i != 6:\n",
        "        print(i)"
      ],
      "metadata": {
        "colab": {
          "base_uri": "https://localhost:8080/"
        },
        "id": "d9NJVjDOj0xU",
        "outputId": "3f40a043-4089-4140-8be6-f832cb192cce"
      },
      "execution_count": null,
      "outputs": [
        {
          "output_type": "stream",
          "name": "stdout",
          "text": [
            "0\n",
            "1\n",
            "2\n",
            "4\n",
            "5\n"
          ]
        }
      ]
    },
    {
      "cell_type": "code",
      "source": [
        "#question 5\n",
        "string = input(\"Enter a string: \")\n",
        "letters = sum(c.isalpha() for c in string)\n",
        "digits = sum(c.isdigit() for c in string)\n",
        "print(f\"Letters: {letters}, Digits: {digits}\")"
      ],
      "metadata": {
        "colab": {
          "base_uri": "https://localhost:8080/"
        },
        "id": "vkOky79_j7TM",
        "outputId": "5c996c80-8964-4887-9fa9-af43a53977cb"
      },
      "execution_count": null,
      "outputs": [
        {
          "output_type": "stream",
          "name": "stdout",
          "text": [
            "Enter a string: pravallika\n",
            "Letters: 10, Digits: 0\n"
          ]
        }
      ]
    },
    {
      "cell_type": "code",
      "source": [
        "#question 6\n",
        "def factorial(n):\n",
        "    if n == 0:\n",
        "        return 1\n",
        "    return n * factorial(n - 1)\n",
        "\n",
        "num = int(input(\"Enter a number: \"))\n",
        "print(\"Factorial:\", factorial(num))\n"
      ],
      "metadata": {
        "colab": {
          "base_uri": "https://localhost:8080/"
        },
        "id": "aKoSulu0kIOU",
        "outputId": "9b368e31-bb4f-4034-b64f-6b98304cfc08"
      },
      "execution_count": null,
      "outputs": [
        {
          "output_type": "stream",
          "name": "stdout",
          "text": [
            "Enter a number: 5\n",
            "Factorial: 120\n"
          ]
        }
      ]
    },
    {
      "cell_type": "code",
      "source": [
        "#question 7\n",
        "import random\n",
        "\n",
        "def generate_arithmetic_progression(initial_number, common_difference, terms):\n",
        "    progression = [initial_number + i * common_difference for i in range(terms)]\n",
        "    return progression\n",
        "\n",
        "initial_number = 25\n",
        "common_difference = random.randint(1, 10) # You can adjust the range as needed\n",
        "terms = 5 # You can change the number of terms as needed\n",
        "\n",
        "random_ap = generate_arithmetic_progression(initial_number, common_difference, terms)\n",
        "print(f\"Random Arithmetic Progression: {random_ap}\")"
      ],
      "metadata": {
        "colab": {
          "base_uri": "https://localhost:8080/"
        },
        "id": "IZb7Qmc5kWCi",
        "outputId": "a0d9fce6-6347-4f24-f5af-338d6b84dc36"
      },
      "execution_count": null,
      "outputs": [
        {
          "output_type": "stream",
          "name": "stdout",
          "text": [
            "Random Arithmetic Progression: [25, 32, 39, 46, 53]\n"
          ]
        }
      ]
    },
    {
      "cell_type": "code",
      "source": [
        "#question 8\n",
        "word = input(\"Enter a word: \")\n",
        "reversed_word = word[::-1]\n",
        "print(\"Reversed word:\", reversed_word)"
      ],
      "metadata": {
        "colab": {
          "base_uri": "https://localhost:8080/"
        },
        "id": "QJ67IQJhlJU0",
        "outputId": "557157b5-134f-4ff5-f045-5a9251817856"
      },
      "execution_count": null,
      "outputs": [
        {
          "output_type": "stream",
          "name": "stdout",
          "text": [
            "Enter a word: hello\n",
            "Reversed word: olleh\n"
          ]
        }
      ]
    },
    {
      "cell_type": "code",
      "source": [
        "#question 10\n",
        "alphabet = input(\"Enter an alphabet: \").lower()\n",
        "if alphabet.isalpha() and len(alphabet) == 1:\n",
        "    if alphabet in 'aeiou':\n",
        "        print(f\"{alphabet} is a vowel.\")\n",
        "    else:\n",
        "        print(f\"{alphabet} is a consonant.\")\n",
        "else:\n",
        "    print(\"Please enter a single alphabet character.\")"
      ],
      "metadata": {
        "colab": {
          "base_uri": "https://localhost:8080/"
        },
        "id": "J7NCfC9klUhT",
        "outputId": "7d8b9404-6a6f-44c3-b756-cc748225d993"
      },
      "execution_count": null,
      "outputs": [
        {
          "output_type": "stream",
          "name": "stdout",
          "text": [
            "Enter an alphabet: H\n",
            "h is a consonant.\n"
          ]
        }
      ]
    },
    {
      "cell_type": "code",
      "source": [
        "#question 11\n",
        "month_name = input(\"Enter month name: \").lower()\n",
        "days_in_month = {\n",
        "    \"january\": 31, \"february\": 28, \"march\": 31, \"april\": 30,\n",
        "    \"may\": 31, \"june\": 30, \"july\": 31, \"august\": 31,\n",
        "    \"september\": 30, \"october\": 31, \"november\": 30, \"december\": 31\n",
        "}\n",
        "if month_name in days_in_month:\n",
        "    print(f\"Number of days in {month_name.capitalize()}: {days_in_month[month_name]}\")\n",
        "else:\n",
        "    print(\"Invalid month name entered.\")\n"
      ],
      "metadata": {
        "colab": {
          "base_uri": "https://localhost:8080/"
        },
        "id": "6Eu_LkXsljV9",
        "outputId": "848d7b96-c2fe-410a-a863-34423e33c07b"
      },
      "execution_count": null,
      "outputs": [
        {
          "output_type": "stream",
          "name": "stdout",
          "text": [
            "Enter month name: july\n",
            "Number of days in July: 31\n"
          ]
        }
      ]
    },
    {
      "cell_type": "code",
      "source": [
        "#question 12\n",
        "month = input(\"Input the month (e.g. January, February etc.): \")\n",
        "day = int(input(\"Input the day: \"))\n",
        "\n",
        "if month in ('January', 'February', 'March'):\n",
        " season = 'winter'\n",
        "elif month in ('April', 'May', 'June'):\n",
        " season = 'spring'\n",
        "elif month in ('July', 'August', 'September'):\n",
        " season = 'summer'\n",
        "else:\n",
        " season = 'autumn'\n",
        "\n",
        "if (month == 'March') and (day > 19):\n",
        " season = 'spring'\n",
        "elif (month == 'June') and (day > 20):\n",
        " season = 'summer'\n",
        "elif (month == 'September') and (day > 21):\n",
        " season = 'autumn'\n",
        "elif (month == 'December') and (day > 20):\n",
        " season = 'winter'\n",
        "\n",
        "print(\"season is\",season)"
      ],
      "metadata": {
        "colab": {
          "base_uri": "https://localhost:8080/"
        },
        "id": "wxQMhUallxis",
        "outputId": "e5f343c1-fc4c-4f03-dc24-632bb750964c"
      },
      "execution_count": null,
      "outputs": [
        {
          "output_type": "stream",
          "name": "stdout",
          "text": [
            "Input the month (e.g. January, February etc.): july\n",
            "Input the day: 26\n",
            "season is autumn\n"
          ]
        }
      ]
    },
    {
      "cell_type": "code",
      "source": [
        "#question 13\n",
        "\n",
        "def is_leap_year(year):\n",
        "    return (year % 4 == 0 and year % 100 != 0) or (year % 400 == 0)\n",
        "\n",
        "def get_next_day(year, month, day):\n",
        "    days_in_month = [0, 31, 28, 31, 30, 31, 30, 31, 31, 30, 31, 30, 31]\n",
        "\n",
        "    if is_leap_year(year):\n",
        "        days_in_month[2] = 29\n",
        "\n",
        "    if day < days_in_month[month]:\n",
        "        return year, month, day + 1\n",
        "    else:\n",
        "        if month == 12:\n",
        "            return year + 1, 1, 1\n",
        "        else:\n",
        "            return year, month + 1, 1\n",
        "\n",
        "# Input date\n",
        "year = int(input(\"Enter year: \"))\n",
        "month = int(input(\"Enter month (1-12): \"))\n",
        "day = int(input(\"Enter day (1-31): \"))\n",
        "\n",
        "next_year, next_month, next_day = get_next_day(year, month, day)\n",
        "print(f\"The next day is: {next_year}-{next_month:02d}-{next_day:02d}\")\n"
      ],
      "metadata": {
        "colab": {
          "base_uri": "https://localhost:8080/"
        },
        "id": "tSIS50xVmiZH",
        "outputId": "8e144c7a-dd40-4947-98e4-34b5802d1107"
      },
      "execution_count": null,
      "outputs": [
        {
          "output_type": "stream",
          "name": "stdout",
          "text": [
            "Enter year: 2006\n",
            "Enter month (1-12): 7\n",
            "Enter day (1-31): 26\n",
            "The next day is: 2006-07-27\n"
          ]
        }
      ]
    },
    {
      "cell_type": "code",
      "source": [
        "#question 14\n",
        "n = int(input(\"Enter a no\"))\n",
        "for i in range(1,11):\n",
        "    print(n,'x',i,'=',n*i)"
      ],
      "metadata": {
        "colab": {
          "base_uri": "https://localhost:8080/"
        },
        "id": "LAgciat5nWtc",
        "outputId": "13db67e1-300d-49e5-da9f-907729f35015"
      },
      "execution_count": null,
      "outputs": [
        {
          "output_type": "stream",
          "name": "stdout",
          "text": [
            "Enter a no5\n",
            "5 x 1 = 5\n",
            "5 x 2 = 10\n",
            "5 x 3 = 15\n",
            "5 x 4 = 20\n",
            "5 x 5 = 25\n",
            "5 x 6 = 30\n",
            "5 x 7 = 35\n",
            "5 x 8 = 40\n",
            "5 x 9 = 45\n",
            "5 x 10 = 50\n"
          ]
        }
      ]
    },
    {
      "cell_type": "code",
      "source": [
        "#question 15\n",
        "number = int(input(\"enter a no\"))\n",
        "i=number\n",
        "while(i>=1):\n",
        "    print(i)\n",
        "    i=i-1"
      ],
      "metadata": {
        "colab": {
          "base_uri": "https://localhost:8080/"
        },
        "id": "dO6T6eFHnz_s",
        "outputId": "54307aa3-f3a3-4e3f-980b-87f009539340"
      },
      "execution_count": null,
      "outputs": [
        {
          "output_type": "stream",
          "name": "stdout",
          "text": [
            "enter a no10\n",
            "10\n",
            "9\n",
            "8\n",
            "7\n",
            "6\n",
            "5\n",
            "4\n",
            "3\n",
            "2\n",
            "1\n"
          ]
        }
      ]
    },
    {
      "cell_type": "code",
      "source": [
        "#1 code\n",
        "side = int(input(\"Enter side of cube\"))\n",
        "volume = side**3\n",
        "print(volume)"
      ],
      "metadata": {
        "colab": {
          "base_uri": "https://localhost:8080/"
        },
        "id": "Foq3l41qo8yA",
        "outputId": "6ba3f39b-e5d2-40cf-fd55-b461b5311ed5"
      },
      "execution_count": null,
      "outputs": [
        {
          "output_type": "stream",
          "name": "stdout",
          "text": [
            "Enter side of cube5\n",
            "125\n"
          ]
        }
      ]
    },
    {
      "cell_type": "code",
      "source": [
        "# 2 code\n",
        "colors = [\"Violet\",\"Indigo\",\"Blue\",\"Green\",\"Yellow\",\"Orange\",\"Red\"]\n",
        "for color in colors:\n",
        "    print(color)"
      ],
      "metadata": {
        "colab": {
          "base_uri": "https://localhost:8080/"
        },
        "id": "-Ecg4oXisL6z",
        "outputId": "9079602b-4a7c-4789-c087-bc3e7425eae8"
      },
      "execution_count": null,
      "outputs": [
        {
          "output_type": "stream",
          "name": "stdout",
          "text": [
            "Violet\n",
            "Indigo\n",
            "Blue\n",
            "Green\n",
            "Yellow\n",
            "Orange\n",
            "Red\n"
          ]
        }
      ]
    },
    {
      "cell_type": "code",
      "source": [
        "#3 code\n",
        "def rev_string(s):\n",
        "    str = \" \"\n",
        "    for i in s:\n",
        "        str = i + str\n",
        "    return str\n",
        "s = \"Pravallika\"\n",
        "print(rev_string(s))"
      ],
      "metadata": {
        "colab": {
          "base_uri": "https://localhost:8080/"
        },
        "id": "GB4nySqqs4Lt",
        "outputId": "3a34ee8e-b86e-4ecf-b61a-20d31e47002c"
      },
      "execution_count": null,
      "outputs": [
        {
          "output_type": "stream",
          "name": "stdout",
          "text": [
            "akillavarP \n"
          ]
        }
      ]
    },
    {
      "cell_type": "code",
      "source": [
        "#4 code\n",
        "user_no = int(input(\"Enter a no\"))\n",
        "dig_list = [int(digit) for digit in str (user_no)]\n",
        "print(dig_list)"
      ],
      "metadata": {
        "colab": {
          "base_uri": "https://localhost:8080/"
        },
        "id": "2AgO9t6kt42Z",
        "outputId": "a4f41147-cbf4-40bf-98dc-de32529ad87c"
      },
      "execution_count": null,
      "outputs": [
        {
          "output_type": "stream",
          "name": "stdout",
          "text": [
            "Enter a no1234\n",
            "[1, 2, 3, 4]\n"
          ]
        }
      ]
    },
    {
      "cell_type": "code",
      "source": [
        "#5 code\n",
        "def right_angled(a, b, c):\n",
        "    if (a*a+b*b==c*c) or (c*c+b*b==a*a) or (a*a+c*c==b*b) :\n",
        "        return \"The triangle is right-angled.\"\n",
        "    else:\n",
        "        return \"The triangle is not right-angled.\"\n",
        "right_angled(90,90,0)"
      ],
      "metadata": {
        "colab": {
          "base_uri": "https://localhost:8080/",
          "height": 35
        },
        "id": "_6Cj-SAEwkyO",
        "outputId": "5d0d5b5f-ed10-4b3c-ba7d-0074d342feb4"
      },
      "execution_count": null,
      "outputs": [
        {
          "output_type": "execute_result",
          "data": {
            "text/plain": [
              "'The triangle is right-angled.'"
            ],
            "application/vnd.google.colaboratory.intrinsic+json": {
              "type": "string"
            }
          },
          "metadata": {},
          "execution_count": 25
        }
      ]
    },
    {
      "cell_type": "code",
      "source": [
        "#6 code\n",
        "s = \"Pravallika Karanam\"\n",
        "x = list(s)\n",
        "print(x)"
      ],
      "metadata": {
        "colab": {
          "base_uri": "https://localhost:8080/"
        },
        "id": "igslfOoswobU",
        "outputId": "0bda6ecf-d980-4dc0-939c-1805bbccaeb2"
      },
      "execution_count": null,
      "outputs": [
        {
          "output_type": "stream",
          "name": "stdout",
          "text": [
            "['P', 'r', 'a', 'v', 'a', 'l', 'l', 'i', 'k', 'a', ' ', 'K', 'a', 'r', 'a', 'n', 'a', 'm']\n"
          ]
        }
      ]
    },
    {
      "cell_type": "code",
      "source": [
        "#7 code\n",
        "list = [\"apple\",\"banana\",\"cherry\"]\n",
        "res_string = \" ,\".join(list)\n",
        "print(res_string)"
      ],
      "metadata": {
        "colab": {
          "base_uri": "https://localhost:8080/"
        },
        "id": "Lms7HYg8xRZH",
        "outputId": "3a239b10-bc0f-47bb-ec9e-4c70f53e1772"
      },
      "execution_count": null,
      "outputs": [
        {
          "output_type": "stream",
          "name": "stdout",
          "text": [
            "apple ,banana ,cherry\n"
          ]
        }
      ]
    },
    {
      "cell_type": "code",
      "source": [
        "# 8 code\n",
        "telangana_cities = [\"Hyderabad\", \"Warangal\", \"Karimnagar\", \"Nizamabad\", \"Khammam\", \"Ramagundam\", \"Mahbubnagar\"]\n",
        "\n",
        "user_city = input(\"Enter a city name: \")\n",
        "\n",
        "result = f\"{user_city} is in Telangana.\" if user_city.capitalize() in telangana_cities else f\"{user_city} is not in Telangana.\"\n",
        "\n",
        "print(result)"
      ],
      "metadata": {
        "colab": {
          "base_uri": "https://localhost:8080/"
        },
        "id": "Q1_xtMbJx8l6",
        "outputId": "ca896877-7198-434d-f12d-f5847c128a2b"
      },
      "execution_count": null,
      "outputs": [
        {
          "output_type": "stream",
          "name": "stdout",
          "text": [
            "Enter a city name: hyderabad\n",
            "hyderabad is in Telangana.\n"
          ]
        }
      ]
    },
    {
      "cell_type": "code",
      "source": [
        "#9 code\n",
        "str = input(\"Enter a string: \")\n",
        "\n",
        "# using len() function to find length of str\n",
        "print(\"Length of the input string is:\", len(str))\n"
      ],
      "metadata": {
        "colab": {
          "base_uri": "https://localhost:8080/"
        },
        "id": "3ebCTkdwzUDH",
        "outputId": "0a3f4ee8-dd49-4406-b410-ae952b1bb361"
      },
      "execution_count": 2,
      "outputs": [
        {
          "output_type": "stream",
          "name": "stdout",
          "text": [
            "Enter a string: hello\n",
            "Length of the input string is: 5\n"
          ]
        }
      ]
    },
    {
      "cell_type": "code",
      "source": [
        "#10 code\n",
        "num = 1234\n",
        "reversed_num = 0\n",
        "\n",
        "while num != 0:\n",
        "    digit = num % 10\n",
        "    reversed_num = reversed_num * 10 + digit\n",
        "    num //= 10\n",
        "\n",
        "print(\"Reversed Number: \" + str(reversed_num))\n"
      ],
      "metadata": {
        "colab": {
          "base_uri": "https://localhost:8080/"
        },
        "id": "g_bCZlmo060A",
        "outputId": "4f80a242-c88a-4637-b22a-cc97d04746fa"
      },
      "execution_count": null,
      "outputs": [
        {
          "output_type": "stream",
          "name": "stdout",
          "text": [
            "Reversed Number: 4321\n"
          ]
        }
      ]
    },
    {
      "cell_type": "code",
      "source": [
        "#11 code\n",
        "num_strings = int(input(\"Enter the number of strings: \"))\n",
        "string_list = []\n",
        "for i in range(num_strings):hellb\n",
        "    string = input(f\"Enter string {i + 1}: \")\n",
        "    string_list.append(string)\n",
        "largest_string = max(string_list, key=len)\n",
        "\n",
        "print(f\"The largest string is: {largest_string}\")\n",
        "\n"
      ],
      "metadata": {
        "colab": {
          "base_uri": "https://localhost:8080/"
        },
        "id": "PuEj4Au11LNu",
        "outputId": "d801c58f-3d05-46e7-d2c9-cca8a44738f0"
      },
      "execution_count": 1,
      "outputs": [
        {
          "output_type": "stream",
          "name": "stdout",
          "text": [
            "Enter the number of strings: 4\n",
            "Enter string 1: hi\n",
            "Enter string 2: hello\n",
            "Enter string 3: bye\n",
            "Enter string 4: hai\n",
            "The largest string is: hello\n"
          ]
        }
      ]
    },
    {
      "cell_type": "code",
      "source": [
        "#12 code\n",
        "numlist = [2,4,2,5,7,9,23,4,5]\n",
        "numsum = sum(numlist)\n",
        "print('Sum of List: ',numsum)\n",
        "# Example with start\n",
        "numsum = sum(numlist, 5)\n",
        "print('Sum of List: ',numsum)\n"
      ],
      "metadata": {
        "colab": {
          "base_uri": "https://localhost:8080/"
        },
        "id": "RhD6I4EG21vV",
        "outputId": "6538fd48-1c2f-49e8-d239-b1920e6992e7"
      },
      "execution_count": null,
      "outputs": [
        {
          "output_type": "stream",
          "name": "stdout",
          "text": [
            "Sum of List:  61\n",
            "Sum of List:  66\n"
          ]
        }
      ]
    },
    {
      "cell_type": "code",
      "source": [
        "#13 code\n",
        "arr = [5, 9, 1, 10, 3, 8, 4, 2, 7, 6]\n",
        "temp = 0\n",
        "max_size = len(arr)\n",
        "print(\"The elements of the array before sorting: \");\n",
        "for i in range(0, max_size):\n",
        "   print(arr[i], end=\" \")\n",
        "\n",
        "print()\n",
        "for i in range(0, max_size):\n",
        "   for j in range(i+1, len(arr)):\n",
        "      if(arr[i] > arr[j]):\n",
        "         temp = arr[i]\n",
        "         arr[i] = arr[j]\n",
        "         arr[j] = temp\n",
        "print(\"The elements of the array after sorting: \")\n",
        "\n",
        "for i in range(0, max_size):\n",
        "   print(arr[i], end=\" \")"
      ],
      "metadata": {
        "colab": {
          "base_uri": "https://localhost:8080/"
        },
        "id": "JgOqH_X73dmM",
        "outputId": "a3feb201-73e1-4a57-980e-3804a7a21d60"
      },
      "execution_count": null,
      "outputs": [
        {
          "output_type": "stream",
          "name": "stdout",
          "text": [
            "The elements of the array before sorting: \n",
            "5 9 1 10 3 8 4 2 7 6 \n",
            "The elements of the array after sorting: \n",
            "1 2 3 4 5 6 7 8 9 10 "
          ]
        }
      ]
    },
    {
      "cell_type": "code",
      "source": [
        "#14 code\n",
        "def compute_lcm(x, y):\n",
        "\n",
        "   # choose the greater number\n",
        "   if x > y:\n",
        "       greater = x\n",
        "   else:\n",
        "       greater = y\n",
        "\n",
        "   while(True):\n",
        "       if((greater % x == 0) and (greater % y == 0)):\n",
        "           lcm = greater\n",
        "           break\n",
        "       greater += 1\n",
        "\n",
        "   return lcm\n",
        "\n",
        "num1 = 54\n",
        "num2 = 24\n",
        "\n",
        "print(\"The L.C.M. is\", compute_lcm(num1, num2))\n"
      ],
      "metadata": {
        "colab": {
          "base_uri": "https://localhost:8080/"
        },
        "id": "LJbFLccY3tik",
        "outputId": "bd9e73a7-b2c5-4a0a-d2b3-0d6c32e2c155"
      },
      "execution_count": null,
      "outputs": [
        {
          "output_type": "stream",
          "name": "stdout",
          "text": [
            "The L.C.M. is 216\n"
          ]
        }
      ]
    },
    {
      "cell_type": "code",
      "source": [
        "#15 code\n",
        "def isPalindrome(str):\n",
        "\n",
        "    for i in range(0, int(len(str)/2)):\n",
        "        if str[i] != str[len(str)-i-1]:\n",
        "            return False\n",
        "    return True\n",
        "\n",
        "s = \"malayalam\"\n",
        "ans = isPalindrome(s)\n",
        "\n",
        "if (ans):\n",
        "    print(\"Yes\")\n",
        "else:\n",
        "    print(\"No\")\n"
      ],
      "metadata": {
        "colab": {
          "base_uri": "https://localhost:8080/"
        },
        "id": "RRcris3F39y8",
        "outputId": "1346c0e6-df91-460d-bdfb-1e7f46c41d7b"
      },
      "execution_count": null,
      "outputs": [
        {
          "output_type": "stream",
          "name": "stdout",
          "text": [
            "Yes\n"
          ]
        }
      ]
    },
    {
      "cell_type": "code",
      "source": [
        "#16 code\n",
        "\n",
        "num1 = 10\n",
        "num2 = 14\n",
        "num3 = 12\n",
        "\n",
        "\n",
        "if (num1 >= num2) and (num1 >= num3):\n",
        "   largest = num1\n",
        "elif (num2 >= num1) and (num2 >= num3):\n",
        "   largest = num2\n",
        "else:\n",
        "   largest = num3\n",
        "\n",
        "print(\"The largest number is\", largest)\n"
      ],
      "metadata": {
        "colab": {
          "base_uri": "https://localhost:8080/"
        },
        "id": "-rnASN4Y4Mzd",
        "outputId": "2ff11a61-7ff8-4ef8-90f4-30521e721ce2"
      },
      "execution_count": null,
      "outputs": [
        {
          "output_type": "stream",
          "name": "stdout",
          "text": [
            "The largest number is 14\n"
          ]
        }
      ]
    },
    {
      "cell_type": "code",
      "source": [
        "# 17 code\n",
        "\n",
        "x = 5\n",
        "y = 10\n",
        "temp = x\n",
        "x = y\n",
        "y = temp\n",
        "\n",
        "print('The value of x after swapping: {}'.format(x))\n",
        "print('The value of y after swapping: {}'.format(y))\n"
      ],
      "metadata": {
        "colab": {
          "base_uri": "https://localhost:8080/"
        },
        "id": "CdLU-e5K4x0O",
        "outputId": "2ffbf711-1096-475b-c9e6-e0b7c471ac4c"
      },
      "execution_count": null,
      "outputs": [
        {
          "output_type": "stream",
          "name": "stdout",
          "text": [
            "The value of x after swapping: 10\n",
            "The value of y after swapping: 5\n"
          ]
        }
      ]
    },
    {
      "cell_type": "code",
      "source": [
        "#18 code\n",
        "def DecimalToBinary(num):\n",
        "\n",
        "    if num >= 1:\n",
        "        DecimalToBinary(num // 2)\n",
        "    print(num % 2, end = '')\n",
        "if __name__ == '__main__':\n",
        "\n",
        "    dec_val = 24\n",
        "\n",
        "    DecimalToBinary(dec_val)"
      ],
      "metadata": {
        "colab": {
          "base_uri": "https://localhost:8080/"
        },
        "id": "5iwC6iLo4964",
        "outputId": "d8c6bdeb-c229-4bb5-cdf7-42096cfd4cc8"
      },
      "execution_count": null,
      "outputs": [
        {
          "output_type": "stream",
          "name": "stdout",
          "text": [
            "011000"
          ]
        }
      ]
    },
    {
      "cell_type": "code",
      "source": [
        "#19 code\n",
        "n = 4\n",
        "\n",
        "\n",
        "square = n ** 2\n",
        "\n",
        "print(square)"
      ],
      "metadata": {
        "id": "Ql49auX05RG1"
      },
      "execution_count": null,
      "outputs": []
    },
    {
      "cell_type": "code",
      "source": [
        "#20 code\n",
        "input_string = \"Pravallika\"\n",
        "print(\"The input string is:\", input_string)\n",
        "mySet = set(input_string)\n",
        "for element in mySet:\n",
        "    countOfChar = 0\n",
        "    for character in input_string:\n",
        "        if character == element:\n",
        "            countOfChar += 1\n",
        "    print(\"Count of character '{}' is {}\".format(element, countOfChar))\n"
      ],
      "metadata": {
        "colab": {
          "base_uri": "https://localhost:8080/"
        },
        "id": "7yrVlr495c9E",
        "outputId": "145f810a-2b12-4b46-b629-4f45f03232db"
      },
      "execution_count": null,
      "outputs": [
        {
          "output_type": "stream",
          "name": "stdout",
          "text": [
            "The input string is: Pravallika\n",
            "Count of character 'a' is 3\n",
            "Count of character 'i' is 1\n",
            "Count of character 'P' is 1\n",
            "Count of character 'l' is 2\n",
            "Count of character 'v' is 1\n",
            "Count of character 'r' is 1\n",
            "Count of character 'k' is 1\n"
          ]
        }
      ]
    },
    {
      "cell_type": "code",
      "source": [
        "string = \"Hello\"\n",
        "\n",
        "vowels = ['a', 'e', 'i', 'o', 'u', 'A', 'E', 'I', 'O', 'U']\n",
        "result = \"\"\n",
        "\n",
        "for i in range(len(string)):\n",
        "    if string[i] not in vowels:\n",
        "        result = result + string[i]\n",
        "\n",
        "print(\"\\nAfter removing Vowels: \", result)\n"
      ],
      "metadata": {
        "colab": {
          "base_uri": "https://localhost:8080/"
        },
        "id": "mLDHD84u6SYH",
        "outputId": "8af63d70-ce16-41d3-86da-89bd616010e0"
      },
      "execution_count": null,
      "outputs": [
        {
          "output_type": "stream",
          "name": "stdout",
          "text": [
            "\n",
            "After removing Vowels:  Hll\n"
          ]
        }
      ]
    }
  ]
}