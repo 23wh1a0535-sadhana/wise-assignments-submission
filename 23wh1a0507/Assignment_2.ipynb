{
  "nbformat": 4,
  "nbformat_minor": 0,
  "metadata": {
    "colab": {
      "provenance": []
    },
    "kernelspec": {
      "name": "python3",
      "display_name": "Python 3"
    },
    "language_info": {
      "name": "python"
    }
  },
  "cells": [
    {
      "cell_type": "code",
      "execution_count": 1,
      "metadata": {
        "colab": {
          "base_uri": "https://localhost:8080/"
        },
        "id": "gvu2lks7vhBn",
        "outputId": "1f4223f5-e17f-495b-872f-c4c443e7f5c0"
      },
      "outputs": [
        {
          "output_type": "stream",
          "name": "stdout",
          "text": [
            "1.Rice dishes = dict_keys(['1.Veg Fries Rice', '2.Veg Biryani', '3.Veg Pulao', '4.Ghee Rice', '5.Curd Rice'])\n",
            "2.Chicken dishes = dict_keys(['1.Chicken Biryani', '2.Chicken Mandi', '3.Chicken Lollipop', '4.Chicken 65', '5.Chicken Shawarma'])\n",
            "3.Noodles dishes = dict_keys(['1.Veg Noodles', '2.Mushroom Noodles', '3.Chicken Noodles', '4.Egg Noodles'])\n",
            "Enter your Choice for above dishes :1\n",
            "1.Veg Fries Rice\n",
            "2.Veg Biryani\n",
            "3.Veg Pulao\n",
            "4.Ghee Rice\n",
            "5.Curd Rice\n",
            "Enter your choice in above varieties :2\n",
            "Price = 250\n"
          ]
        }
      ],
      "source": [
        "def menu():\n",
        "    rice_dishes = {\"1.Veg Fries Rice\":180,\"2.Veg Biryani\":250,\"3.Veg Pulao\":220,\"4.Ghee Rice\":120,\"5.Curd Rice\":100}\n",
        "    chicken = {\"1.Chicken Biryani\":330,\"2.Chicken Mandi\":450,\"3.Chicken Lollipop\":220,\"4.Chicken 65\":250,\"5.Chicken Shawarma\":180}\n",
        "    noodles = {\"1.Veg Noodles\":170,\"2.Mushroom Noodles\":190,\"3.Chicken Noodles\":200,\"4.Egg Noodles\":175}\n",
        "    print(f\"1.Rice dishes = {rice_dishes.keys()}\")\n",
        "    print(f\"2.Chicken dishes = {chicken.keys()}\")\n",
        "    print(f\"3.Noodles dishes = {noodles.keys()}\")\n",
        "    c = int (input(\"Enter your Choice for above dishes :\"))\n",
        "    if c == 1:\n",
        "        for x in rice_dishes:\n",
        "            print(x)\n",
        "        c1 = int(input(\"Enter your choice in above varieties :\"))\n",
        "        if c1 == 1:\n",
        "            print(f\"Price = {rice_dishes['1.Veg Fries Rice']}\")\n",
        "        elif c1 == 2:\n",
        "            print(f\"Price = {rice_dishes['2.Veg Biryani']}\")\n",
        "        elif c1 == 3:\n",
        "            print(f\"Price = {rice_dishes['3.Veg Pulao']}\")\n",
        "        elif c1 == 4:\n",
        "            print(f\"Price = {rice_dishes['4.Ghee Rice']}\")\n",
        "        elif c1 == 5:\n",
        "            print(f\"Price = {rice_dishes['5.Curd Rice']}\")\n",
        "        else:\n",
        "            print(\"Sorry! Invalid Choice\")\n",
        "\n",
        "    elif c==2:\n",
        "        for x in chicken:\n",
        "            print(x)\n",
        "        c2 = int(input(\"Enter your choice in above varieties :\"))\n",
        "        if c2 == 1:\n",
        "            print(f\"Price = {chicken['1.Chicken Biryani']}\")\n",
        "        elif c2 == 2:\n",
        "            print(f\"Price = {chicken['2.Chicken Mandi']}\")\n",
        "        elif c2 == 3:\n",
        "            print(f\"Price = {chicken['3.Chicken Lollipop']}\")\n",
        "        elif c2 == 4:\n",
        "            print(f\"Price = {chicken['4.Chicken 65']}\")\n",
        "        elif c2 == 5:\n",
        "            print(f\"Price = {chicken['5.Chicken Shawarma']}\")\n",
        "        else:\n",
        "            print(\"Sorry! Invalid Choice\")\n",
        "    elif c==3:\n",
        "        for x in noodles:\n",
        "            print(x)\n",
        "        c3 = int(input(\"Enter your choice in above varieties :\"))\n",
        "        if c3 == 1:\n",
        "            print(f\"Price = {noodles['1.Veg Noodles']}\")\n",
        "        elif c3 == 2:\n",
        "            print(f\"Price = {noodles['2.Mushroom Noodles']}\")\n",
        "        elif c3 == 3:\n",
        "            print(f\"Price = {noodles['3.Chicken Noodles']}\")\n",
        "        elif c3 == 4:\n",
        "            print(f\"Price = {noodles['4.Egg Noodles']}\")\n",
        "        else:\n",
        "            print(\"Sorry! Invalid Choice\")\n",
        "\n",
        "    else:\n",
        "        print(\"Sorry! Invalid Choice\")\n",
        "menu()\n"
      ]
    }
  ]
}