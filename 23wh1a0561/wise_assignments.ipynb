{
  "nbformat": 4,
  "nbformat_minor": 0,
  "metadata": {
    "colab": {
      "provenance": []
    },
    "kernelspec": {
      "name": "python3",
      "display_name": "Python 3"
    },
    "language_info": {
      "name": "python"
    }
  },
  "cells": [
    {
      "cell_type": "code",
      "execution_count": 1,
      "metadata": {
        "colab": {
          "base_uri": "https://localhost:8080/"
        },
        "id": "OCAcN4aBWUZo",
        "outputId": "bc5628d9-acb7-4097-fc86-f11a9eba302b"
      },
      "outputs": [
        {
          "name": "stdout",
          "output_type": "stream",
          "text": [
            "Enter side10\n"
          ]
        },
        {
          "output_type": "execute_result",
          "data": {
            "text/plain": [
              "1000"
            ]
          },
          "metadata": {},
          "execution_count": 1
        }
      ],
      "source": [
        "#AssginmentQ1\n",
        "def vol_cube(a):\n",
        "    volume = a**3\n",
        "    return volume\n",
        "s=int(input(\"Enter side\"))\n",
        "vol_cube(s)"
      ]
    },
    {
      "cell_type": "code",
      "source": [
        "#AssginmentQ2\n",
        "def rainbow(s):\n",
        "    colors = \"\"\n",
        "    return(colors.join(s))\n",
        "s = [\" Voilet\",\" Indigo\",\" Blue\",\" Green\",\" Yellow\",\" Orange\",\" Red\"]\n",
        "print(rainbow(s))"
      ],
      "metadata": {
        "colab": {
          "base_uri": "https://localhost:8080/"
        },
        "id": "BpVLU4LZXvkH",
        "outputId": "6cbe6178-1f38-4908-e3ce-f5eb9bfcbb67"
      },
      "execution_count": 2,
      "outputs": [
        {
          "output_type": "stream",
          "name": "stdout",
          "text": [
            " Voilet Indigo Blue Green Yellow Orange Red\n"
          ]
        }
      ]
    },
    {
      "cell_type": "code",
      "source": [
        "#AssignmentQ3\n",
        "word = input(\"Enter a word: \")\n",
        "reversed_word = word[::-1]\n",
        "print(\"Reversed word:\", reversed_word)"
      ],
      "metadata": {
        "colab": {
          "base_uri": "https://localhost:8080/"
        },
        "id": "WV4Y53EOYMi8",
        "outputId": "e08b10ab-258a-4667-8d40-f5a7285a07ee"
      },
      "execution_count": 5,
      "outputs": [
        {
          "output_type": "stream",
          "name": "stdout",
          "text": [
            "Enter a word: abcd\n",
            "Reversed word: dcba\n"
          ]
        }
      ]
    },
    {
      "cell_type": "code",
      "source": [
        "#AssignmentQ4\n",
        "num = int(input(\"Enter a number\"))\n",
        "print(\"Given number : \\n\", num)\n",
        "res = [int(x) for x in str(num)]\n",
        "# Result\n",
        "print(\"List of number: \\n\",res)"
      ],
      "metadata": {
        "colab": {
          "base_uri": "https://localhost:8080/"
        },
        "id": "iXx3kc3WYWoT",
        "outputId": "d12a09a2-a00b-477e-fd7a-9a9e0a707ceb"
      },
      "execution_count": 6,
      "outputs": [
        {
          "output_type": "stream",
          "name": "stdout",
          "text": [
            "Enter a number987\n",
            "Given number : \n",
            " 987\n",
            "List of number: \n",
            " [9, 8, 7]\n"
          ]
        }
      ]
    },
    {
      "cell_type": "code",
      "source": [
        "#AssignmentQ5\n",
        "def right_angled(a, b, c):\n",
        "    if (a*a+b*b==c*c) or (c*c+b*b==a*a) or (a*a+c*c==b*b) :\n",
        "        return \"The triangle is right-angled.\"\n",
        "    else:\n",
        "        return \"The triangle is not right-angled.\"\n",
        "right_angled(3,4,5)"
      ],
      "metadata": {
        "colab": {
          "base_uri": "https://localhost:8080/",
          "height": 35
        },
        "id": "JC_jAynSYfM8",
        "outputId": "d9d71748-97c3-4f1c-dcf8-96fc846eb583"
      },
      "execution_count": 7,
      "outputs": [
        {
          "output_type": "execute_result",
          "data": {
            "text/plain": [
              "'The triangle is right-angled.'"
            ],
            "application/vnd.google.colaboratory.intrinsic+json": {
              "type": "string"
            }
          },
          "metadata": {},
          "execution_count": 7
        }
      ]
    },
    {
      "cell_type": "code",
      "source": [
        "#AssignmentQ6\n",
        "s=input(\"Enter a string\")\n",
        "x=[i for i in s]\n",
        "print(x)"
      ],
      "metadata": {
        "colab": {
          "base_uri": "https://localhost:8080/"
        },
        "id": "3dq85ui7YuLH",
        "outputId": "20613e76-cd7a-48df-a3f7-3b6dff39b788"
      },
      "execution_count": 8,
      "outputs": [
        {
          "output_type": "stream",
          "name": "stdout",
          "text": [
            "Enter a stringabcde\n",
            "['a', 'b', 'c', 'd', 'e']\n"
          ]
        }
      ]
    },
    {
      "cell_type": "code",
      "source": [
        "#AssignmentQ7\n",
        "def listToString(s):\n",
        "    str1 = \"\"\n",
        "    for l in s:\n",
        "        str1 += l\n",
        "    return str1\n",
        "s = ['I', 'am', 'student']\n",
        "print(listToString(s))"
      ],
      "metadata": {
        "colab": {
          "base_uri": "https://localhost:8080/"
        },
        "id": "8aEr5YBhZEDS",
        "outputId": "83036bc8-0ca8-4c91-e4ff-70eabd5227e6"
      },
      "execution_count": 9,
      "outputs": [
        {
          "output_type": "stream",
          "name": "stdout",
          "text": [
            "Iamstudent\n"
          ]
        }
      ]
    },
    {
      "cell_type": "code",
      "source": [
        "#AssignmentQ8\n",
        "c=0;\n",
        "cname=input(\"Enter a city name\")\n",
        "cities=[Hyderabad,Secunderabad,Warangal]\n",
        "while cname in cities:\n",
        "      c=1\n",
        "if(c==1):\n",
        "    print(\"Present in State of Telangana\")"
      ],
      "metadata": {
        "id": "Z5iTN4jwaJBX"
      },
      "execution_count": null,
      "outputs": []
    },
    {
      "cell_type": "code",
      "source": [
        "#AssignmentQ9\n",
        "str = input(\"Enter a string: \")\n",
        "counter = 0\n",
        "for s in str:\n",
        "      counter = counter+1\n",
        "print(\"Length of the input string is:\", counter)"
      ],
      "metadata": {
        "colab": {
          "base_uri": "https://localhost:8080/"
        },
        "id": "VzbUqAmwaQip",
        "outputId": "1145d3df-b54c-4697-ee0f-2c3debae660f"
      },
      "execution_count": 15,
      "outputs": [
        {
          "output_type": "stream",
          "name": "stdout",
          "text": [
            "Enter a string: Hyderabad\n",
            "Length of the input string is: 9\n"
          ]
        }
      ]
    },
    {
      "cell_type": "code",
      "source": [
        "#AssignmentQ10\n",
        "number = int(input(\"Enter the integer number: \"))\n",
        "revs_number = 0\n",
        "while (number > 0):\n",
        "    remainder = number % 10\n",
        "    revs_number = (revs_number * 10) + remainder\n",
        "    number = number // 10\n",
        "print(\"The reverse number is :\",revs_number)"
      ],
      "metadata": {
        "colab": {
          "base_uri": "https://localhost:8080/"
        },
        "id": "o3Jgd1arX_Ur",
        "outputId": "9311cb12-9790-44d5-98cc-ddb9d4dddba2"
      },
      "execution_count": 4,
      "outputs": [
        {
          "output_type": "stream",
          "name": "stdout",
          "text": [
            "Enter the integer number: 2345\n",
            "The reverse number is : 5432\n"
          ]
        }
      ]
    },
    {
      "cell_type": "code",
      "source": [
        "#AssignmentQ11\n",
        "test_list = [ 'Cookies', 'Chocolate', 'Green', 'Apple']\n",
        "lengths = [len(s) for s in test_list]\n",
        "longest_index = lengths.index(max(lengths))\n",
        "longest_string = test_list[longest_index]\n",
        "print(\"Longest string is : \" + longest_string)"
      ],
      "metadata": {
        "colab": {
          "base_uri": "https://localhost:8080/"
        },
        "id": "JvQMa4SIaZ6j",
        "outputId": "b2fa248a-7e67-473c-c1ad-b8a4fe5f1303"
      },
      "execution_count": 16,
      "outputs": [
        {
          "output_type": "stream",
          "name": "stdout",
          "text": [
            "Longest string is : Chocolate\n"
          ]
        }
      ]
    },
    {
      "cell_type": "code",
      "source": [
        "#AssignmentQ12\n",
        "total = 0\n",
        "list1 = [11, 5, 17, 18, 23]\n",
        "for ele in range(0, len(list1)):\n",
        "    total = total + list1[ele]\n",
        "print(\"Sum of all elements in given list: \", total)"
      ],
      "metadata": {
        "colab": {
          "base_uri": "https://localhost:8080/"
        },
        "id": "ODtQ5RlIakx8",
        "outputId": "159af426-e32a-4dac-96f4-34ca97434762"
      },
      "execution_count": 17,
      "outputs": [
        {
          "output_type": "stream",
          "name": "stdout",
          "text": [
            "Sum of all elements in given list:  74\n"
          ]
        }
      ]
    },
    {
      "cell_type": "code",
      "source": [
        "#AssignmentQ13\n",
        "arr = [5, 9, 1, 10, 3, 8, 4, 2, 7, 6]\n",
        "temp = 0\n",
        "max_size = len(arr)\n",
        "print(\"The elements of the array before sorting: \");\n",
        "for i in range(0, max_size):\n",
        "   print(arr[i], end=\" \")\n",
        "\n",
        "print()\n",
        "for i in range(0, max_size):\n",
        "   for j in range(i+1, len(arr)):\n",
        "      if(arr[i] > arr[j]):\n",
        "         temp = arr[i]\n",
        "         arr[i] = arr[j]\n",
        "         arr[j] = temp\n",
        "print(\"The elements of the array after sorting: \")\n",
        "\n",
        "for i in range(0, max_size):\n",
        "   print(arr[i], end=\" \")"
      ],
      "metadata": {
        "colab": {
          "base_uri": "https://localhost:8080/"
        },
        "id": "g3N3t8V9bDfw",
        "outputId": "eb52a516-e378-4895-c955-2bd06fdece95"
      },
      "execution_count": 18,
      "outputs": [
        {
          "output_type": "stream",
          "name": "stdout",
          "text": [
            "The elements of the array before sorting: \n",
            "5 9 1 10 3 8 4 2 7 6 \n",
            "The elements of the array after sorting: \n",
            "1 2 3 4 5 6 7 8 9 10 "
          ]
        }
      ]
    },
    {
      "cell_type": "code",
      "source": [
        "#AssignmentQ14\n",
        "def compute_lcm(x, y):\n",
        "\n",
        "   # choose the greater number\n",
        "   if x > y:\n",
        "       greater = x\n",
        "   else:\n",
        "       greater = y\n",
        "\n",
        "   while(True):\n",
        "       if((greater % x == 0) and (greater % y == 0)):\n",
        "           lcm = greater\n",
        "           break\n",
        "       greater += 1\n",
        "\n",
        "   return lcm\n",
        "\n",
        "num1 = int(input(\"Enter a number\"))\n",
        "num2 = int(input(\"Enter a number\"))\n",
        "\n",
        "print(\"The L.C.M. is\", compute_lcm(num1, num2))"
      ],
      "metadata": {
        "colab": {
          "base_uri": "https://localhost:8080/"
        },
        "id": "xWszIz4DbKIU",
        "outputId": "36716a12-79e7-4564-bd7e-1383197a53ac"
      },
      "execution_count": 20,
      "outputs": [
        {
          "output_type": "stream",
          "name": "stdout",
          "text": [
            "Enter a number20\n",
            "Enter a number30\n",
            "The L.C.M. is 60\n"
          ]
        }
      ]
    },
    {
      "cell_type": "code",
      "source": [
        "#AssignmentQ15\n",
        "def isPalindrome(s):\n",
        "    return s == s[::-1]\n",
        "\n",
        "s = input(\"Enter a string\")\n",
        "ans = isPalindrome(s)\n",
        "\n",
        "if ans:\n",
        "    print(\"Yes\")\n",
        "else:\n",
        "    print(\"No\")"
      ],
      "metadata": {
        "colab": {
          "base_uri": "https://localhost:8080/"
        },
        "id": "eurOARblbb1K",
        "outputId": "c3aef1f1-4528-4cf0-d297-6694d8e68dcb"
      },
      "execution_count": 21,
      "outputs": [
        {
          "output_type": "stream",
          "name": "stdout",
          "text": [
            "Enter a stringhello\n",
            "No\n"
          ]
        }
      ]
    },
    {
      "cell_type": "code",
      "source": [
        "#AssignmentQ16\n",
        "num1 = int(input(\"Enter first number: \"))\n",
        "num2 = int(input(\"Enter second number: \"))\n",
        "num3 = int(input(\"Enter Third number: \"))\n",
        "\n",
        "if (num1 >= num2) and (num1 >= num3):\n",
        "   largest = num1\n",
        "elif (num2 >= num1) and (num2 >= num3):\n",
        "   largest = num2\n",
        "else:\n",
        "   largest = num3\n",
        "\n",
        "print(\"The largest number is\", largest)"
      ],
      "metadata": {
        "colab": {
          "base_uri": "https://localhost:8080/"
        },
        "id": "NrtkuNPmblsQ",
        "outputId": "f91f452e-402a-49be-a7ed-34ccbd1e5e68"
      },
      "execution_count": 22,
      "outputs": [
        {
          "output_type": "stream",
          "name": "stdout",
          "text": [
            "Enter first number: 12\n",
            "Enter second number: 13\n",
            "Enter Third number: 14\n",
            "The largest number is 14\n"
          ]
        }
      ]
    },
    {
      "cell_type": "code",
      "source": [
        "#AssignmentQ17\n",
        "x = input('Enter value of x: ')\n",
        "y = input('Enter value of y: ')\n",
        "temp = x\n",
        "x = y\n",
        "y = temp\n",
        "print('The value of x after swapping: {}'.format(x))\n",
        "print('The value of y after swapping: {}'.format(y))"
      ],
      "metadata": {
        "colab": {
          "base_uri": "https://localhost:8080/"
        },
        "id": "A0MBoPaibuW9",
        "outputId": "2efbe250-e3ed-4f41-e5d7-8150f6ce1d13"
      },
      "execution_count": 23,
      "outputs": [
        {
          "output_type": "stream",
          "name": "stdout",
          "text": [
            "Enter value of x: 25\n",
            "Enter value of y: 12\n",
            "The value of x after swapping: 12\n",
            "The value of y after swapping: 25\n"
          ]
        }
      ]
    },
    {
      "cell_type": "code",
      "source": [
        "#AssignmentQ18\n",
        "def DecimalToBinary(num):\n",
        "\n",
        "    if num >= 1:\n",
        "        DecimalToBinary(num // 2)\n",
        "    print(num % 2, end = '')\n",
        "\n",
        "if __name__ == '__main__':\n",
        "\n",
        "    dec_val = 24\n",
        "    DecimalToBinary(dec_val)"
      ],
      "metadata": {
        "colab": {
          "base_uri": "https://localhost:8080/"
        },
        "id": "au3IHBsqb7oV",
        "outputId": "f44ca2b9-589c-4712-c137-c4dc62c0573b"
      },
      "execution_count": 24,
      "outputs": [
        {
          "output_type": "stream",
          "name": "stdout",
          "text": [
            "011000"
          ]
        }
      ]
    },
    {
      "cell_type": "code",
      "source": [
        "#AssignmentQ19\n",
        "import math\n",
        "x = int(input(\"Enter a number\"))\n",
        "y = math.sqrt(x)\n",
        "print(y)"
      ],
      "metadata": {
        "colab": {
          "base_uri": "https://localhost:8080/"
        },
        "id": "GVtrgZ91cEqZ",
        "outputId": "941193a6-94ee-4267-e187-0ae136b577b1"
      },
      "execution_count": 25,
      "outputs": [
        {
          "output_type": "stream",
          "name": "stdout",
          "text": [
            "Enter a number32\n",
            "5.656854249492381\n"
          ]
        }
      ]
    },
    {
      "cell_type": "code",
      "source": [
        "#AssignmentQ20\n",
        "count = 0\n",
        "my_string = input(\"Enter a string\")\n",
        "my_char = input(\"Enter a character\")\n",
        "for i in my_string:\n",
        "    if i == my_char:\n",
        "        count += 1\n",
        "print(count)"
      ],
      "metadata": {
        "colab": {
          "base_uri": "https://localhost:8080/"
        },
        "id": "oULhhslhcMiX",
        "outputId": "1576ed46-c787-45e9-d149-239567821753"
      },
      "execution_count": 26,
      "outputs": [
        {
          "output_type": "stream",
          "name": "stdout",
          "text": [
            "Enter a stringname\n",
            "Enter a characterroll\n",
            "0\n"
          ]
        }
      ]
    },
    {
      "cell_type": "code",
      "source": [
        "#AssignmentQ21\n",
        "string = input(\"Enter a string\")\n",
        "\n",
        "vowels = ['a', 'e', 'i', 'o', 'u', 'A', 'E', 'I', 'O', 'U']\n",
        "result = \"\"\n",
        "\n",
        "for i in range(len(string)):\n",
        "    if string[i] not in vowels:\n",
        "        result = result + string[i]\n",
        "\n",
        "print(\"\\nAfter removing Vowels: \", result)"
      ],
      "metadata": {
        "colab": {
          "base_uri": "https://localhost:8080/"
        },
        "id": "t6ON2aY2cghe",
        "outputId": "64778389-4ff9-4ab6-929b-dd8ccd0dc096"
      },
      "execution_count": 27,
      "outputs": [
        {
          "output_type": "stream",
          "name": "stdout",
          "text": [
            "Enter a stringsweet\n",
            "\n",
            "After removing Vowels:  swt\n"
          ]
        }
      ]
    },
    {
      "cell_type": "markdown",
      "source": [
        "#loops"
      ],
      "metadata": {
        "id": "10BtIy_-c5U5"
      }
    },
    {
      "cell_type": "code",
      "source": [
        "#1st code\n",
        "import random\n",
        "\n",
        "number_to_guess = random.randint(1, 9)\n",
        "guessed = False\n",
        "\n",
        "while not guessed:\n",
        "    guess = int(input(\"Guess a number between 1 and 9: \"))\n",
        "    if guess == number_to_guess:\n",
        "        print(\"Congratulations! You guessed the correct number.\")\n",
        "        guessed = True\n",
        "    else:\n",
        "        print(\"Try again.\")"
      ],
      "metadata": {
        "id": "TL29aVlqdYtV"
      },
      "execution_count": null,
      "outputs": []
    },
    {
      "cell_type": "code",
      "source": [
        "#2nd code\n",
        "for i in range(1,6):\n",
        "    for i in range(i):\n",
        "        print(\"* \"*i)\n",
        "    print(\"\\n\")"
      ],
      "metadata": {
        "colab": {
          "base_uri": "https://localhost:8080/"
        },
        "id": "bHwoes9adfIb",
        "outputId": "31053c61-c5ff-4213-a43d-41ed715b4f2a"
      },
      "execution_count": 32,
      "outputs": [
        {
          "output_type": "stream",
          "name": "stdout",
          "text": [
            "\n",
            "\n",
            "\n",
            "\n",
            "* \n",
            "\n",
            "\n",
            "\n",
            "* \n",
            "* * \n",
            "\n",
            "\n",
            "\n",
            "* \n",
            "* * \n",
            "* * * \n",
            "\n",
            "\n",
            "\n",
            "* \n",
            "* * \n",
            "* * * \n",
            "* * * * \n",
            "\n",
            "\n"
          ]
        }
      ]
    },
    {
      "cell_type": "code",
      "source": [
        "#3rd code\n",
        "for i in range(1, 6):\n",
        "    print('* ' * i)\n",
        "for i in range(4, 0, -1):\n",
        "    print('* ' * i)"
      ],
      "metadata": {
        "colab": {
          "base_uri": "https://localhost:8080/"
        },
        "id": "8qdkOZgzdnTZ",
        "outputId": "fac8d5de-89cb-4171-9844-a044f384bd35"
      },
      "execution_count": 34,
      "outputs": [
        {
          "output_type": "stream",
          "name": "stdout",
          "text": [
            "* \n",
            "* * \n",
            "* * * \n",
            "* * * * \n",
            "* * * * * \n",
            "* * * * \n",
            "* * * \n",
            "* * \n",
            "* \n"
          ]
        }
      ]
    },
    {
      "cell_type": "code",
      "source": [
        "#4th code\n",
        "for i in range(1,7):\n",
        "    if i != 3 and i != 6:\n",
        "        print(i)"
      ],
      "metadata": {
        "colab": {
          "base_uri": "https://localhost:8080/"
        },
        "id": "xmjD_EVLd44Z",
        "outputId": "da2efab5-51f8-440d-d40e-349b1c0901b6"
      },
      "execution_count": 36,
      "outputs": [
        {
          "output_type": "stream",
          "name": "stdout",
          "text": [
            "1\n",
            "2\n",
            "4\n",
            "5\n"
          ]
        }
      ]
    },
    {
      "cell_type": "code",
      "source": [
        "#5th code\n",
        "string = input(\"Enter a string: \")\n",
        "letters = sum(c.isalpha() for c in string)\n",
        "digits = sum(c.isdigit() for c in string)\n",
        "print(f\"Letters: {letters}, Digits: {digits}\")"
      ],
      "metadata": {
        "colab": {
          "base_uri": "https://localhost:8080/"
        },
        "id": "jngDHEpPd_Gj",
        "outputId": "25f9d4e8-190b-426c-b4cf-8cdbee857a70"
      },
      "execution_count": 37,
      "outputs": [
        {
          "output_type": "stream",
          "name": "stdout",
          "text": [
            "Enter a string: monday\n",
            "Letters: 6, Digits: 0\n"
          ]
        }
      ]
    },
    {
      "cell_type": "code",
      "source": [
        "#6th code\n",
        "def factorial(n):\n",
        "    if n == 0:\n",
        "        return 1\n",
        "    return n * factorial(n - 1)\n",
        "num = int(input(\"Enter a number: \"))\n",
        "print(\"Factorial:\", factorial(num))"
      ],
      "metadata": {
        "colab": {
          "base_uri": "https://localhost:8080/"
        },
        "id": "NgHEdH7qeHCz",
        "outputId": "55ab169a-767a-41ac-cd3a-f3f3a43ad339"
      },
      "execution_count": 39,
      "outputs": [
        {
          "output_type": "stream",
          "name": "stdout",
          "text": [
            "Enter a number: 20\n",
            "Factorial: 2432902008176640000\n"
          ]
        }
      ]
    },
    {
      "cell_type": "code",
      "source": [
        "#7th code\n",
        "import random\n",
        "\n",
        "initial_number = 25\n",
        "progression = [initial_number]\n",
        "\n",
        "for _ in range(4):  # Adjust the range to change the number of terms in the progression\n",
        "    initial_number += random.randint(1, 10)\n",
        "    progression.append(initial_number)\n",
        "\n",
        "print(\"Random Arithmetic Progression:\")"
      ],
      "metadata": {
        "colab": {
          "base_uri": "https://localhost:8080/"
        },
        "id": "R5kPGcqgeTq-",
        "outputId": "6eec20fd-6fb8-47f1-bf78-1025d1f4a8f5"
      },
      "execution_count": 40,
      "outputs": [
        {
          "output_type": "stream",
          "name": "stdout",
          "text": [
            "Random Arithmetic Progression:\n"
          ]
        }
      ]
    },
    {
      "cell_type": "code",
      "source": [
        "#8th code\n",
        "word = input(\"Enter a word: \")\n",
        "reversed_word = word[::-1]\n",
        "print(\"Reversed word:\", reversed_word)"
      ],
      "metadata": {
        "colab": {
          "base_uri": "https://localhost:8080/"
        },
        "id": "Jv-_89J-eeZa",
        "outputId": "30bbe27e-6d7a-442e-e5c5-6c3406e902d9"
      },
      "execution_count": 41,
      "outputs": [
        {
          "output_type": "stream",
          "name": "stdout",
          "text": [
            "Enter a word: doll\n",
            "Reversed word: llod\n"
          ]
        }
      ]
    },
    {
      "cell_type": "code",
      "source": [
        "#9th code\n",
        "string = input(\"Enter a string: \")\n",
        "digits = sum(c.isdigit() for c in string)\n",
        "letters = sum(c.isalpha() for c in string)\n",
        "print(f\"Number of digits: {digits}\")\n",
        "print(f\"Number of letters: {letters}\")"
      ],
      "metadata": {
        "colab": {
          "base_uri": "https://localhost:8080/"
        },
        "id": "LIKVzxekes-L",
        "outputId": "fb5c61eb-1e02-4efb-be6d-4eace3ccd543"
      },
      "execution_count": 42,
      "outputs": [
        {
          "output_type": "stream",
          "name": "stdout",
          "text": [
            "Enter a string: sunday\n",
            "Number of digits: 0\n",
            "Number of letters: 6\n"
          ]
        }
      ]
    },
    {
      "cell_type": "code",
      "source": [
        "#10th code\n",
        "alphabet = input(\"Enter an alphabet: \").lower()\n",
        "if alphabet.isalpha() and len(alphabet) == 1:\n",
        "    if alphabet in 'aeiou':\n",
        "        print(f\"{alphabet} is a vowel.\")\n",
        "    else:\n",
        "        print(f\"{alphabet} is a consonant.\")\n",
        "else:\n",
        "    print(\"Please enter a single alphabet character.\")"
      ],
      "metadata": {
        "colab": {
          "base_uri": "https://localhost:8080/"
        },
        "id": "S9ArOyQEe69Q",
        "outputId": "a74fa2cc-56d7-405c-8109-a94b1036749c"
      },
      "execution_count": 43,
      "outputs": [
        {
          "output_type": "stream",
          "name": "stdout",
          "text": [
            "Enter an alphabet: a\n",
            "a is a vowel.\n"
          ]
        }
      ]
    },
    {
      "cell_type": "code",
      "source": [
        "#11th code\n",
        "month_name = input(\"Enter month name: \").lower()\n",
        "days_in_month = {\n",
        "    \"january\": 31, \"february\": 28, \"march\": 31, \"april\": 30,\n",
        "    \"may\": 31, \"june\": 30, \"july\": 31, \"august\": 31,\n",
        "    \"september\": 30, \"october\": 31, \"november\": 30, \"december\": 31\n",
        "}\n",
        "if month_name in days_in_month:\n",
        "    print(f\"Number of days in {month_name.capitalize()}: {days_in_month[month_name]}\")\n",
        "else:\n",
        "    print(\"Invalid month name entered.\")"
      ],
      "metadata": {
        "colab": {
          "base_uri": "https://localhost:8080/"
        },
        "id": "aTWNEPd2fCp7",
        "outputId": "cd4fd76a-d8f4-4759-9b0d-722c5f4eaf69"
      },
      "execution_count": 45,
      "outputs": [
        {
          "output_type": "stream",
          "name": "stdout",
          "text": [
            "Enter month name: january\n",
            "Number of days in January: 31\n"
          ]
        }
      ]
    },
    {
      "cell_type": "code",
      "source": [
        "#12th code\n",
        "month = input(\"Input the month : \")\n",
        "day = int(input(\"Input the day: \"))\n",
        "\n",
        "if month in ('January', 'February', 'March'):\n",
        "\tseason = 'winter'\n",
        "elif month in ('April', 'May', 'June'):\n",
        "\tseason = 'spring'\n",
        "elif month in ('July', 'August', 'September'):\n",
        "\tseason = 'summer'\n",
        "else:\n",
        "\tseason = 'autumn'\n",
        "\n",
        "if (month == 'March') and (day > 19):\n",
        "\tseason = 'spring'\n",
        "elif (month == 'June') and (day > 20):\n",
        "\tseason = 'summer'\n",
        "elif (month == 'September') and (day > 21):\n",
        "\tseason = 'autumn'\n",
        "elif (month == 'December') and (day > 20):\n",
        "\tseason = 'winter'\n",
        "\n",
        "print(\"Season is\",season)"
      ],
      "metadata": {
        "colab": {
          "base_uri": "https://localhost:8080/"
        },
        "id": "B2011Z2RfVww",
        "outputId": "ac2bc39f-79cd-40c0-be8d-de7afa8c3ffa"
      },
      "execution_count": 46,
      "outputs": [
        {
          "output_type": "stream",
          "name": "stdout",
          "text": [
            "Input the month : october\n",
            "Input the day: 20\n",
            "Season is autumn\n"
          ]
        }
      ]
    },
    {
      "cell_type": "code",
      "source": [
        "#13th code\n",
        "def is_leap_year(year):\n",
        "    return (year % 4 == 0 and year % 100 != 0) or (year % 400 == 0)\n",
        "\n",
        "def get_next_day(year, month, day):\n",
        "    days_in_month = [0, 31, 28, 31, 30, 31, 30, 31, 31, 30, 31, 30, 31]\n",
        "\n",
        "    if is_leap_year(year):\n",
        "        days_in_month[2] = 29\n",
        "\n",
        "    if day < days_in_month[month]:\n",
        "        return year, month, day + 1\n",
        "    else:\n",
        "        if month == 12:\n",
        "            return year + 1, 1, 1\n",
        "        else:\n",
        "            return year, month + 1, 1\n",
        "\n",
        "# Input date\n",
        "year = int(input(\"Enter year: \"))\n",
        "month = int(input(\"Enter month (1-12): \"))\n",
        "day = int(input(\"Enter day (1-31): \"))\n",
        "\n",
        "next_year, next_month, next_day = get_next_day(year, month, day)\n",
        "print(f\"The next day is: {next_year}-{next_month:02d}-{next_day:02d}\")"
      ],
      "metadata": {
        "colab": {
          "base_uri": "https://localhost:8080/"
        },
        "id": "IA04JSfrfqXS",
        "outputId": "66054ae3-b6b9-48fe-e780-18ff260c274c"
      },
      "execution_count": 47,
      "outputs": [
        {
          "output_type": "stream",
          "name": "stdout",
          "text": [
            "Enter year: 2005\n",
            "Enter month (1-12): 1\n",
            "Enter day (1-31): 13\n",
            "The next day is: 2005-01-14\n"
          ]
        }
      ]
    },
    {
      "cell_type": "code",
      "source": [
        "#14th code\n",
        "n = int(input(\"Input a number: \"))\n",
        "for i in range(1,11):\n",
        "    print(n,'x',i,'=',n*i)"
      ],
      "metadata": {
        "colab": {
          "base_uri": "https://localhost:8080/"
        },
        "id": "A2K9C2Jqfz6j",
        "outputId": "01b4b860-450e-4e24-c806-2a6380162bde"
      },
      "execution_count": 48,
      "outputs": [
        {
          "output_type": "stream",
          "name": "stdout",
          "text": [
            "Input a number: 3\n",
            "3 x 1 = 3\n",
            "3 x 2 = 6\n",
            "3 x 3 = 9\n",
            "3 x 4 = 12\n",
            "3 x 5 = 15\n",
            "3 x 6 = 18\n",
            "3 x 7 = 21\n",
            "3 x 8 = 24\n",
            "3 x 9 = 27\n",
            "3 x 10 = 30\n"
          ]
        }
      ]
    },
    {
      "cell_type": "code",
      "source": [
        "#Code 15\n",
        "number = int(input(\"Please Enter any Number: \"))\n",
        "i = number\n",
        "while ( i >= 1):\n",
        "    print (i, end = '  ')\n",
        "    i = i - 1"
      ],
      "metadata": {
        "colab": {
          "base_uri": "https://localhost:8080/"
        },
        "id": "KdByEtJbf7kT",
        "outputId": "5baf9cbb-83fc-4c7d-a963-a19f2d5b3962"
      },
      "execution_count": 50,
      "outputs": [
        {
          "output_type": "stream",
          "name": "stdout",
          "text": [
            "Please Enter any Number: 10\n",
            "10  9  8  7  6  5  4  3  2  1  "
          ]
        }
      ]
    }
  ]
}