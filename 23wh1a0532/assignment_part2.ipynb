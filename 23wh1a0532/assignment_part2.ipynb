{
  "nbformat": 4,
  "nbformat_minor": 0,
  "metadata": {
    "colab": {
      "provenance": []
    },
    "kernelspec": {
      "name": "python3",
      "display_name": "Python 3"
    },
    "language_info": {
      "name": "python"
    }
  },
  "cells": [
    {
      "cell_type": "code",
      "execution_count": 1,
      "metadata": {
        "colab": {
          "base_uri": "https://localhost:8080/"
        },
        "id": "Rx8pCOWVjpL3",
        "outputId": "7c31073d-452e-463f-a6e4-7f07ef6471ac"
      },
      "outputs": [
        {
          "output_type": "stream",
          "name": "stdout",
          "text": [
            "enter number :6\n",
            "wrong number\n",
            "enter number :3\n",
            "you have guessed the number\n"
          ]
        }
      ],
      "source": [
        "#loops\n",
        "# 8. Write a Python program to guess a number between 1 and 9\n",
        "random = 3\n",
        "while 1 :\n",
        "    num =int(input(\"enter number :\"))\n",
        "    if random == num :\n",
        "        print(\"you have guessed the number\")\n",
        "        break\n",
        "    else :\n",
        "        print(\"wrong number\")\n",
        "\n"
      ]
    },
    {
      "cell_type": "code",
      "source": [
        "# 9. Write a Python program that reads two integers representing a month and day and prints the season for that month and day.\n",
        "month = int(input(\"enter month number : \"))\n",
        "day = int(input(\"enter day : \"))\n",
        "if (month in (1,2)) or ((month == 3) and (day <= 19)) or ((month == 12) and (day > 20)):\n",
        "\tseason = 'winter'\n",
        "elif (month in (3,4, 5)) or ((month == 6) and (day <= 20)):\n",
        "\tseason = 'spring'\n",
        "elif (month in (6, 7,8 )) or ((month == 9) and (day <= 21)):\n",
        "\tseason = 'summer'\n",
        "else:\n",
        "\tseason = 'autumn'\n",
        "print(season)\n"
      ],
      "metadata": {
        "colab": {
          "base_uri": "https://localhost:8080/"
        },
        "id": "V3wjhZerkk7f",
        "outputId": "6f54e425-f944-4ad6-838b-eaf32df4bc07"
      },
      "execution_count": 2,
      "outputs": [
        {
          "output_type": "stream",
          "name": "stdout",
          "text": [
            "enter month number : 4\n",
            "enter day : 12\n",
            "spring\n"
          ]
        }
      ]
    },
    {
      "cell_type": "code",
      "source": [
        "# fuctions\n",
        "# 14.Write a program to convert a string into a list .\n",
        "def strtolist(string):\n",
        "    List = list(string)\n",
        "    return List\n",
        "print(strtolist(\"vaishnavi\"))\n",
        "\n"
      ],
      "metadata": {
        "colab": {
          "base_uri": "https://localhost:8080/"
        },
        "id": "Q7iD8HHBkzOj",
        "outputId": "88e04b1d-5e3a-4d5b-818d-7d777855a45b"
      },
      "execution_count": 3,
      "outputs": [
        {
          "output_type": "stream",
          "name": "stdout",
          "text": [
            "['v', 'a', 'i', 's', 'h', 'n', 'a', 'v', 'i']\n"
          ]
        }
      ]
    },
    {
      "cell_type": "code",
      "source": [
        "# 15.program to calculate the volume of a cube\n",
        "def vol_of_cube(side) :\n",
        "    volume = side**3\n",
        "    print(volume)\n",
        "vol_of_cube(5)\n",
        ""
      ],
      "metadata": {
        "colab": {
          "base_uri": "https://localhost:8080/"
        },
        "id": "dtZRNNdUlIzF",
        "outputId": "ba84784b-0f8d-4da2-b14c-1d077bf1164a"
      },
      "execution_count": 4,
      "outputs": [
        {
          "output_type": "stream",
          "name": "stdout",
          "text": [
            "125\n"
          ]
        }
      ]
    },
    {
      "cell_type": "code",
      "source": [
        "# 16.program to print 7 colours of rainbow\n",
        "def rainbow():\n",
        "    colours = [\"violet\",\"indigo\",\"blue\",\"green\",\"yellow\",\"orange\",\"red\"]\n",
        "    print(colours)\n",
        "rainbow()"
      ],
      "metadata": {
        "colab": {
          "base_uri": "https://localhost:8080/"
        },
        "id": "SlVu87yWlQbR",
        "outputId": "adcab543-98c7-4ef7-cfca-afe0cc871cf4"
      },
      "execution_count": 5,
      "outputs": [
        {
          "output_type": "stream",
          "name": "stdout",
          "text": [
            "['violet', 'indigo', 'blue', 'green', 'yellow', 'orange', 'red']\n"
          ]
        }
      ]
    },
    {
      "cell_type": "code",
      "source": [
        "# 17.Write a program to convert a decimal number to a binary number.\n",
        "def deci_to_binary(num):\n",
        "    binary = 0\n",
        "    while(num != 0):\n",
        "        rem = num % 2\n",
        "        binary = binary*10 + rem\n",
        "        num //= 2\n",
        "    return binary\n",
        "testnum = int (input(\"Enter a number: \"))\n",
        "print(deci_to_binary(testnum))\n"
      ],
      "metadata": {
        "colab": {
          "base_uri": "https://localhost:8080/"
        },
        "id": "3g682CODla_q",
        "outputId": "f2e55e4f-7169-4468-f670-0185e162c46a"
      },
      "execution_count": 6,
      "outputs": [
        {
          "output_type": "stream",
          "name": "stdout",
          "text": [
            "Enter a number: 6\n",
            "11\n"
          ]
        }
      ]
    },
    {
      "cell_type": "code",
      "source": [
        "\n",
        "# 18.Python program to remove vowels from the string\n",
        "def remove_vowel(string):\n",
        "    vowels = ['a' , 'e' , 'i' , 'o' , 'u' , 'A' , 'E' , 'I' , 'O' , 'U']\n",
        "    for x in string:\n",
        "        if x in vowels:\n",
        "            string = string.replace(x , \"\")\n",
        "    return string\n",
        "string = input(\"Enter a string: \")\n",
        "string = remove_vowel(string)\n",
        "print(string)\n",
        "\n"
      ],
      "metadata": {
        "colab": {
          "base_uri": "https://localhost:8080/"
        },
        "id": "KGypJIdElk3A",
        "outputId": "afa8c37b-2e72-4a8a-afb5-ef46ab145e20"
      },
      "execution_count": 7,
      "outputs": [
        {
          "output_type": "stream",
          "name": "stdout",
          "text": [
            "Enter a string: apple\n",
            "ppl\n"
          ]
        }
      ]
    },
    {
      "cell_type": "code",
      "source": [
        "# 19.Write a program to sort an array.\n",
        "def sortarray(List):\n",
        "    List.sort()\n",
        "    return List\n",
        "testlist = [11 , 22, 3  ,4  ,35 , 16]\n",
        "print(sortarray(testlist))\n",
        "\n"
      ],
      "metadata": {
        "colab": {
          "base_uri": "https://localhost:8080/"
        },
        "id": "gWy32eCklwPq",
        "outputId": "eec1852e-9bd3-4a5c-ba50-074b2778d743"
      },
      "execution_count": 8,
      "outputs": [
        {
          "output_type": "stream",
          "name": "stdout",
          "text": [
            "[3, 4, 11, 16, 22, 35]\n"
          ]
        }
      ]
    }
  ]
}