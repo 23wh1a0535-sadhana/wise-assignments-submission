{
  "nbformat": 4,
  "nbformat_minor": 0,
  "metadata": {
    "colab": {
      "provenance": []
    },
    "kernelspec": {
      "name": "python3",
      "display_name": "Python 3"
    },
    "language_info": {
      "name": "python"
    }
  },
  "cells": [
    {
      "cell_type": "code",
      "execution_count": null,
      "metadata": {
        "colab": {
          "base_uri": "https://localhost:8080/"
        },
        "id": "NW8LjP3qxvR6",
        "outputId": "be8d7ce0-76dd-475c-f6af-cf882d4583d7"
      },
      "outputs": [
        {
          "output_type": "stream",
          "name": "stdout",
          "text": [
            "0\n",
            "1\n",
            "2\n",
            "4\n",
            "5\n"
          ]
        }
      ],
      "source": [
        "# Write a Python program that prints all the numbers from 0 to 6 except 3 and 6\n",
        "for x in range(6) :\n",
        "    if x != 3 and x !=6 :\n",
        "        print(x)"
      ]
    },
    {
      "cell_type": "code",
      "source": [
        "#  Write a program to calculate factorial of a given number\n",
        "num = int(input(\"enter number :\"))\n",
        "fact = 1\n",
        "i=1\n",
        "while (i<=num) :\n",
        "    fact = fact*i\n",
        "    i+=1\n",
        "print(fact)"
      ],
      "metadata": {
        "colab": {
          "base_uri": "https://localhost:8080/"
        },
        "id": "8D_tXeZ6ytls",
        "outputId": "a4d97a8b-a88c-441f-fb4c-2910799bf24d"
      },
      "execution_count": null,
      "outputs": [
        {
          "output_type": "stream",
          "name": "stdout",
          "text": [
            "enter number :4\n",
            "24\n"
          ]
        }
      ]
    },
    {
      "cell_type": "code",
      "source": [
        "# Write a Python program that accepts a word from the user and reverses it\n",
        "word = (input(\"enter sentence :\"))\n",
        "s = word.split()[::-1]\n",
        "rev = []\n",
        "for i in s:\n",
        "    rev.append(i)\n",
        "print(\" \".join(rev))"
      ],
      "metadata": {
        "colab": {
          "base_uri": "https://localhost:8080/"
        },
        "id": "3CQUGnX4z9l5",
        "outputId": "d7a9218d-c734-4538-94a3-82ea8554ac27"
      },
      "execution_count": null,
      "outputs": [
        {
          "output_type": "stream",
          "name": "stdout",
          "text": [
            "enter sentence :hasini always smiles\n",
            "smiles always hasini\n"
          ]
        }
      ]
    },
    {
      "cell_type": "code",
      "source": [
        "#  Write a Python program to check whether an alphabet is a vowel or consonant\n",
        "alpha = input(\"enter alphabet :\")\n",
        "if alpha == \"a\"or alpha == \"e\" or alpha == \"i\" or alpha == \"o\" or alpha == \"u\" :\n",
        "    print(\"vowel\")\n",
        "else :\n",
        "    print(\"consonant\")"
      ],
      "metadata": {
        "colab": {
          "base_uri": "https://localhost:8080/"
        },
        "id": "d15JoPri0u4O",
        "outputId": "63cbceb8-417f-4c2e-906e-c16cfdec9060"
      },
      "execution_count": null,
      "outputs": [
        {
          "output_type": "stream",
          "name": "stdout",
          "text": [
            "enter alphabet :s\n",
            "consonant\n"
          ]
        }
      ]
    },
    {
      "cell_type": "code",
      "source": [
        "# 11th Write a Python program to convert a month name to a number of days\n",
        "print(\"List of months: January, February, March, April, May, June, July, August, September, October, November, December\")\n",
        "month_name = input(\"Input the name of Month: \")\n",
        "if month_name == \"February\":\n",
        "\tprint(\"No. of days: 28/29 days\")\n",
        "elif month_name in (\"April\", \"June\", \"September\", \"November\"):\n",
        "\tprint(\"No. of days: 30 days\")\n",
        "elif month_name in (\"January\", \"March\", \"May\", \"July\", \"August\", \"October\", \"December\"):\n",
        "\tprint(\"No. of days: 31 day\")\n",
        "else:\n",
        "\tprint(\"Wrong month name\")"
      ],
      "metadata": {
        "colab": {
          "base_uri": "https://localhost:8080/"
        },
        "id": "PIGOmGu70K2I",
        "outputId": "36a6c88b-8bae-4a87-f562-e8795f142da0"
      },
      "execution_count": null,
      "outputs": [
        {
          "output_type": "stream",
          "name": "stdout",
          "text": [
            "List of months: January, February, March, April, May, June, July, August, September, October, November, December\n",
            "Input the name of Month: April\n",
            "No. of days: 30 days\n"
          ]
        }
      ]
    },
    {
      "cell_type": "code",
      "source": [
        "#6th code\n",
        "def factorial(n):\n",
        "    if n == 0:\n",
        "        return 1\n",
        "    return n * factorial(n - 1)\n",
        "\n",
        "num = int(input(\"Enter a number: \"))\n",
        "print(\"Factorial:\", factorial(num))"
      ],
      "metadata": {
        "colab": {
          "base_uri": "https://localhost:8080/"
        },
        "id": "qES3ceEB1TFs",
        "outputId": "5ea9e007-b35b-446e-c4d0-da91b877021b"
      },
      "execution_count": null,
      "outputs": [
        {
          "output_type": "stream",
          "name": "stdout",
          "text": [
            "Enter a number: 3\n",
            "Factorial: 6\n"
          ]
        }
      ]
    },
    {
      "cell_type": "code",
      "source": [
        "#7th code\n",
        "import random\n",
        "\n",
        "initial_number = 25\n",
        "progression = [initial_number]\n",
        "\n",
        "for _ in range(4):  # Adjust the range to change the number of terms in the progression\n",
        "    initial_number += random.randint(1, 10)\n",
        "    progression.append(initial_number)\n",
        "\n",
        "print(\"Random Arithmetic Progression:\"),"
      ],
      "metadata": {
        "colab": {
          "base_uri": "https://localhost:8080/"
        },
        "id": "2Qcoiv9p2CVA",
        "outputId": "0f603408-5095-4676-88c6-b139a3321bec"
      },
      "execution_count": null,
      "outputs": [
        {
          "output_type": "stream",
          "name": "stdout",
          "text": [
            "Random Arithmetic Progression:\n"
          ]
        },
        {
          "output_type": "execute_result",
          "data": {
            "text/plain": [
              "(None,)"
            ]
          },
          "metadata": {},
          "execution_count": 13
        }
      ]
    },
    {
      "cell_type": "code",
      "source": [
        "#8th code\n",
        "the_input=input(\"enter the string:\")\n",
        "reversed=the_input[::-1]\n",
        "print(reversed)"
      ],
      "metadata": {
        "colab": {
          "base_uri": "https://localhost:8080/"
        },
        "id": "v7L9Y7Qy2NNW",
        "outputId": "a32b97dc-b1b5-46df-a468-f460d8d6d991"
      },
      "execution_count": null,
      "outputs": [
        {
          "output_type": "stream",
          "name": "stdout",
          "text": [
            "enter the string:sudheepthi\n",
            "ihtpeehdus\n"
          ]
        }
      ]
    },
    {
      "cell_type": "code",
      "source": [
        "#9th code\n",
        "string = input(\"Enter a string: \")\n",
        "digits = sum(c.isdigit() for c in string)\n",
        "letters = sum(c.isalpha() for c in string)\n",
        "print(f\"Number of digits: {digits}\")\n",
        "print(f\"Number of letters: {letters}\")"
      ],
      "metadata": {
        "colab": {
          "base_uri": "https://localhost:8080/"
        },
        "id": "Nq-_lcuE4Su0",
        "outputId": "7fba314b-3692-45d4-c2ff-71a4ebb7ef90"
      },
      "execution_count": null,
      "outputs": [
        {
          "output_type": "stream",
          "name": "stdout",
          "text": [
            "Enter a string: sudheepthi\n",
            "Number of digits: 0\n",
            "Number of letters: 10\n",
            "Enter a string: srijani\n",
            "Number of digits: 0\n",
            "Number of letters: 7\n"
          ]
        }
      ]
    },
    {
      "cell_type": "code",
      "source": [
        "#10th code\n",
        "alphabet = input(\"Enter an alphabet: \").lower()\n",
        "if alphabet.isalpha() and len(alphabet) == 1:\n",
        "    if alphabet in 'aeiou':\n",
        "        print(f\"{alphabet} is a vowel.\")\n",
        "    else:\n",
        "        print(f\"{alphabet} is a consonant.\")\n",
        "else:\n",
        "    print(\"Please enter a single alphabet character.\")"
      ],
      "metadata": {
        "colab": {
          "base_uri": "https://localhost:8080/"
        },
        "id": "zeO_WFww4aXb",
        "outputId": "175ea11a-1871-4749-8657-46ed42fc7eea"
      },
      "execution_count": null,
      "outputs": [
        {
          "output_type": "stream",
          "name": "stdout",
          "text": [
            "Enter an alphabet: s\n",
            "s is a consonant.\n"
          ]
        }
      ]
    },
    {
      "cell_type": "code",
      "source": [
        "# 6. Write a Python program to create the multiplication table (from 1 to 10) of a number.\n",
        "num = int(input(\"enter number : \"))\n",
        "i = 1\n",
        "product =1\n",
        "while (i<=10) :\n",
        "    product = num * i\n",
        "    print(product)\n",
        "    i+=1"
      ],
      "metadata": {
        "id": "f-0EcRKR5mdF",
        "colab": {
          "base_uri": "https://localhost:8080/"
        },
        "outputId": "8bbf7174-4d9a-4707-cf0c-0d57e0464e53"
      },
      "execution_count": null,
      "outputs": [
        {
          "output_type": "stream",
          "name": "stdout",
          "text": [
            "enter number : 5\n",
            "5\n",
            "10\n",
            "15\n",
            "20\n",
            "25\n",
            "30\n",
            "35\n",
            "40\n",
            "45\n",
            "50\n"
          ]
        }
      ]
    },
    {
      "cell_type": "code",
      "source": [
        "# 7. Write a program to print n natural number in descending order using a while loop.\n",
        "range = int(input(\"enter range : \"))\n",
        "i = range\n",
        "while i>0 :\n",
        "    print(i)\n",
        "    i-=1"
      ],
      "metadata": {
        "colab": {
          "base_uri": "https://localhost:8080/"
        },
        "id": "i1RlgaZMfDWU",
        "outputId": "71e7a8e1-fa49-42bd-e2a9-cc0e1ddab12a"
      },
      "execution_count": null,
      "outputs": [
        {
          "output_type": "stream",
          "name": "stdout",
          "text": [
            "enter range : 5\n",
            "5\n",
            "4\n",
            "3\n",
            "2\n",
            "1\n"
          ]
        }
      ]
    },
    {
      "cell_type": "code",
      "source": [
        "# functions\n",
        "#1. Write a program to swap two numbers.\n",
        "def swap() :\n",
        "    num1 = int(input(\"enter number 1 : \"))\n",
        "    num2 = int(input(\"enter number 2 : \"))\n",
        "    temp = num1\n",
        "    num1 = num2\n",
        "    num2 = temp\n",
        "    print(num1)\n",
        "    print(num2)"
      ],
      "metadata": {
        "id": "TDloRTEHfSsp"
      },
      "execution_count": null,
      "outputs": []
    },
    {
      "cell_type": "code",
      "source": [
        "swap()"
      ],
      "metadata": {
        "colab": {
          "base_uri": "https://localhost:8080/"
        },
        "id": "rOu6p2g_fgiB",
        "outputId": "c5b65b99-dfdf-4334-98ee-b36113077eb8"
      },
      "execution_count": null,
      "outputs": [
        {
          "output_type": "stream",
          "name": "stdout",
          "text": [
            "enter number 1 : 134\n",
            "enter number 2 : 234\n",
            "234\n",
            "134\n"
          ]
        }
      ]
    },
    {
      "cell_type": "code",
      "source": [
        "#2. Write a program to reverse the given digits.\n",
        "def reverse() :\n",
        "    num = int(input(\"enter number :\"))\n",
        "    rev1 = 0\n",
        "    while num != 0:\n",
        "        digit = num % 10\n",
        "        rev1= rev1 * 10 + digit\n",
        "        num = num//10\n",
        "    print(rev1)"
      ],
      "metadata": {
        "id": "vpr6CtlZfaCX"
      },
      "execution_count": null,
      "outputs": []
    },
    {
      "cell_type": "code",
      "source": [
        "reverse()"
      ],
      "metadata": {
        "colab": {
          "base_uri": "https://localhost:8080/"
        },
        "id": "N4Sys2fefqok",
        "outputId": "62635688-5a40-48aa-8f75-9a323fd87021"
      },
      "execution_count": null,
      "outputs": [
        {
          "output_type": "stream",
          "name": "stdout",
          "text": [
            "enter number :456\n",
            "654\n"
          ]
        }
      ]
    },
    {
      "cell_type": "code",
      "source": [
        "#3. Write a program to add up numbers in a given list .\n",
        "def add() :\n",
        "    list1 = [5,1,6,8,10]\n",
        "    sum = 0\n",
        "    for x in list1 :\n",
        "        sum = sum + (x)\n",
        "    print(sum)"
      ],
      "metadata": {
        "id": "M6R-0uxvfvAt"
      },
      "execution_count": null,
      "outputs": []
    },
    {
      "cell_type": "code",
      "source": [
        "add()"
      ],
      "metadata": {
        "colab": {
          "base_uri": "https://localhost:8080/"
        },
        "id": "S2BTGifDf0CQ",
        "outputId": "97c77f6c-815a-4485-ad73-f3ed7f26aea4"
      },
      "execution_count": null,
      "outputs": [
        {
          "output_type": "stream",
          "name": "stdout",
          "text": [
            "30\n"
          ]
        }
      ]
    },
    {
      "cell_type": "code",
      "source": [
        "#4. Write a program to check wether a given string is a palindrome or not\n",
        "def palindrome() :\n",
        "    num = int(input(\"enter number :\"))\n",
        "    temp = num\n",
        "    rev2 = 0\n",
        "    while num !=0 :\n",
        "        rem1 = num%10\n",
        "        rev2 = rev2*10 + rem1\n",
        "        num = num//10\n",
        "    if temp == rev2 :\n",
        "        print(\"palindrome\")\n",
        "    else :\n",
        "        print(\"not a palindrome\")"
      ],
      "metadata": {
        "id": "6kHdfQo5f3gK"
      },
      "execution_count": null,
      "outputs": []
    },
    {
      "cell_type": "code",
      "source": [
        "palindrome()"
      ],
      "metadata": {
        "colab": {
          "base_uri": "https://localhost:8080/"
        },
        "id": "y1iAChLcf-sm",
        "outputId": "aa5dddd9-3bf4-44e5-9de4-6244282ba973"
      },
      "execution_count": null,
      "outputs": [
        {
          "output_type": "stream",
          "name": "stdout",
          "text": [
            "enter number :121\n",
            "palindrome\n"
          ]
        }
      ]
    },
    {
      "cell_type": "code",
      "source": [
        "# 5.Write a program to find the greatest number among given three numbers\n",
        "def largest_of_3_numbers() :\n",
        "    num1 = int(input(\"enter number 1 :\"))\n",
        "    num2 = int(input(\"enter number 2 :\"))\n",
        "    num3 = int(input(\"enter number 3 :\"))\n",
        "    if num1>num2 and num1>num3 :\n",
        "        print(num1)\n",
        "    elif num2>num1 and num2>num3 :\n",
        "        print(num2)\n",
        "    elif num3>num1 and num3>num2 :\n",
        "        print(num3)"
      ],
      "metadata": {
        "id": "IXX3wZ-AgGsS"
      },
      "execution_count": null,
      "outputs": []
    },
    {
      "cell_type": "code",
      "source": [
        "largest_of_3_numbers()"
      ],
      "metadata": {
        "colab": {
          "base_uri": "https://localhost:8080/"
        },
        "id": "oCY1hCALgMHN",
        "outputId": "f7afff66-e6c7-41ec-f565-4a487bd7060a"
      },
      "execution_count": null,
      "outputs": [
        {
          "output_type": "stream",
          "name": "stdout",
          "text": [
            "enter number 1 :25\n",
            "enter number 2 :34\n",
            "enter number 3 :88\n",
            "88\n"
          ]
        }
      ]
    },
    {
      "cell_type": "code",
      "source": [
        "# 6.Write a program to check wether the entered city name is present in telangana or not\n",
        "def city() :\n",
        "    city_name = input(\"enter name of the city :\")\n",
        "    if city_name in (\"hyderabad\",\"suryapet\",\"medak\",\"mahabubnagar\",\"warangal\",\"nalgonda\",\"mancherial\",\"jagtial\",\"adilabad\",\"khammam\",\"karimnagar\") :\n",
        "        print(\"present in telangana\")\n",
        "    else :\n",
        "        print(\"not present in telangana\")"
      ],
      "metadata": {
        "id": "LkQVbAY4gU2D"
      },
      "execution_count": null,
      "outputs": []
    },
    {
      "cell_type": "code",
      "source": [
        "city()"
      ],
      "metadata": {
        "colab": {
          "base_uri": "https://localhost:8080/"
        },
        "id": "AIwb0BYvgZbc",
        "outputId": "f4a33289-b35e-42d9-d70d-438dadb71c68"
      },
      "execution_count": null,
      "outputs": [
        {
          "output_type": "stream",
          "name": "stdout",
          "text": [
            "enter name of the city :hyderabad\n",
            "present in telangana\n"
          ]
        }
      ]
    },
    {
      "cell_type": "code",
      "source": [
        "# 7.Write a program to reverse the given digits.\n",
        "def reverse1() :\n",
        "    num = int(input(\"enter number :\"))\n",
        "    rev2 = 0\n",
        "    while num !=0 :\n",
        "        rem1 = num%10\n",
        "        rev2 = rev2*10 + rem1\n",
        "        num = num//10\n",
        "    print(rev2)"
      ],
      "metadata": {
        "id": "zryfJxVVgdxm"
      },
      "execution_count": null,
      "outputs": []
    },
    {
      "cell_type": "code",
      "source": [
        "reverse1()"
      ],
      "metadata": {
        "colab": {
          "base_uri": "https://localhost:8080/"
        },
        "id": "aEQy4PLbgitA",
        "outputId": "248a843e-8463-48ce-be0b-f580e966a774"
      },
      "execution_count": null,
      "outputs": [
        {
          "output_type": "stream",
          "name": "stdout",
          "text": [
            "enter number :543\n",
            "345\n"
          ]
        }
      ]
    },
    {
      "cell_type": "code",
      "source": [
        "#8. Write a program to find the square root of a number .\n",
        "def sqrt() :\n",
        "    num = int(input(\"enter number :\"))\n",
        "    print(pow(num,0.5))"
      ],
      "metadata": {
        "id": "yPucb2gxgobS"
      },
      "execution_count": null,
      "outputs": []
    },
    {
      "cell_type": "code",
      "source": [
        "sqrt()"
      ],
      "metadata": {
        "colab": {
          "base_uri": "https://localhost:8080/"
        },
        "id": "5vH0iTaggszk",
        "outputId": "daaaea7d-4487-4acf-f8be-0186f7672f62"
      },
      "execution_count": null,
      "outputs": [
        {
          "output_type": "stream",
          "name": "stdout",
          "text": [
            "enter number :25\n",
            "5.0\n"
          ]
        }
      ]
    },
    {
      "cell_type": "code",
      "source": [
        "# 9. Write a program to calculate length of a string entered by a user.\n",
        "def len_of_str() :\n",
        "    str1 = input(\"enter a string :\")\n",
        "    print(len(str1))\n"
      ],
      "metadata": {
        "id": "VN883x9bgvKJ"
      },
      "execution_count": null,
      "outputs": []
    },
    {
      "cell_type": "code",
      "source": [
        "len_of_str()"
      ],
      "metadata": {
        "colab": {
          "base_uri": "https://localhost:8080/"
        },
        "id": "I92tF6Qyg3Hm",
        "outputId": "300c2177-5b69-42f4-ed22-d0b616929ad5"
      },
      "execution_count": null,
      "outputs": [
        {
          "output_type": "stream",
          "name": "stdout",
          "text": [
            "enter a string :hello\n",
            "5\n"
          ]
        }
      ]
    },
    {
      "cell_type": "code",
      "source": [
        "#10. Write a program to check if a given triangle is a right angled triangle or not\n",
        "def right_angled_triangle() :\n",
        "    s1 = int(input(\"enter side 1 :\"))\n",
        "    s2 = int(input(\"enter side 2 :\"))\n",
        "    s3 = int(input(\"enter side 3 :\"))\n",
        "    if (s1*s1) + (s2*s2) == (s3*s3) or (s1*s1) + (s3*s3) == (s2*s2) or (s2*s2) + (s3*s3) == (s1*s1) :\n",
        "        print(\"the given triangle is a right angled\")\n",
        "    else :\n",
        "        print(\"the given triangle is not right angled \")"
      ],
      "metadata": {
        "id": "ydaxje9WhCN9"
      },
      "execution_count": null,
      "outputs": []
    },
    {
      "cell_type": "code",
      "source": [
        "right_angled_triangle()"
      ],
      "metadata": {
        "colab": {
          "base_uri": "https://localhost:8080/"
        },
        "id": "MCRJHki7hIkW",
        "outputId": "8be11051-776d-4ad1-f61f-ebfcbd537fb8"
      },
      "execution_count": null,
      "outputs": [
        {
          "output_type": "stream",
          "name": "stdout",
          "text": [
            "enter side 1 :5\n",
            "enter side 2 :4\n",
            "enter side 3 :3\n",
            "the given triangle is a right angled\n"
          ]
        }
      ]
    },
    {
      "cell_type": "code",
      "source": [
        "#11. Write a program to convert a list into string.\n",
        "def list_to_string(names):\n",
        "    str2 = \" \"\n",
        "    return(str2.join(names))\n",
        "names = [\"vaishnavi\",\"keerthana\",\"srijani\",\"sudheepthi\"]\n",
        "print(list_to_string(names))"
      ],
      "metadata": {
        "colab": {
          "base_uri": "https://localhost:8080/"
        },
        "id": "tWKlRkxehSFI",
        "outputId": "adc6a833-48e3-4720-f3fc-eb842b0d296b"
      },
      "execution_count": null,
      "outputs": [
        {
          "output_type": "stream",
          "name": "stdout",
          "text": [
            "vaishnavi keerthana srijani sudheepthi\n"
          ]
        }
      ]
    },
    {
      "cell_type": "code",
      "source": [
        "list_to_string(names)"
      ],
      "metadata": {
        "colab": {
          "base_uri": "https://localhost:8080/",
          "height": 36
        },
        "id": "xzZkv4lRhYn9",
        "outputId": "bf78d2c3-fd90-4c37-9cb5-7010e4a82d6c"
      },
      "execution_count": null,
      "outputs": [
        {
          "output_type": "execute_result",
          "data": {
            "text/plain": [
              "'vaishnavi keerthana srijani sudheepthi'"
            ],
            "application/vnd.google.colaboratory.intrinsic+json": {
              "type": "string"
            }
          },
          "metadata": {},
          "execution_count": 25
        }
      ]
    },
    {
      "cell_type": "code",
      "source": [
        "#12. Write a program to print the largest string from a given list .\n",
        "def largest_of_string() :\n",
        "    str3 =[\"vaishnavi\",\"fruit\",\"chocolate\",\"cool drinks\"]\n",
        "    max_len = -1\n",
        "    for ele in str3 :\n",
        "        if len(ele) > max_len :\n",
        "            max_len = len(ele)\n",
        "            res = ele\n",
        "\n",
        "# printing result\n",
        "    print(\"Maximum length string is : \", res)"
      ],
      "metadata": {
        "id": "AmFrsKXFhf5T"
      },
      "execution_count": null,
      "outputs": []
    },
    {
      "cell_type": "code",
      "source": [
        "largest_of_string"
      ],
      "metadata": {
        "colab": {
          "base_uri": "https://localhost:8080/"
        },
        "id": "wj9UB-VUhm_j",
        "outputId": "c2cb8a1e-c148-4f42-ff83-decdf316724c"
      },
      "execution_count": null,
      "outputs": [
        {
          "output_type": "execute_result",
          "data": {
            "text/plain": [
              "<function __main__.largest_of_string()>"
            ]
          },
          "metadata": {},
          "execution_count": 27
        }
      ]
    },
    {
      "cell_type": "code",
      "source": [
        "#13.Write a program to find lcm of two numbers.\n",
        "def lcm_of_2nos(num1,num2) :\n",
        "   num1 = int(input(\"enter number 1 :\"))\n",
        "   num2 = int(input(\"enter number 2 :\"))\n",
        "   if num1 > num2 :\n",
        "       greater = num1\n",
        "   else:\n",
        "       greater = num2\n",
        "\n",
        "   while(True):\n",
        "       if((greater % num1 == 0) and (greater % num2 == 0)):\n",
        "           lcm = greater\n",
        "           break\n",
        "       greater += 1\n",
        "\n",
        "   return lcm\n",
        "print(\"The L.C.M. is\",lcm_of_2nos(num1, num2))"
      ],
      "metadata": {
        "colab": {
          "base_uri": "https://localhost:8080/",
          "height": 210
        },
        "id": "fQH0YDSvhq-X",
        "outputId": "d3b80b1a-e586-4858-9a81-b644bc2dd290"
      },
      "execution_count": null,
      "outputs": [
        {
          "output_type": "error",
          "ename": "NameError",
          "evalue": "ignored",
          "traceback": [
            "\u001b[0;31m---------------------------------------------------------------------------\u001b[0m",
            "\u001b[0;31mNameError\u001b[0m                                 Traceback (most recent call last)",
            "\u001b[0;32m<ipython-input-30-9435c8342e94>\u001b[0m in \u001b[0;36m<cell line: 17>\u001b[0;34m()\u001b[0m\n\u001b[1;32m     15\u001b[0m \u001b[0;34m\u001b[0m\u001b[0m\n\u001b[1;32m     16\u001b[0m    \u001b[0;32mreturn\u001b[0m \u001b[0mlcm\u001b[0m\u001b[0;34m\u001b[0m\u001b[0;34m\u001b[0m\u001b[0m\n\u001b[0;32m---> 17\u001b[0;31m \u001b[0mprint\u001b[0m\u001b[0;34m(\u001b[0m\u001b[0;34m\"The L.C.M. is\"\u001b[0m\u001b[0;34m,\u001b[0m\u001b[0mlcm_of_2nos\u001b[0m\u001b[0;34m(\u001b[0m\u001b[0mnum1\u001b[0m\u001b[0;34m,\u001b[0m \u001b[0mnum2\u001b[0m\u001b[0;34m)\u001b[0m\u001b[0;34m)\u001b[0m\u001b[0;34m\u001b[0m\u001b[0;34m\u001b[0m\u001b[0m\n\u001b[0m",
            "\u001b[0;31mNameError\u001b[0m: name 'num1' is not defined"
          ]
        }
      ]
    },
    {
      "cell_type": "code",
      "source": [],
      "metadata": {
        "id": "gAyGPqPChzA3"
      },
      "execution_count": null,
      "outputs": []
    }
  ]
}