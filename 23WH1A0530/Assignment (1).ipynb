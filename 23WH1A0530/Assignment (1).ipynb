{
  "nbformat": 4,
  "nbformat_minor": 0,
  "metadata": {
    "colab": {
      "provenance": []
    },
    "kernelspec": {
      "name": "python3",
      "display_name": "Python 3"
    },
    "language_info": {
      "name": "python"
    }
  },
  "cells": [
    {
      "cell_type": "code",
      "execution_count": null,
      "metadata": {
        "colab": {
          "base_uri": "https://localhost:8080/"
        },
        "id": "4xrpiD_A9vN4",
        "outputId": "b7c4d81d-146b-450c-9609-53904718b435"
      },
      "outputs": [
        {
          "output_type": "stream",
          "name": "stdout",
          "text": [
            "Guess a number between 1 and 9:2\n",
            "Congratulations! You guessed the correct number.\n"
          ]
        }
      ],
      "source": [
        "#1 question\n",
        "import random\n",
        "number_to_guess=random.randint(1,9)\n",
        "guessed=False\n",
        "while not guessed:\n",
        "       guess=int(input(\"Guess a number between 1 and 9:\"))\n",
        "       if guess==number_to_guess:\n",
        "           print(\"Congratulations! You guessed the correct number.\")\n",
        "           guessed=True\n",
        "       else:\n",
        "           print(\"Try again.\")"
      ]
    },
    {
      "cell_type": "code",
      "source": [
        "#4 question\n",
        "for i in range(7):\n",
        "    if i!=3 and i!=6:\n",
        "         print(i)"
      ],
      "metadata": {
        "colab": {
          "base_uri": "https://localhost:8080/"
        },
        "id": "pUpGYL-7_EXf",
        "outputId": "3ee5f0d5-314e-4e43-b9b2-0e79996fc43b"
      },
      "execution_count": null,
      "outputs": [
        {
          "output_type": "stream",
          "name": "stdout",
          "text": [
            "0\n",
            "1\n",
            "2\n",
            "4\n",
            "5\n"
          ]
        }
      ]
    },
    {
      "cell_type": "code",
      "source": [
        "#3 question\n",
        "for i in range(1,6):\n",
        "     print('*'*i)\n",
        "for i in range (4,0,-1):\n",
        "     print('*'* i)"
      ],
      "metadata": {
        "colab": {
          "base_uri": "https://localhost:8080/"
        },
        "id": "liWKyFcR_k6t",
        "outputId": "4320b001-23b6-41da-a95a-a5b6c59634e4"
      },
      "execution_count": null,
      "outputs": [
        {
          "output_type": "stream",
          "name": "stdout",
          "text": [
            "*\n",
            "**\n",
            "***\n",
            "****\n",
            "*****\n",
            "****\n",
            "***\n",
            "**\n",
            "*\n"
          ]
        }
      ]
    },
    {
      "cell_type": "code",
      "source": [
        "#5 question\n",
        "string=input(\"Enter a string:\")\n",
        "letters=sum(c.isalpha()for c in string)\n",
        "digits=sum(c.isdigit()for c in string)\n",
        "print(f\"Letters:{letters}, Digits:{digits}\")"
      ],
      "metadata": {
        "colab": {
          "base_uri": "https://localhost:8080/"
        },
        "id": "K14Aj5Vu_9yz",
        "outputId": "d69f7eb2-26c9-475d-f686-b7d076ec63fc"
      },
      "execution_count": null,
      "outputs": [
        {
          "output_type": "stream",
          "name": "stdout",
          "text": [
            "Enter a string:Kanta sree \n",
            "Letters:9, Digits:0\n"
          ]
        }
      ]
    },
    {
      "cell_type": "code",
      "source": [
        "#question 6\n",
        "def factorial(n):\n",
        "      if n==0:\n",
        "        return 1\n",
        "      return n * factorial (n-1)\n",
        "num=int(input(\"Enter a number:\"))\n",
        "print(\"Factorial:\", factorial (num))"
      ],
      "metadata": {
        "colab": {
          "base_uri": "https://localhost:8080/"
        },
        "id": "3iKgCnn4AtA3",
        "outputId": "60eec406-98c2-4c3f-df86-b292f492e46e"
      },
      "execution_count": null,
      "outputs": [
        {
          "output_type": "stream",
          "name": "stdout",
          "text": [
            "Enter a number:6\n",
            "Factorial: 720\n"
          ]
        }
      ]
    },
    {
      "cell_type": "code",
      "source": [
        "#question 8\n",
        "word=input(\"Enter a word:\")\n",
        "reversed_word=word[::-1]\n",
        "print(\"Reversed word:\",reversed_word)"
      ],
      "metadata": {
        "colab": {
          "base_uri": "https://localhost:8080/"
        },
        "id": "5dbdF3_4FHex",
        "outputId": "0a128d21-b072-45da-b14b-97692177138c"
      },
      "execution_count": null,
      "outputs": [
        {
          "output_type": "stream",
          "name": "stdout",
          "text": [
            "Enter a word:Hey\n",
            "Reversed word: yeH\n"
          ]
        }
      ]
    },
    {
      "cell_type": "code",
      "source": [
        "#question 10\n",
        "alphabet=input(\"Enter an alphabet:\").lower()\n",
        "if alphabet.isalpha() and len(alphabet)==1:\n",
        "   if alphabet in 'aeiou':\n",
        "      print(f\"{alphabet} is a vowel.\")\n",
        "   else:\n",
        "       print(f\"{alphabet} is a constant.\")\n",
        "else:\n",
        "    print(\"Please enter a single alphabet character.\")"
      ],
      "metadata": {
        "colab": {
          "base_uri": "https://localhost:8080/"
        },
        "id": "v98qULYJFqDc",
        "outputId": "2c2c4dde-6b29-41eb-ebb7-73e99a7473b1"
      },
      "execution_count": null,
      "outputs": [
        {
          "output_type": "stream",
          "name": "stdout",
          "text": [
            "Enter an alphabet:K\n",
            "k is a constant.\n"
          ]
        }
      ]
    },
    {
      "cell_type": "code",
      "source": [
        "#question 11\n",
        "month_name=input(\"enter month name:\").lower()\n",
        "days_in_month={\n",
        "      \"january\":31,\"february\":28,\"march\":31,\"april\":30,\n",
        "      \"may\":31,\"june\":30,\"july\":31,\"august\":31,\n",
        "\"september\":30,\"october\":31,\"november\":30,\"december\":31\n",
        "}\n",
        "if month_name in days_in_month:\n",
        "   print(f\"Number of days in{month_name.capitalize()}:{days_in_month[month_name]}\")\n",
        "else:\n",
        "    print(\"Invalid month name entered.\")"
      ],
      "metadata": {
        "colab": {
          "base_uri": "https://localhost:8080/"
        },
        "id": "DBbG_noDGsAj",
        "outputId": "1102defd-278a-481d-d440-604c9de562ae"
      },
      "execution_count": null,
      "outputs": [
        {
          "output_type": "stream",
          "name": "stdout",
          "text": [
            "enter month name:October\n",
            "Number of days inOctober:31\n"
          ]
        }
      ]
    },
    {
      "cell_type": "code",
      "source": [
        "#question 12\n",
        "month=input(\"Input the month(e.g. January, February etc.):\")\n",
        "day=int(input(\"Input the day:\"))\n",
        "if month in ('January','Febrauary','March'):\n",
        "   season='winter'\n",
        "elif month in ('April','May','June'):\n",
        "    season='summer'\n",
        "else:\n",
        "    season='autumn'\n",
        "if (month=='March') and (day>19):\n",
        "   season='spring'\n",
        "elif(month=='June') and (day>20):\n",
        "    season='summer'\n",
        "elif(month=='September') and (day>21):\n",
        "    season='autumn'\n",
        "elif(month=='December') and (day>20):\n",
        "    season='winter'\n",
        "print(\"season is\",season)"
      ],
      "metadata": {
        "colab": {
          "base_uri": "https://localhost:8080/"
        },
        "id": "brCZ1UfdI8zl",
        "outputId": "f0a81c23-5c4f-42f6-cc71-b1aca2f15550"
      },
      "execution_count": null,
      "outputs": [
        {
          "output_type": "stream",
          "name": "stdout",
          "text": [
            "Input the month(e.g. January, February etc.):June\n",
            "Input the day:23\n",
            "season is summer\n"
          ]
        }
      ]
    },
    {
      "cell_type": "code",
      "source": [
        "string=\"Hello\"\n",
        "vowels=['a','e','i','o','u','A','E','I','O','U']\n",
        "result=\"\"\n",
        "for i in range(len(string)):\n",
        "     if string [i] not in vowels:\n",
        "        result=result+string[i]\n",
        "print(\"\\nAfter removing Vowels:\",result)"
      ],
      "metadata": {
        "colab": {
          "base_uri": "https://localhost:8080/"
        },
        "id": "U7ioLnSPLw3Q",
        "outputId": "88f1fe67-46cd-453b-fd5d-163617d6b4f2"
      },
      "execution_count": null,
      "outputs": [
        {
          "output_type": "stream",
          "name": "stdout",
          "text": [
            "\n",
            "After removing Vowels: Hll\n"
          ]
        }
      ]
    },
    {
      "cell_type": "code",
      "source": [
        "#20 code\n",
        "input_string=\"Kanta sree\"\n",
        "print(\"The input string is:\",input_string)\n",
        "mySet=set(input_string)\n",
        "for element in mySet:\n",
        "    countOfChar=0\n",
        "    for character in input_string:\n",
        "        if character ==element:\n",
        "            countOfChar+=1\n",
        "    print(\"Count of character'{}' is {}\".format(element,countOfChar))"
      ],
      "metadata": {
        "colab": {
          "base_uri": "https://localhost:8080/"
        },
        "id": "gDdSL_-FMqZl",
        "outputId": "8d5f80d8-7a40-4faa-ffc6-cf40e2ecc875"
      },
      "execution_count": null,
      "outputs": [
        {
          "output_type": "stream",
          "name": "stdout",
          "text": [
            "The input string is: Kanta sree\n",
            "Count of character' ' is 1\n",
            "Count of character's' is 1\n",
            "Count of character'a' is 2\n",
            "Count of character'e' is 2\n",
            "Count of character'r' is 1\n",
            "Count of character't' is 1\n",
            "Count of character'n' is 1\n",
            "Count of character'K' is 1\n"
          ]
        }
      ]
    },
    {
      "cell_type": "code",
      "source": [
        " #19 code\n",
        "n=4\n",
        "square=n**2\n",
        "print(square)"
      ],
      "metadata": {
        "colab": {
          "base_uri": "https://localhost:8080/"
        },
        "id": "n19qd3dQOYfj",
        "outputId": "4c70e211-c050-4470-97e8-91bf493e6a11"
      },
      "execution_count": null,
      "outputs": [
        {
          "output_type": "stream",
          "name": "stdout",
          "text": [
            "16\n"
          ]
        }
      ]
    },
    {
      "cell_type": "code",
      "source": [
        "#18 code\n",
        "def DecimalToBinary(num):\n",
        "    if num>=1:\n",
        "       DecimalToBinary(num//2)\n",
        "    print(num%2,end=' ')\n",
        "if __name__=='__main__':\n",
        "   dec_val=24\n",
        "DecimalToBinary(dec_val)"
      ],
      "metadata": {
        "colab": {
          "base_uri": "https://localhost:8080/"
        },
        "id": "8EiwmcpFOpNF",
        "outputId": "fa413b5a-ca44-46b5-901a-6d0553141d9a"
      },
      "execution_count": null,
      "outputs": [
        {
          "output_type": "stream",
          "name": "stdout",
          "text": [
            "0 1 1 0 0 0 "
          ]
        }
      ]
    },
    {
      "cell_type": "code",
      "source": [
        "#17 code\n",
        "x=5\n",
        "y=10\n",
        "temp=x\n",
        "x=y\n",
        "y=temp\n",
        "print('The value of x after swapping:{}'.format(x))\n",
        "print('The value of y after swapping:{}'.format(y))"
      ],
      "metadata": {
        "colab": {
          "base_uri": "https://localhost:8080/"
        },
        "id": "IHKsSn7ePnqh",
        "outputId": "d0882263-4c60-4abc-e85c-c21898230ba5"
      },
      "execution_count": null,
      "outputs": [
        {
          "output_type": "stream",
          "name": "stdout",
          "text": [
            "The value of x after swapping:10\n",
            "The value of y after swapping:5\n"
          ]
        }
      ]
    },
    {
      "cell_type": "code",
      "source": [
        "#16 code\n",
        "num1=10\n",
        "num2=14\n",
        "num3=12\n",
        "if(num1>=num2) and (num1>=num3):\n",
        "  largest=num1\n",
        "elif(num2>=num1) and (num2>=num3):\n",
        "  largest=num2\n",
        "else:\n",
        "  largest=num3\n",
        "print(\"The largest number is\",largest)"
      ],
      "metadata": {
        "colab": {
          "base_uri": "https://localhost:8080/"
        },
        "id": "799EIJb7QPoq",
        "outputId": "31a845a0-4122-4e63-bdae-dbbfe12e91f5"
      },
      "execution_count": null,
      "outputs": [
        {
          "output_type": "stream",
          "name": "stdout",
          "text": [
            "The largest number is 14\n"
          ]
        }
      ]
    },
    {
      "cell_type": "code",
      "source": [
        "#15 code\n",
        "def isPalindrome(str):\n",
        "    for i in range(0,int(len(str)/2)):\n",
        "        if str[i]!=str[len(str)-i-1]:\n",
        "           return True\n",
        "s=\"Malayalam\"\n",
        "ans=isPalindrome(s)\n",
        "if (ans):\n",
        "    print(\"Yes\")\n",
        "else:\n",
        "    print(\"No\")"
      ],
      "metadata": {
        "colab": {
          "base_uri": "https://localhost:8080/"
        },
        "id": "4cFQNPNORUnQ",
        "outputId": "a10e14f7-98a8-4505-caa1-1b55ee47dd62"
      },
      "execution_count": null,
      "outputs": [
        {
          "output_type": "stream",
          "name": "stdout",
          "text": [
            "Yes\n"
          ]
        }
      ]
    },
    {
      "cell_type": "code",
      "source": [
        "#14 code\n",
        "def compute_lcm(x,y):\n",
        "   # choose the greater number\n",
        "   if x>y:\n",
        "       greater=x\n",
        "   else:\n",
        "       greater=y\n",
        "   while(True):\n",
        "       if((greater%x==0) and (greater%y==0)):\n",
        "           lcm=greater\n",
        "           break\n",
        "       greater+=1\n",
        "   return lcm\n",
        "num1=54\n",
        "num2=24\n",
        "print(\"The L.C.M. is\",compute_lcm(num1,num2))"
      ],
      "metadata": {
        "colab": {
          "base_uri": "https://localhost:8080/"
        },
        "id": "Ve73Jw9GSQES",
        "outputId": "c7f2c98d-c6cc-4cda-8af9-c030a107bc70"
      },
      "execution_count": null,
      "outputs": [
        {
          "output_type": "stream",
          "name": "stdout",
          "text": [
            "The L.C.M. is 216\n"
          ]
        }
      ]
    },
    {
      "cell_type": "code",
      "source": [
        "#13 code\n",
        "arr=[5,9,1,10,3,8,4,2,7,6]\n",
        "temp=0\n",
        "max_size=len(arr)\n",
        "print(\"The elements of the array before sorting:\");\n",
        "for i in range (0,max_size):\n",
        "    print(arr[i],end=\" \")\n",
        "print()\n",
        "for i in range (0,max_size):\n",
        "   for j in range(i+1,len(arr)):\n",
        "       if(arr[i]>arr[j]):\n",
        "          temp=arr[i]\n",
        "          arr[i]=arr[j]\n",
        "          arr[j]=temp\n",
        "print(\"The elements of the array after sorting:\")\n",
        "for i in range (0,max_size):\n",
        "    print(arr[i],end=\" \")"
      ],
      "metadata": {
        "colab": {
          "base_uri": "https://localhost:8080/"
        },
        "id": "Q6grsKKVTlMv",
        "outputId": "54543175-f312-42f0-b20d-82526918df4e"
      },
      "execution_count": null,
      "outputs": [
        {
          "output_type": "stream",
          "name": "stdout",
          "text": [
            "The elements of the array before sorting:\n",
            "5 9 1 10 3 8 4 2 7 6 \n",
            "The elements of the array after sorting:\n",
            "1 2 3 4 5 6 7 8 9 10 "
          ]
        }
      ]
    },
    {
      "cell_type": "code",
      "source": [
        "#12 code\n",
        "numlist=[2,4,2,5,7,9,23,4,5]\n",
        "numsum=sum(numlist)\n",
        "print('Sum of list:',numsum)\n",
        "#Example with start\n",
        "numsum=sum(numlist,5)\n",
        "print('Sum of List:',numsum)"
      ],
      "metadata": {
        "colab": {
          "base_uri": "https://localhost:8080/"
        },
        "id": "PjQHpU-aV9IE",
        "outputId": "bd5f5803-ac79-450a-816b-94f6fd7f8e9b"
      },
      "execution_count": null,
      "outputs": [
        {
          "output_type": "stream",
          "name": "stdout",
          "text": [
            "Sum of list: 61\n",
            "Sum of List: 66\n"
          ]
        }
      ]
    },
    {
      "cell_type": "code",
      "source": [
        "#13 code\n",
        "def is_leap_year(year):\n",
        "    return (year%4==0 and year%100!=0) or (year%400==0)\n",
        "def get_next_day(year,month,day):\n",
        "     days_in_month=[0,31,28,31,30,31,30,31,31,30,31,30,31]\n",
        "     if is_leap_year(year):\n",
        "         days_in_month[2]=29\n",
        "     if day<days_in_month[month]:\n",
        "         return year,month,day+1\n",
        "     else:\n",
        "          if month==12:\n",
        "             return year+1,1,1\n",
        "          else:\n",
        "             return year,month+1,1\n",
        "\n",
        "#Input date\n",
        "year=int(input(\"Enter year:\"))\n",
        "month=int(input(\"Enter month(1-12): \"))\n",
        "day=int(input(\"Enter day(1-31): \"))\n",
        "next_year,next_month,next_day=get_next_day(year,month,day)\n",
        "print(f\"The next day is:{next_year}-{next_month:02d}-{next_day:02d}\")"
      ],
      "metadata": {
        "colab": {
          "base_uri": "https://localhost:8080/"
        },
        "id": "hAlWbXskW3Iv",
        "outputId": "eb731903-6cae-4e06-c7ed-456242c7e83a"
      },
      "execution_count": null,
      "outputs": [
        {
          "output_type": "stream",
          "name": "stdout",
          "text": [
            "Enter year:2010\n",
            "Enter month(1-12): 6\n",
            "Enter day(1-31): 25\n",
            "The next day is:2010-06-26\n"
          ]
        }
      ]
    },
    {
      "cell_type": "code",
      "source": [
        "#14 code\n",
        "n=int(input(\"Enter a no\"))\n",
        "for i in range (1,11):\n",
        "    print(n,'x',i,'=',n*i)"
      ],
      "metadata": {
        "colab": {
          "base_uri": "https://localhost:8080/"
        },
        "id": "ZkrvWZcHaJad",
        "outputId": "96d666af-6b2d-4e70-e284-90e824e5fb5a"
      },
      "execution_count": null,
      "outputs": [
        {
          "output_type": "stream",
          "name": "stdout",
          "text": [
            "Enter a no5\n",
            "5 x 1 = 5\n",
            "5 x 2 = 10\n",
            "5 x 3 = 15\n",
            "5 x 4 = 20\n",
            "5 x 5 = 25\n",
            "5 x 6 = 30\n",
            "5 x 7 = 35\n",
            "5 x 8 = 40\n",
            "5 x 9 = 45\n",
            "5 x 10 = 50\n"
          ]
        }
      ]
    },
    {
      "cell_type": "code",
      "source": [
        "#15 code\n",
        "number=int(input(\"enter a no\"))\n",
        "i=number\n",
        "while(i>=1):\n",
        "     print(i)\n",
        "     i=i-1"
      ],
      "metadata": {
        "colab": {
          "base_uri": "https://localhost:8080/"
        },
        "id": "YWTgeV4vagFz",
        "outputId": "a8387cd2-4e3b-4a34-ef6d-3207508dab2d"
      },
      "execution_count": null,
      "outputs": [
        {
          "output_type": "stream",
          "name": "stdout",
          "text": [
            "enter a no9\n",
            "9\n",
            "8\n",
            "7\n",
            "6\n",
            "5\n",
            "4\n",
            "3\n",
            "2\n",
            "1\n"
          ]
        }
      ]
    },
    {
      "cell_type": "code",
      "source": [
        "#1 code\n",
        "side=int(input(\"Enter side of cube\"))\n",
        "volume=side**3\n",
        "print(volume)"
      ],
      "metadata": {
        "colab": {
          "base_uri": "https://localhost:8080/"
        },
        "id": "ToF33usUa8y-",
        "outputId": "e2e9ec7e-d3a0-40b5-dce8-4396a9c00b38"
      },
      "execution_count": null,
      "outputs": [
        {
          "output_type": "stream",
          "name": "stdout",
          "text": [
            "Enter side of cube5\n",
            "125\n"
          ]
        }
      ]
    },
    {
      "cell_type": "code",
      "source": [
        "#2 code\n",
        "colors=[\"Violet\",\"Indigo\",\"Blue\",\"Green\",\"Yellow\",\"Orange\",\"Red\"]\n",
        "for color in colors:\n",
        "    print(color)"
      ],
      "metadata": {
        "colab": {
          "base_uri": "https://localhost:8080/"
        },
        "id": "PbgjTGu4bOk9",
        "outputId": "12d56f1c-b6ef-490d-c1b6-e1c90270d81e"
      },
      "execution_count": null,
      "outputs": [
        {
          "output_type": "stream",
          "name": "stdout",
          "text": [
            "Violet\n",
            "Indigo\n",
            "Blue\n",
            "Green\n",
            "Yellow\n",
            "Orange\n",
            "Red\n"
          ]
        }
      ]
    },
    {
      "cell_type": "code",
      "source": [
        "#3 code\n",
        "def rev_string(s):\n",
        "     str=\" \"\n",
        "     for i in s:\n",
        "          str=i+str\n",
        "     return str\n",
        "s=\"Kanta Sree\"\n",
        "print(rev_string(s))"
      ],
      "metadata": {
        "colab": {
          "base_uri": "https://localhost:8080/"
        },
        "id": "nUs3pdO9buhH",
        "outputId": "a21eadef-3624-4f5d-e0e8-12791e90fb0f"
      },
      "execution_count": null,
      "outputs": [
        {
          "output_type": "stream",
          "name": "stdout",
          "text": [
            "eerS atnaK \n"
          ]
        }
      ]
    },
    {
      "cell_type": "code",
      "source": [
        "#4 code\n",
        "user_no= int(input(\"Enter a no\"))\n",
        "dig_list=[int(digit) for digit in str (user_no)]\n",
        "print(dig_list)"
      ],
      "metadata": {
        "colab": {
          "base_uri": "https://localhost:8080/"
        },
        "id": "FA2WACl9cSy4",
        "outputId": "654c9a7d-637b-46eb-b332-e2061dd4051e"
      },
      "execution_count": null,
      "outputs": [
        {
          "output_type": "stream",
          "name": "stdout",
          "text": [
            "Enter a no5678\n",
            "[5, 6, 7, 8]\n"
          ]
        }
      ]
    },
    {
      "cell_type": "code",
      "source": [
        "#5 code\n",
        "def right_angled(a,b,c):\n",
        "    if (a*a+b*b==c*c) or (c*c+b*b==a*a) or (a*a+c*c==b*b):\n",
        "        return \"The triangle is right-angled.\"\n",
        "    else:\n",
        "        return \"The triangle is not right-angled.\"\n",
        "right_angled(90,90,0)"
      ],
      "metadata": {
        "colab": {
          "base_uri": "https://localhost:8080/",
          "height": 53
        },
        "id": "yk0d9nXHcwx1",
        "outputId": "7aca3835-fdd7-44e7-ab49-a270fb349350"
      },
      "execution_count": null,
      "outputs": [
        {
          "output_type": "execute_result",
          "data": {
            "text/plain": [
              "'The triangle is right-angled.'"
            ],
            "application/vnd.google.colaboratory.intrinsic+json": {
              "type": "string"
            }
          },
          "metadata": {},
          "execution_count": 49
        }
      ]
    },
    {
      "cell_type": "code",
      "source": [
        "#6 code\n",
        "s=\"Kanta Potula\"\n",
        "x=list(s)\n",
        "print(x)"
      ],
      "metadata": {
        "colab": {
          "base_uri": "https://localhost:8080/"
        },
        "id": "pB68He3Sdwim",
        "outputId": "c0dafed2-4b4f-4fd6-9d34-99e7741215ab"
      },
      "execution_count": null,
      "outputs": [
        {
          "output_type": "stream",
          "name": "stdout",
          "text": [
            "['K', 'a', 'n', 't', 'a', ' ', 'P', 'o', 't', 'u', 'l', 'a']\n"
          ]
        }
      ]
    },
    {
      "cell_type": "code",
      "source": [
        "#7 code\n",
        "list=[\"apple\",\"banana\",\"cherry\"]\n",
        "res_string=\",\".join(list)\n",
        "print(res_string)"
      ],
      "metadata": {
        "colab": {
          "base_uri": "https://localhost:8080/"
        },
        "id": "_FFnbXTPd9-6",
        "outputId": "2944c720-ff36-4e1a-ff42-cb44e1f4696d"
      },
      "execution_count": null,
      "outputs": [
        {
          "output_type": "stream",
          "name": "stdout",
          "text": [
            "apple,banana,cherry\n"
          ]
        }
      ]
    },
    {
      "cell_type": "code",
      "source": [
        "#8 code\n",
        "telangana_cities=[\"Hyderabad\",\"Warangal\",\"Karimnagar\",\"Nizamabad\",\"Khammam\",\"Ramagundam\",\"Mahbubnagar\"]\n",
        "user_city=input(\"Enter a city name:\")\n",
        "result=f\"{user_city} is in Telangana.\" if user_city.capitalize() in telangana_cities else f\"{user_city} is not in Telangana.\"\n",
        "print(result)"
      ],
      "metadata": {
        "colab": {
          "base_uri": "https://localhost:8080/"
        },
        "id": "vdGooaQTeUXa",
        "outputId": "99f78f54-9515-40c5-9ca5-c454439a4ade"
      },
      "execution_count": null,
      "outputs": [
        {
          "output_type": "stream",
          "name": "stdout",
          "text": [
            "Enter a city name:Karimnagar \n",
            "Karimnagar  is not in Telangana.\n"
          ]
        }
      ]
    },
    {
      "cell_type": "code",
      "source": [
        "#9 code\n",
        "str=input(\"Enter a string:\")\n",
        "#using len() function to find length of str\n",
        "print(\"Length of the input string is:\",len(str))"
      ],
      "metadata": {
        "colab": {
          "base_uri": "https://localhost:8080/"
        },
        "id": "faJwhY4WgBKg",
        "outputId": "e5fffd73-112e-43c3-9964-c1b6fb1a0c0a"
      },
      "execution_count": null,
      "outputs": [
        {
          "output_type": "stream",
          "name": "stdout",
          "text": [
            "Enter a string:Hello\n",
            "Length of the input string is: 5\n"
          ]
        }
      ]
    },
    {
      "cell_type": "code",
      "source": [
        "#13 code\n",
        "arr=[5,9,1,10,3,8,4,2,7,6]\n",
        "temp=0\n",
        "max_size=len(arr)\n",
        "print(\"The elements of the array before sorting:\");\n",
        "for i in range(0,max_size):\n",
        "     print(arr[i],end=\" \")\n",
        "print()\n",
        "for i in range (0,max_size):\n",
        "    for j in range (i+1,len(arr)):\n",
        "        if(arr[i]>arr[j]):\n",
        "           temp=arr[i]\n",
        "           arr[i]=arr[j]\n",
        "           arr[j]=temp\n",
        "print(\"The elements of the array after sorting:\")\n",
        "for i in range(0,max_size):\n",
        "    print(arr[i],end=\" \")"
      ],
      "metadata": {
        "colab": {
          "base_uri": "https://localhost:8080/"
        },
        "id": "E8v2WzZjhvBd",
        "outputId": "f130ccdd-622a-438b-81ae-34a388c6546f"
      },
      "execution_count": null,
      "outputs": [
        {
          "output_type": "stream",
          "name": "stdout",
          "text": [
            "The elements of the array before sorting:\n",
            "5 9 1 10 3 8 4 2 7 6 \n",
            "The elements of the array after sorting:\n",
            "1 2 3 4 5 6 7 8 9 10 "
          ]
        }
      ]
    }
  ]
}