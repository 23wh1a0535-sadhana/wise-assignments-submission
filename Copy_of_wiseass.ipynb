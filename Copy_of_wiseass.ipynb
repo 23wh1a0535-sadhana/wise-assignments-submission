{
  "nbformat": 4,
  "nbformat_minor": 0,
  "metadata": {
    "colab": {
      "provenance": [],
      "authorship_tag": "ABX9TyNEu+oCdLwSR0nWMrRgJDje",
      "include_colab_link": true
    },
    "kernelspec": {
      "name": "python3",
      "display_name": "Python 3"
    },
    "language_info": {
      "name": "python"
    }
  },
  "cells": [
    {
      "cell_type": "markdown",
      "metadata": {
        "id": "view-in-github",
        "colab_type": "text"
      },
      "source": [
        "<a href=\"https://colab.research.google.com/github/23wh1a0535-sadhana/wise-assignments-submission/blob/main/Copy_of_wiseass.ipynb\" target=\"_parent\"><img src=\"https://colab.research.google.com/assets/colab-badge.svg\" alt=\"Open In Colab\"/></a>"
      ]
    },
    {
      "cell_type": "markdown",
      "source": [],
      "metadata": {
        "id": "Qgtq9p-quOpg"
      }
    },
    {
      "cell_type": "code",
      "execution_count": null,
      "metadata": {
        "colab": {
          "base_uri": "https://localhost:8080/"
        },
        "id": "EudZ06kOZymw",
        "outputId": "c68823b6-8687-47cb-c492-68fb6563791f"
      },
      "outputs": [
        {
          "output_type": "stream",
          "name": "stdout",
          "text": [
            "Guess a number between 1 and 9: 3\n",
            "Congratulations! You guessed the correct number.\n"
          ]
        }
      ],
      "source": [
        "import random\n",
        "number_to_guess = random.randint(1,9)\n",
        "guessed = False\n",
        "\n",
        "while not guessed:\n",
        "    guess = int(input(\"Guess a number between 1 and 9: \"))\n",
        "    if guess == number_to_guess:\n",
        "        print(\"Congratulations! You guessed the correct number.\")\n",
        "        guessed = True\n",
        "    else:\n",
        "        print(\"Try again.\")"
      ]
    },
    {
      "cell_type": "code",
      "source": [
        "for i in range(1, 6):\n",
        "    print('* ' * i)\n",
        "for i in range(4, 0, -1):\n",
        "    print('* ' * i)"
      ],
      "metadata": {
        "colab": {
          "base_uri": "https://localhost:8080/"
        },
        "id": "ErsdKG8faluZ",
        "outputId": "61694289-6827-479f-94ab-594269a3a270"
      },
      "execution_count": null,
      "outputs": [
        {
          "output_type": "stream",
          "name": "stdout",
          "text": [
            "* \n",
            "* * \n",
            "* * * \n",
            "* * * * \n",
            "* * * * * \n",
            "* * * * \n",
            "* * * \n",
            "* * \n",
            "* \n"
          ]
        }
      ]
    },
    {
      "cell_type": "code",
      "source": [
        "for i in range(7):\n",
        "    if i != 3 and i != 6:\n",
        "        print(i)"
      ],
      "metadata": {
        "colab": {
          "base_uri": "https://localhost:8080/"
        },
        "id": "BUAKsY3ndZrc",
        "outputId": "fa55778f-5c40-487e-d8a1-abeb3d1b47ef"
      },
      "execution_count": null,
      "outputs": [
        {
          "output_type": "stream",
          "name": "stdout",
          "text": [
            "0\n",
            "1\n",
            "2\n",
            "4\n",
            "5\n"
          ]
        }
      ]
    },
    {
      "cell_type": "code",
      "source": [
        "string = input(\"Enter a string: \")\n",
        "letters = sum(c.isalpha() for c in string)\n",
        "digits = sum(c.isdigit() for c in string)\n",
        "print(f\"Letters: {letters}, Digits: {digits}\")"
      ],
      "metadata": {
        "colab": {
          "base_uri": "https://localhost:8080/"
        },
        "id": "7lnwgXt-dihq",
        "outputId": "83421f90-14a7-4e30-bd5f-7e735d4642ac"
      },
      "execution_count": null,
      "outputs": [
        {
          "output_type": "stream",
          "name": "stdout",
          "text": [
            "Enter a string: helo\n",
            "Letters: 4, Digits: 0\n"
          ]
        }
      ]
    },
    {
      "cell_type": "code",
      "source": [
        "def factorial(n):\n",
        "    if n == 0:\n",
        "        return 1\n",
        "    return n * factorial(n - 1)\n",
        "\n",
        "num = int(input(\"Enter a number: \"))\n",
        "print(\"Factorial:\",factorial(num))"
      ],
      "metadata": {
        "colab": {
          "base_uri": "https://localhost:8080/"
        },
        "id": "UB_Eq-ZGdmq1",
        "outputId": "a4f4a0ee-4b3b-4654-c634-888b0aef50f1"
      },
      "execution_count": null,
      "outputs": [
        {
          "output_type": "stream",
          "name": "stdout",
          "text": [
            "Enter a number: 3\n",
            "Factorial: 6\n"
          ]
        }
      ]
    },
    {
      "cell_type": "code",
      "source": [
        "import random\n",
        "initial_number = 25\n",
        "progression = [initial_number]\n",
        "for _ in range(4):\n",
        "    initial_number += random.randint(1, 10)\n",
        "    progression.append(initial_number)\n",
        "print(\"Random Arithmetic Progression:\")"
      ],
      "metadata": {
        "colab": {
          "base_uri": "https://localhost:8080/"
        },
        "id": "k27EGA-5d1sA",
        "outputId": "1a850008-d24c-42fc-d2a6-3459bc52b9cf"
      },
      "execution_count": null,
      "outputs": [
        {
          "output_type": "stream",
          "name": "stdout",
          "text": [
            "Random Arithmetic Progression:\n"
          ]
        }
      ]
    },
    {
      "cell_type": "code",
      "source": [
        "word = input(\"Enter a word: \")\n",
        "reversed_word = word[::-1]\n",
        "print(\"Reversed word:\",reversed_word)"
      ],
      "metadata": {
        "colab": {
          "base_uri": "https://localhost:8080/"
        },
        "id": "vTRCFphneAmA",
        "outputId": "d0d1b462-7004-4afd-fc1a-5779c802dc10"
      },
      "execution_count": null,
      "outputs": [
        {
          "output_type": "stream",
          "name": "stdout",
          "text": [
            "Enter a word: hi\n",
            "Reversed word: ih\n"
          ]
        }
      ]
    },
    {
      "cell_type": "code",
      "source": [
        "string = input(\"Enter a string: \")\n",
        "digits = sum(c.isdigit() for c in string)\n",
        "letters = sum(c.isalpha() for c in string)\n",
        "print(f\"Number of digits: {digits}\")\n",
        "print(f\"Number of letters: {letters}\")"
      ],
      "metadata": {
        "colab": {
          "base_uri": "https://localhost:8080/"
        },
        "id": "fOi0A70QeSRX",
        "outputId": "df8eba45-5be7-47ee-e99c-2f52b0d6e13f"
      },
      "execution_count": null,
      "outputs": [
        {
          "output_type": "stream",
          "name": "stdout",
          "text": [
            "Enter a string: 30vars\n",
            "Number of digits: 2\n",
            "Number of letters: 4\n"
          ]
        }
      ]
    },
    {
      "cell_type": "code",
      "source": [
        "alphabet = input(\"Enter an alphabet: \").lower()\n",
        "if alphabet.isalpha() and len(alphabet) == 1:\n",
        "    if alphabet in 'aeiou':\n",
        "        print(f\"{alphabet} is a vowel.\")\n",
        "    else:\n",
        "        print(f\"{alphabet} is a consonant.\")\n",
        "else:\n",
        "    print(\"Please enter a single alphabet character.\")"
      ],
      "metadata": {
        "colab": {
          "base_uri": "https://localhost:8080/"
        },
        "id": "xlt9-FCAechN",
        "outputId": "3a338976-e360-4d19-9a9f-6190e3ada180"
      },
      "execution_count": null,
      "outputs": [
        {
          "output_type": "stream",
          "name": "stdout",
          "text": [
            "Enter an alphabet: helo\n",
            "Please enter a single alphabet character.\n"
          ]
        }
      ]
    },
    {
      "cell_type": "code",
      "source": [
        "month_name = input(\"Enter month name: \").lower()\n",
        "days_in_month = {\n",
        "    \"january\": 31, \"february\": 28, \"march\": 31, \"april\": 30,\n",
        "    \"may\": 31, \"june\": 30, \"july\": 31, \"august\": 31,\n",
        "    \"september\": 30, \"october\": 31, \"november\": 30, \"december\": 31\n",
        "}\n",
        "if month_name in days_in_month:\n",
        "    print(f\"Number of days in {month_name.capitalize()}: {days_in_month[month_name]}\")\n",
        "else:\n",
        "    print(\"Invalid month name entered.\")"
      ],
      "metadata": {
        "colab": {
          "base_uri": "https://localhost:8080/"
        },
        "id": "bsd4yehxekYy",
        "outputId": "5825c029-03dd-4cf2-9fe9-4c589393364c"
      },
      "execution_count": null,
      "outputs": [
        {
          "output_type": "stream",
          "name": "stdout",
          "text": [
            "Enter month name: april\n",
            "Number of days in April: 30\n"
          ]
        }
      ]
    },
    {
      "cell_type": "code",
      "source": [
        "def is_leap_year(year):\n",
        "    return (year % 4 == 0 and year % 100 != 0) or (year % 400 == 0)\n",
        "\n",
        "def get_next_day(year, month, day):\n",
        "    days_in_month = [0, 31, 28, 31, 30, 31, 30, 31, 31, 30, 31, 30, 31]\n",
        "\n",
        "    if is_leap_year(year):\n",
        "        days_in_month[2] = 29\n",
        "\n",
        "    if day < days_in_month[month]:\n",
        "        return year, month, day + 1\n",
        "    else:\n",
        "        if month == 12:\n",
        "            return year + 1, 1, 1\n",
        "        else:\n",
        "            return year, month + 1, 1\n",
        "\n",
        "# Input date\n",
        "year = int(input(\"Enter year: \"))\n",
        "month = int(input(\"Enter month (1-12): \"))\n",
        "day = int(input(\"Enter day (1-31): \"))\n",
        "\n",
        "next_year, next_month, next_day = get_next_day(year, month, day)\n",
        "print(f\"The next day is: {next_year}-{next_month:02d}-{next_day:02d}\")"
      ],
      "metadata": {
        "colab": {
          "base_uri": "https://localhost:8080/"
        },
        "id": "mzEfdTqCeqh6",
        "outputId": "e8ec7c32-d15d-41c0-9d85-4ba25373010b"
      },
      "execution_count": null,
      "outputs": [
        {
          "output_type": "stream",
          "name": "stdout",
          "text": [
            "Enter year: 2013\n",
            "Enter month (1-12): 10\n",
            "Enter day (1-31): 13\n",
            "The next day is: 2013-10-14\n"
          ]
        }
      ]
    },
    {
      "cell_type": "code",
      "source": [
        "month = input(\"Enter the month: \")\n",
        "day = int(input(\"Enter the day: \"))\n",
        "if month in ('January', 'February', 'March'):\n",
        "\tseason = 'winter'\n",
        "elif month in ('April', 'May', 'June'):\n",
        "\tseason = 'spring'\n",
        "elif month in ('July', 'August', 'September'):\n",
        "\tseason = 'summer'\n",
        "else:\n",
        "\tseason = 'autumn'\n",
        "if (month == 'March') and (day > 19):\n",
        "\tseason = 'spring'\n",
        "elif (month == 'June') and (day > 20):\n",
        "\tseason = 'summer'\n",
        "elif (month == 'September') and (day > 21):\n",
        "\tseason = 'autumn'\n",
        "elif (month == 'December') and (day > 20):\n",
        "\tseason = 'winter'\n",
        "print(\"Season is\",season)"
      ],
      "metadata": {
        "colab": {
          "base_uri": "https://localhost:8080/"
        },
        "id": "lvCHJOm_fJlS",
        "outputId": "c890ab48-b278-4b37-a0b6-876951a54d27"
      },
      "execution_count": null,
      "outputs": [
        {
          "output_type": "stream",
          "name": "stdout",
          "text": [
            "Enter the month: april\n",
            "Enter the day: 20\n",
            "Season is autumn\n"
          ]
        }
      ]
    },
    {
      "cell_type": "code",
      "source": [
        "n = int(input(\"Input a number: \"))\n",
        "for i in range(1,11):\n",
        "   print(n,'x',i,'=',n*i)"
      ],
      "metadata": {
        "colab": {
          "base_uri": "https://localhost:8080/"
        },
        "id": "vRbHD_6CgdXZ",
        "outputId": "eab055d5-96a9-4f78-9a47-71cebc6f9391"
      },
      "execution_count": null,
      "outputs": [
        {
          "output_type": "stream",
          "name": "stdout",
          "text": [
            "Input a number: 10\n",
            "10 x 1 = 10\n",
            "10 x 2 = 20\n",
            "10 x 3 = 30\n",
            "10 x 4 = 40\n",
            "10 x 5 = 50\n",
            "10 x 6 = 60\n",
            "10 x 7 = 70\n",
            "10 x 8 = 80\n",
            "10 x 9 = 90\n",
            "10 x 10 = 100\n"
          ]
        }
      ]
    },
    {
      "cell_type": "code",
      "source": [
        "i=10\n",
        "while(i>=1):\n",
        "   print(i)\n",
        "   i=i-1"
      ],
      "metadata": {
        "colab": {
          "base_uri": "https://localhost:8080/"
        },
        "id": "IP1o-wuhglk0",
        "outputId": "94eac92b-804a-4c77-8555-e4ca3f31421d"
      },
      "execution_count": null,
      "outputs": [
        {
          "output_type": "stream",
          "name": "stdout",
          "text": [
            "10\n",
            "9\n",
            "8\n",
            "7\n",
            "6\n",
            "5\n",
            "4\n",
            "3\n",
            "2\n",
            "1\n"
          ]
        }
      ]
    },
    {
      "cell_type": "code",
      "source": [],
      "metadata": {
        "id": "6y8nfJZ3gvop"
      },
      "execution_count": null,
      "outputs": []
    }
  ]
}