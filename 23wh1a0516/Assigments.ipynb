{
  "cells": [
    {
      "cell_type": "code",
      "execution_count": null,
      "metadata": {
        "colab": {
          "base_uri": "https://localhost:8080/"
        },
        "id": "s6mR8mERcqg6",
        "outputId": "40bce413-c508-4a4b-b37b-0cb9363c67b9"
      },
      "outputs": [
        {
          "name": "stdout",
          "output_type": "stream",
          "text": [
            "0\n",
            "1\n",
            "2\n",
            "4\n",
            "5\n"
          ]
        }
      ],
      "source": [
        "# loops\n",
        "#1. Write a Python program that prints all the numbers from 0 to 6 except 3 and 6\n",
        "for x in range(6) :\n",
        "    if x != 3 and x !=6 :\n",
        "        print(x)"
      ]
    },
    {
      "cell_type": "code",
      "execution_count": null,
      "metadata": {
        "colab": {
          "base_uri": "https://localhost:8080/"
        },
        "id": "D-srEK7xdzL1",
        "outputId": "52975577-9e58-4288-e0d8-e54e1244cb58"
      },
      "outputs": [
        {
          "name": "stdout",
          "output_type": "stream",
          "text": [
            "enter number :5\n",
            "120\n"
          ]
        }
      ],
      "source": [
        "#2. Write a program to calculate factorial of a given number\n",
        "num = int(input(\"enter number :\"))\n",
        "fact = 1\n",
        "i=1\n",
        "while (i<=num) :\n",
        "    fact = fact*i\n",
        "    i+=1\n",
        "print(fact)"
      ]
    },
    {
      "cell_type": "code",
      "execution_count": null,
      "metadata": {
        "colab": {
          "base_uri": "https://localhost:8080/"
        },
        "id": "yx_DDqaRey7f",
        "outputId": "95ffe562-3f03-449b-d449-222c288e8c2a"
      },
      "outputs": [
        {
          "name": "stdout",
          "output_type": "stream",
          "text": [
            "enter number :vaishu ch\n",
            "ch vaishu\n"
          ]
        }
      ],
      "source": [
        "#3. Write a Python program that accepts a word from the user and reverses it\n",
        "word = (input(\"enter word :\"))\n",
        "s = word.split()[::-1]\n",
        "rev = []\n",
        "for i in s:\n",
        "    rev.append(i)\n",
        "print(\" \".join(rev))\n"
      ]
    },
    {
      "cell_type": "code",
      "execution_count": null,
      "metadata": {
        "colab": {
          "base_uri": "https://localhost:8080/"
        },
        "id": "3CUzLVuysdoi",
        "outputId": "81c98cb4-ceb1-421b-cd94-afc7b0713551"
      },
      "outputs": [
        {
          "name": "stdout",
          "output_type": "stream",
          "text": [
            "enter alphabet :a\n",
            "vowel\n"
          ]
        }
      ],
      "source": [
        "#4. Write a Python program to check whether an alphabet is a vowel or consonant\n",
        "alpha = input(\"enter alphabet :\")\n",
        "if alpha == \"a\"or alpha == \"e\" or alpha == \"i\" or alpha == \"o\" or alpha == \"u\" :\n",
        "    print(\"vowel\")\n",
        "else :\n",
        "    print(\"consonant\")"
      ]
    },
    {
      "cell_type": "code",
      "execution_count": null,
      "metadata": {
        "colab": {
          "base_uri": "https://localhost:8080/"
        },
        "id": "eoQn9UDqtctk",
        "outputId": "0333b9fd-a26b-415c-c03f-26c7a6189bbb"
      },
      "outputs": [
        {
          "name": "stdout",
          "output_type": "stream",
          "text": [
            "List of months: January, February, March, April, May, June, July, August, September, October, November, December\n",
            "Input the name of Month: May\n",
            "No. of days: 31 day\n"
          ]
        }
      ],
      "source": [
        "# 5. Write a Python program to convert a month name to a number of days\n",
        "print(\"List of months: January, February, March, April, May, June, July, August, September, October, November, December\")\n",
        "month_name = input(\"Input the name of Month: \")\n",
        "if month_name == \"February\":\n",
        "\tprint(\"No. of days: 28/29 days\")\n",
        "elif month_name in (\"April\", \"June\", \"September\", \"November\"):\n",
        "\tprint(\"No. of days: 30 days\")\n",
        "elif month_name in (\"January\", \"March\", \"May\", \"July\", \"August\", \"October\", \"December\"):\n",
        "\tprint(\"No. of days: 31 day\")\n",
        "else:\n",
        "\tprint(\"Wrong month name\")"
      ]
    },
    {
      "cell_type": "code",
      "execution_count": null,
      "metadata": {
        "colab": {
          "base_uri": "https://localhost:8080/"
        },
        "id": "zAotiEjaurB5",
        "outputId": "e5a303aa-e8ab-449a-d831-e3a3c1263d1b"
      },
      "outputs": [
        {
          "name": "stdout",
          "output_type": "stream",
          "text": [
            "enter number : 5\n",
            "5\n",
            "10\n",
            "15\n",
            "20\n",
            "25\n",
            "30\n",
            "35\n",
            "40\n",
            "45\n",
            "50\n"
          ]
        }
      ],
      "source": [
        "# 6. Write a Python program to create the multiplication table (from 1 to 10) of a number.\n",
        "num = int(input(\"enter number : \"))\n",
        "i = 1\n",
        "product =1\n",
        "while (i<=10) :\n",
        "    product = num * i\n",
        "    print(product)\n",
        "    i+=1"
      ]
    },
    {
      "cell_type": "code",
      "execution_count": null,
      "metadata": {
        "colab": {
          "base_uri": "https://localhost:8080/"
        },
        "id": "HO441q15xB6s",
        "outputId": "ecb2ea42-19e9-489d-d326-bd6e6daab9ce"
      },
      "outputs": [
        {
          "name": "stdout",
          "output_type": "stream",
          "text": [
            "enter range : 5\n",
            "5\n",
            "4\n",
            "3\n",
            "2\n",
            "1\n"
          ]
        }
      ],
      "source": [
        "# 7. Write a program to print n natural number in descending order using a while loop.\n",
        "range = int(input(\"enter range : \"))\n",
        "i = range\n",
        "while i>0 :\n",
        "    print(i)\n",
        "    i-=1"
      ]
    },
    {
      "cell_type": "code",
      "execution_count": null,
      "metadata": {
        "id": "O8q325wK03He"
      },
      "outputs": [],
      "source": [
        "# functions\n",
        "#1. Write a program to swap two numbers.\n",
        "def swap() :\n",
        "    num1 = int(input(\"enter number 1 : \"))\n",
        "    num2 = int(input(\"enter number 2 : \"))\n",
        "    temp = num1\n",
        "    num1 = num2\n",
        "    num2 = temp\n",
        "    print(num1)\n",
        "    print(num2)"
      ]
    },
    {
      "cell_type": "code",
      "execution_count": null,
      "metadata": {
        "colab": {
          "base_uri": "https://localhost:8080/"
        },
        "id": "XtD89KLE2bff",
        "outputId": "236d569c-67d9-48d0-901e-098988de6bb0"
      },
      "outputs": [
        {
          "name": "stdout",
          "output_type": "stream",
          "text": [
            "enter number 1 : 3\n",
            "enter number 2 : 4\n",
            "4\n",
            "3\n"
          ]
        }
      ],
      "source": [
        "swap()"
      ]
    },
    {
      "cell_type": "code",
      "execution_count": null,
      "metadata": {
        "id": "819gBUmG4oJH"
      },
      "outputs": [],
      "source": [
        "#2. Write a program to reverse the given digits.\n",
        "def reverse() :\n",
        "    num = int(input(\"enter number :\"))\n",
        "    rev1 = 0\n",
        "    while num != 0:\n",
        "        digit = num % 10\n",
        "        rev1= rev1 * 10 + digit\n",
        "        num = num//10\n",
        "    print(rev1)"
      ]
    },
    {
      "cell_type": "code",
      "execution_count": null,
      "metadata": {
        "colab": {
          "base_uri": "https://localhost:8080/"
        },
        "id": "A-dOAkdd8JsH",
        "outputId": "45d801ad-ca98-4789-ab22-645fc4e079e2"
      },
      "outputs": [
        {
          "name": "stdout",
          "output_type": "stream",
          "text": [
            "enter number :1234\n",
            "4321\n"
          ]
        }
      ],
      "source": [
        "reverse()"
      ]
    },
    {
      "cell_type": "code",
      "execution_count": null,
      "metadata": {
        "id": "HRzR4xrw9zJf"
      },
      "outputs": [],
      "source": [
        "#3. Write a program to add up numbers in a given list .\n",
        "def add() :\n",
        "    list1 = [5,1,6,8,10]\n",
        "    sum = 0\n",
        "    for x in list1 :\n",
        "        sum = sum + (x)\n",
        "    print(sum)"
      ]
    },
    {
      "cell_type": "code",
      "execution_count": null,
      "metadata": {
        "colab": {
          "base_uri": "https://localhost:8080/"
        },
        "id": "l8bYn_8U_pCk",
        "outputId": "7f3b4bc1-a365-45c4-a4ff-854f1d8e5050"
      },
      "outputs": [
        {
          "name": "stdout",
          "output_type": "stream",
          "text": [
            "30\n"
          ]
        }
      ],
      "source": [
        "add()"
      ]
    },
    {
      "cell_type": "code",
      "execution_count": null,
      "metadata": {
        "id": "TAMUy5TX_zzl"
      },
      "outputs": [],
      "source": [
        "#4. Write a program to check wether a given string is a palindrome or not\n",
        "def palindrome() :\n",
        "    num = int(input(\"enter number :\"))\n",
        "    temp = num\n",
        "    rev2 = 0\n",
        "    while num !=0 :\n",
        "        rem1 = num%10\n",
        "        rev2 = rev2*10 + rem1\n",
        "        num = num//10\n",
        "    if temp == rev2 :\n",
        "        print(\"palindrome\")\n",
        "    else :\n",
        "        print(\"not a palindrome\")\n"
      ]
    },
    {
      "cell_type": "code",
      "execution_count": null,
      "metadata": {
        "colab": {
          "base_uri": "https://localhost:8080/"
        },
        "id": "gj5ukMtbBSxr",
        "outputId": "b6f6559c-1989-431a-96da-bdc38ce1b62b"
      },
      "outputs": [
        {
          "name": "stdout",
          "output_type": "stream",
          "text": [
            "enter number :121\n",
            "palindrome\n"
          ]
        }
      ],
      "source": [
        "palindrome()"
      ]
    },
    {
      "cell_type": "code",
      "execution_count": null,
      "metadata": {
        "id": "Q_SBd_WSChok"
      },
      "outputs": [],
      "source": [
        "# 5.Write a program to find the greatest number among given three numbers\n",
        "def largest_of_3_numbers() :\n",
        "    num1 = int(input(\"enter number 1 :\"))\n",
        "    num2 = int(input(\"enter number 2 :\"))\n",
        "    num3 = int(input(\"enter number 3 :\"))\n",
        "    if num1>num2 and num1>num3 :\n",
        "        print(num1)\n",
        "    elif num2>num1 and num2>num3 :\n",
        "        print(num2)\n",
        "    elif num3>num1 and num3>num2 :\n",
        "        print(num3)"
      ]
    },
    {
      "cell_type": "code",
      "execution_count": null,
      "metadata": {
        "colab": {
          "base_uri": "https://localhost:8080/"
        },
        "id": "tMgEF6-QDU9y",
        "outputId": "64303ff5-bc9e-4697-8e79-f5115cf48959"
      },
      "outputs": [
        {
          "name": "stdout",
          "output_type": "stream",
          "text": [
            "enter number 1 :34\n",
            "enter number 2 :23\n",
            "enter number 3 :10\n",
            "34\n"
          ]
        }
      ],
      "source": [
        "largest_of_3_numbers()"
      ]
    },
    {
      "cell_type": "code",
      "execution_count": null,
      "metadata": {
        "id": "aIzBq1VKDb7m"
      },
      "outputs": [],
      "source": [
        "# 6.Write a program to check wether the entered city name is present in telangana or not\n",
        "def city() :\n",
        "    city_name = input(\"enter name of the city :\")\n",
        "    if city_name in (\"hyderabad\",\"suryapet\",\"medak\",\"mahabubnagar\",\"warangal\",\"nalgonda\",\"mancherial\",\"jagtial\",\"adilabad\",\"khammam\",\"karimnagar\") :\n",
        "        print(\"present in telangana\")\n",
        "    else :\n",
        "        print(\"not present in telangana\")"
      ]
    },
    {
      "cell_type": "code",
      "execution_count": null,
      "metadata": {
        "colab": {
          "base_uri": "https://localhost:8080/"
        },
        "id": "nQOGXuNhFacE",
        "outputId": "e09d25a3-1f4c-45b2-e2e9-1c9bfa42bc90"
      },
      "outputs": [
        {
          "name": "stdout",
          "output_type": "stream",
          "text": [
            "enter name of the city :medak\n",
            "present in telangana\n"
          ]
        }
      ],
      "source": [
        "city()"
      ]
    },
    {
      "cell_type": "code",
      "execution_count": null,
      "metadata": {
        "id": "Pi5twWxCFuke"
      },
      "outputs": [],
      "source": [
        "# 7.Write a program to reverse the given digits.\n",
        "def reverse1() :\n",
        "    num = int(input(\"enter number :\"))\n",
        "    rev2 = 0\n",
        "    while num !=0 :\n",
        "        rem1 = num%10\n",
        "        rev2 = rev2*10 + rem1\n",
        "        num = num//10\n",
        "    print(rev2)"
      ]
    },
    {
      "cell_type": "code",
      "execution_count": null,
      "metadata": {
        "colab": {
          "base_uri": "https://localhost:8080/"
        },
        "id": "PtzBfIHrGfJG",
        "outputId": "3ed193c6-f332-4946-a9b8-7251fa25dd7b"
      },
      "outputs": [
        {
          "name": "stdout",
          "output_type": "stream",
          "text": [
            "enter number :1234\n",
            "4321\n"
          ]
        }
      ],
      "source": [
        "reverse1()"
      ]
    },
    {
      "cell_type": "code",
      "execution_count": null,
      "metadata": {
        "id": "tdWUi_eRGgxx"
      },
      "outputs": [],
      "source": [
        "#8. Write a program to find the square root of a number .\n",
        "def sqrt() :\n",
        "    num = int(input(\"enter number :\"))\n",
        "    print(pow(num,0.5))"
      ]
    },
    {
      "cell_type": "code",
      "execution_count": null,
      "metadata": {
        "colab": {
          "base_uri": "https://localhost:8080/"
        },
        "id": "OESM7HihHMiC",
        "outputId": "48a84b6c-49e4-495a-a8e0-9255ccb66d7d"
      },
      "outputs": [
        {
          "name": "stdout",
          "output_type": "stream",
          "text": [
            "enter number :6\n",
            "2.449489742783178\n"
          ]
        }
      ],
      "source": [
        "sqrt()"
      ]
    },
    {
      "cell_type": "code",
      "execution_count": null,
      "metadata": {
        "id": "tnlkjdVHHN8E"
      },
      "outputs": [],
      "source": [
        "# 9. Write a program to calculate length of a string entered by a user.\n",
        "def len_of_str() :\n",
        "    str1 = input(\"enter a string :\")\n",
        "    print(len(str1))"
      ]
    },
    {
      "cell_type": "code",
      "execution_count": null,
      "metadata": {
        "colab": {
          "base_uri": "https://localhost:8080/"
        },
        "id": "3B4i9WzjIeSL",
        "outputId": "13fe7eb3-4031-49d0-edf2-98f8a0bd9b63"
      },
      "outputs": [
        {
          "name": "stdout",
          "output_type": "stream",
          "text": [
            "enter a string :vaishnavi\n",
            "9\n"
          ]
        }
      ],
      "source": [
        "len_of_str()"
      ]
    },
    {
      "cell_type": "code",
      "execution_count": null,
      "metadata": {
        "id": "5ktc6jP-IgtQ"
      },
      "outputs": [],
      "source": [
        "#10. Write a program to check if a given triangle is a right angled triangle or not\n",
        "def right_angled_triangle() :\n",
        "    s1 = int(input(\"enter side 1 :\"))\n",
        "    s2 = int(input(\"enter side 2 :\"))\n",
        "    s3 = int(input(\"enter side 3 :\"))\n",
        "    if (s1*s1) + (s2*s2) == (s3*s3) or (s1*s1) + (s3*s3) == (s2*s2) or (s2*s2) + (s3*s3) == (s1*s1) :\n",
        "        print(\"the given triangle is a right angled\")\n",
        "    else :\n",
        "        print(\"the given triangle is not right angled \")\n"
      ]
    },
    {
      "cell_type": "code",
      "execution_count": null,
      "metadata": {
        "colab": {
          "base_uri": "https://localhost:8080/"
        },
        "id": "m9710bu2KPZO",
        "outputId": "b63d7ea9-1f84-4d15-db93-42733c41ef8e"
      },
      "outputs": [
        {
          "name": "stdout",
          "output_type": "stream",
          "text": [
            "enter side 1 :3\n",
            "enter side 2 :4\n",
            "enter side 3 :5\n",
            "the given triangle is a right angled\n"
          ]
        }
      ],
      "source": [
        "right_angled_triangle()"
      ]
    },
    {
      "cell_type": "code",
      "execution_count": null,
      "metadata": {
        "colab": {
          "base_uri": "https://localhost:8080/"
        },
        "id": "wzKePWL9KTNQ",
        "outputId": "0e13b4cd-2620-4f5d-d62d-bc9680193a9f"
      },
      "outputs": [
        {
          "name": "stdout",
          "output_type": "stream",
          "text": [
            "vaishnavi keerthana srijani sudheepthi\n"
          ]
        }
      ],
      "source": [
        "#11. Write a program to convert a list into string.\n",
        "def list_to_string(names):\n",
        "    str2 = \" \"\n",
        "    return(str2.join(names))\n",
        "names = [\"vaishnavi\",\"keerthana\",\"srijani\",\"sudheepthi\"]\n",
        "print(list_to_string(names))"
      ]
    },
    {
      "cell_type": "code",
      "execution_count": null,
      "metadata": {
        "id": "r4nK4LcZOmbh"
      },
      "outputs": [],
      "source": [
        "#12. Write a program to print the largest string from a given list .\n",
        "def largest_of_string() :\n",
        "    str3 =[\"vaishnavi\",\"fruit\",\"chocolate\",\"cool drinks\"]\n",
        "    max_len = -1\n",
        "    for ele in str3 :\n",
        "        if len(ele) > max_len :\n",
        "            max_len = len(ele)\n",
        "            res = ele\n",
        "\n",
        "# printing result\n",
        "    print(\"Maximum length string is : \", res)"
      ]
    },
    {
      "cell_type": "code",
      "execution_count": null,
      "metadata": {
        "colab": {
          "base_uri": "https://localhost:8080/"
        },
        "id": "ti9jqFMLSFEU",
        "outputId": "a8181ac2-0d74-4100-e20d-dfff3126eede"
      },
      "outputs": [
        {
          "output_type": "stream",
          "name": "stdout",
          "text": [
            "Maximum length string is :  cool drinks\n"
          ]
        }
      ],
      "source": [
        "largest_of_string()"
      ]
    },
    {
      "cell_type": "code",
      "execution_count": null,
      "metadata": {
        "id": "VBbX7N15Tv8O",
        "colab": {
          "base_uri": "https://localhost:8080/"
        },
        "outputId": "aae0b414-a2c1-4a1f-f1e3-72822dba00f7"
      },
      "outputs": [
        {
          "output_type": "stream",
          "name": "stdout",
          "text": [
            "enter number 1 :3\n",
            "enter number 2 :6\n",
            "The L.C.M. is 6\n"
          ]
        }
      ],
      "source": [
        "#13.Write a program to find lcm of two numbers.\n",
        "def lcm_of_2nos(num1,num2) :\n",
        "   num1 = int(input(\"enter number 1 :\"))\n",
        "   num2 = int(input(\"enter number 2 :\"))\n",
        "   if num1 > num2 :\n",
        "       greater = num1\n",
        "   else:\n",
        "       greater = num2\n",
        "\n",
        "   while(True):\n",
        "       if((greater % num1 == 0) and (greater % num2 == 0)):\n",
        "           lcm = greater\n",
        "           break\n",
        "       greater += 1\n",
        "\n",
        "   return lcm\n",
        "print(\"The L.C.M. is\",lcm_of_2nos(num1, num2))\n"
      ]
    },
    {
      "cell_type": "code",
      "source": [],
      "metadata": {
        "id": "74hq2OxOWuUf"
      },
      "execution_count": null,
      "outputs": []
    }
  ],
  "metadata": {
    "colab": {
      "provenance": []
    },
    "kernelspec": {
      "display_name": "Python 3",
      "name": "python3"
    },
    "language_info": {
      "name": "python"
    }
  },
  "nbformat": 4,
  "nbformat_minor": 0
}