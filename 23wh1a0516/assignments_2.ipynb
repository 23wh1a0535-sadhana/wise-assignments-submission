{
  "nbformat": 4,
  "nbformat_minor": 0,
  "metadata": {
    "colab": {
      "provenance": []
    },
    "kernelspec": {
      "name": "python3",
      "display_name": "Python 3"
    },
    "language_info": {
      "name": "python"
    }
  },
  "cells": [
    {
      "cell_type": "code",
      "execution_count": null,
      "metadata": {
        "colab": {
          "base_uri": "https://localhost:8080/"
        },
        "id": "KpVU89NHVcbW",
        "outputId": "26c5b06a-9685-479a-f0fb-d761ee035b4a"
      },
      "outputs": [
        {
          "output_type": "stream",
          "name": "stdout",
          "text": [
            "enter number :4\n",
            "wrong number\n",
            "enter number :2\n",
            "wrong number\n",
            "enter number :3\n",
            "you have guessed the number\n"
          ]
        }
      ],
      "source": [
        "#loops\n",
        "# 8. Write a Python program to guess a number between 1 and 9\n",
        "random = 3\n",
        "while 1 :\n",
        "    num =int(input(\"enter number :\"))\n",
        "    if random == num :\n",
        "        print(\"you have guessed the number\")\n",
        "        break\n",
        "    else :\n",
        "        print(\"wrong number\")"
      ]
    },
    {
      "cell_type": "code",
      "source": [
        "# 9. Write a Python program that reads two integers representing a month and day and prints the season for that month and day.\n",
        "month = int(input(\"enter month number : \"))\n",
        "day = int(input(\"enter day : \"))\n",
        "if (month in (1,2)) or ((month == 3) and (day <= 19)) or ((month == 12) and (day > 20)):\n",
        "\tseason = 'winter'\n",
        "elif (month in (3,4, 5)) or ((month == 6) and (day <= 20)):\n",
        "\tseason = 'spring'\n",
        "elif (month in (6, 7,8 )) or ((month == 9) and (day <= 21)):\n",
        "\tseason = 'summer'\n",
        "else:\n",
        "\tseason = 'autumn'\n",
        "print(season)"
      ],
      "metadata": {
        "colab": {
          "base_uri": "https://localhost:8080/"
        },
        "id": "415XjQDzYZEm",
        "outputId": "98e96246-0602-4061-b8e9-a8a9fdb1ec2b"
      },
      "execution_count": null,
      "outputs": [
        {
          "output_type": "stream",
          "name": "stdout",
          "text": [
            "enter month number : 4\n",
            "enter day : 19\n",
            "spring\n"
          ]
        }
      ]
    },
    {
      "cell_type": "code",
      "source": [
        "# fuctions\n",
        "# 14.Write a program to convert a string into a list .\n",
        "def strtolist(string):\n",
        "    List = list(string)\n",
        "    return List\n",
        "print(strtolist(\"vaishnavi\"))"
      ],
      "metadata": {
        "colab": {
          "base_uri": "https://localhost:8080/"
        },
        "id": "vBBrAiPoavTh",
        "outputId": "17cda386-323c-467d-984c-25f1682f1c94"
      },
      "execution_count": 19,
      "outputs": [
        {
          "output_type": "stream",
          "name": "stdout",
          "text": [
            "['v', 'a', 'i', 's', 'h', 'n', 'a', 'v', 'i']\n"
          ]
        }
      ]
    },
    {
      "cell_type": "code",
      "source": [
        "# 15.program to calculate the volume of a cube\n",
        "def vol_of_cube(side) :\n",
        "    volume = side**3\n",
        "    print(volume)\n",
        "vol_of_cube(5)"
      ],
      "metadata": {
        "id": "wS-sW4dHbXnZ",
        "colab": {
          "base_uri": "https://localhost:8080/"
        },
        "outputId": "9508df42-31d7-4ff3-b44f-722022d6d890"
      },
      "execution_count": 24,
      "outputs": [
        {
          "output_type": "stream",
          "name": "stdout",
          "text": [
            "125\n"
          ]
        }
      ]
    },
    {
      "cell_type": "code",
      "source": [
        "# 16.program to print 7 colours of rainbow\n",
        "def rainbow():\n",
        "    colours = [\"violet\",\"indigo\",\"blue\",\"green\",\"yellow\",\"orange\",\"red\"]\n",
        "    print(colours)\n",
        "rainbow()"
      ],
      "metadata": {
        "colab": {
          "base_uri": "https://localhost:8080/"
        },
        "id": "bb-uNRcNfqgu",
        "outputId": "718943a3-50f5-4eff-f7cb-c10c76310bed"
      },
      "execution_count": 26,
      "outputs": [
        {
          "output_type": "stream",
          "name": "stdout",
          "text": [
            "['violet', 'indigo', 'blue', 'green', 'yellow', 'orange', 'red']\n"
          ]
        }
      ]
    },
    {
      "cell_type": "code",
      "source": [
        "# 17.Write a program to convert a decimal number to a binary number.\n",
        "def deci_to_binary(num):\n",
        "    binary = 0\n",
        "    while(num != 0):\n",
        "        rem = num % 2\n",
        "        binary = binary*10 + rem\n",
        "        num //= 2\n",
        "    return binary\n",
        "testnum = int (input(\"Enter a number: \"))\n",
        "print(deci_to_binary(testnum))"
      ],
      "metadata": {
        "colab": {
          "base_uri": "https://localhost:8080/"
        },
        "id": "o_he2_yvf7zO",
        "outputId": "a84588b0-2d06-46d4-c05f-56c88e5b950b"
      },
      "execution_count": 31,
      "outputs": [
        {
          "output_type": "stream",
          "name": "stdout",
          "text": [
            "Enter a number: 67\n",
            "1100001\n"
          ]
        }
      ]
    },
    {
      "cell_type": "code",
      "source": [
        "# 18.Python program to remove vowels from the string\n",
        "def remove_vowel(string):\n",
        "    vowels = ['a' , 'e' , 'i' , 'o' , 'u' , 'A' , 'E' , 'I' , 'O' , 'U']\n",
        "    for x in string:\n",
        "        if x in vowels:\n",
        "            string = string.replace(x , \"\")\n",
        "    return string\n",
        "string = input(\"Enter a string: \")\n",
        "string = remove_vowel(string)\n",
        "print(string)"
      ],
      "metadata": {
        "colab": {
          "base_uri": "https://localhost:8080/"
        },
        "id": "qWZFJaNQhI6i",
        "outputId": "895f54ce-4085-4323-8bc5-e6345d7f4d55"
      },
      "execution_count": 32,
      "outputs": [
        {
          "output_type": "stream",
          "name": "stdout",
          "text": [
            "Enter a string: vaishnavi\n",
            "vshnv\n"
          ]
        }
      ]
    },
    {
      "cell_type": "code",
      "source": [
        "# 19.Write a program to sort an array.\n",
        "def sortarray(List):\n",
        "    List.sort()\n",
        "    return List\n",
        "testlist = [11 , 22, 3  ,4  ,35 , 16]\n",
        "print(sortarray(testlist))"
      ],
      "metadata": {
        "colab": {
          "base_uri": "https://localhost:8080/"
        },
        "id": "mmBUKPGyh2-g",
        "outputId": "ddccc5b9-b138-4239-a05e-a4344454c18b"
      },
      "execution_count": 34,
      "outputs": [
        {
          "output_type": "stream",
          "name": "stdout",
          "text": [
            "[3, 4, 11, 16, 22, 35]\n"
          ]
        }
      ]
    }
  ]
}