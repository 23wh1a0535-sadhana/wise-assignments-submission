{
  "nbformat": 4,
  "nbformat_minor": 0,
  "metadata": {
    "colab": {
      "provenance": []
    },
    "kernelspec": {
      "name": "python3",
      "display_name": "Python 3"
    },
    "language_info": {
      "name": "python"
    }
  },
  "cells": [
    {
      "cell_type": "code",
      "execution_count": null,
      "metadata": {
        "id": "4mb0wrnge3CF"
      },
      "outputs": [],
      "source": [
        "def menu():\n",
        "    dishes  = [\"1.rice\",\"2.chicken\",'3.noodles',\"4.desserts\"]\n",
        "    for x in dishes:\n",
        "        print(x)\n",
        "def submenu() :\n",
        "    menu()\n",
        "    choice = int(input(\"enter your choice : \"))\n",
        "    rice_dishes ={\"1.fried rice\":200,'2.biriyani':300,'3.plain rice':50,'4.pulav':150,'5.ghee rice':180,'6.curd rice':70,'7.sambar rice':90}\n",
        "    chicken_dishes = {'1.chicken 65':210,'2.chicken mandi':250,'3.chicken lollipop':150,'4.chicken manchuria':200,'chicken schawarma':250}\n",
        "    desserts ={'1.ice cream':75,'2.gulaab jamun':50,\"3.rasagulla\":50,'4.juice':70,'5.fruit salad':100}\n",
        "    noodles_dishes = {'1.paneer noodles':100,'2.chicken noodles':2000,'3.egg noddles':150,'4.mushroom noodles':110,'5.veg noodles':100}\n",
        "    rice_keys = list(rice_dishes.keys())\n",
        "    rice_values = list(rice_dishes.values())\n",
        "    chicken_keys = list(chicken_dishes.keys())\n",
        "    chicken_values = list(chicken_dishes.values())\n",
        "    noodles_keys = list(noodles_dishes.keys())\n",
        "    noodles_values = list(noodles_dishes.values())\n",
        "    dessert_keys = list(desserts.keys())\n",
        "    dessert_values = list(desserts.values())\n",
        "    if choice == 1 :\n",
        "        for x in rice_dishes :\n",
        "            print(x)\n",
        "        choice1 = int(input(\"Enter the dish number: \"))\n",
        "        a = choice1 - 1\n",
        "        print(rice_values[a])\n",
        "    elif choice == 2 :\n",
        "        for x in chicken_dishes :\n",
        "            print(x)\n",
        "        choice1 = int(input(\"Enter the dish number: \"))\n",
        "        a = choice1 - 1\n",
        "        print(chicken_values[a])\n",
        "    elif choice == 3 :\n",
        "        for x in noodles_dishes :\n",
        "            print(x)\n",
        "        choice1 = int(input(\"Enter the dish number: \"))\n",
        "        a = choice1 - 1\n",
        "        print(noodles_values[a])\n",
        "    elif choice == 4 :\n",
        "        for x in desserts :\n",
        "            print(x)\n",
        "        choice1 = int(input(\"Enter the dish number: \"))\n",
        "        a = choice1 - 1\n",
        "        print(dessert_values[a])\n",
        "    else :\n",
        "        print(\"sorry! wrong choice\")\n",
        "submenu()"
      ]
    }
  ]
}