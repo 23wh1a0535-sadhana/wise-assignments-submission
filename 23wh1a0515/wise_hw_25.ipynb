{
  "nbformat": 4,
  "nbformat_minor": 0,
  "metadata": {
    "colab": {
      "provenance": []
    },
    "kernelspec": {
      "name": "python3",
      "display_name": "Python 3"
    },
    "language_info": {
      "name": "python"
    }
  },
  "cells": [
    {
      "cell_type": "code",
      "execution_count": 2,
      "metadata": {
        "colab": {
          "base_uri": "https://localhost:8080/"
        },
        "id": "9aI-kMB0jekc",
        "outputId": "29899daa-162b-4f7b-bebb-138d47662bbc"
      },
      "outputs": [
        {
          "output_type": "stream",
          "name": "stdout",
          "text": [
            "enter number :2\n",
            "wrong number\n",
            "enter number :5\n",
            "wrong number\n",
            "enter number :3\n",
            "you have guessed the number\n"
          ]
        }
      ],
      "source": [
        "# 8. Write a Python program to guess a number between 1 and 9\n",
        "random = 3\n",
        "while 1 :\n",
        "    num =int(input(\"enter number :\"))\n",
        "    if random == num :\n",
        "        print(\"you have guessed the number\")\n",
        "        break\n",
        "    else :\n",
        "        print(\"wrong number\")"
      ]
    },
    {
      "cell_type": "code",
      "source": [
        "# 9. Write a Python program that reads two integers representing a month and day and prints the season for that month and day.\n",
        "month = int(input(\"enter month number : \"))\n",
        "day = int(input(\"enter date : \"))\n",
        "if (month in (1,2)) or ((month == 3) and (day <= 19)) or ((month == 12) and (day > 20)):\n",
        "\tseason = 'winter'\n",
        "elif (month in (3,4, 5)) or ((month == 6) and (day <= 20)):\n",
        "\tseason = 'spring'\n",
        "elif (month in (6, 7,8 )) or ((month == 9) and (day <= 21)):\n",
        "\tseason = 'summer'\n",
        "else:\n",
        "\tseason = 'autumn'\n",
        "print(season)"
      ],
      "metadata": {
        "colab": {
          "base_uri": "https://localhost:8080/"
        },
        "id": "QXjRR6erjiQu",
        "outputId": "f26a35cd-3c14-46f3-df50-8a70b310913b"
      },
      "execution_count": 5,
      "outputs": [
        {
          "output_type": "stream",
          "name": "stdout",
          "text": [
            "enter month number : 4\n",
            "enter date : 20\n",
            "spring\n"
          ]
        }
      ]
    },
    {
      "cell_type": "code",
      "source": [
        "# fuctions\n",
        "# 14.Write a program to convert a string into a list .\n",
        "def strtolist(string):\n",
        "    List = list(string)\n",
        "    return List\n",
        "print(strtolist(\"vaishnavi\"))"
      ],
      "metadata": {
        "colab": {
          "base_uri": "https://localhost:8080/"
        },
        "id": "eOSO-dFRjm4k",
        "outputId": "0122bfac-b1a2-47e6-e887-63b302847b4a"
      },
      "execution_count": 6,
      "outputs": [
        {
          "output_type": "stream",
          "name": "stdout",
          "text": [
            "['v', 'a', 'i', 's', 'h', 'n', 'a', 'v', 'i']\n"
          ]
        }
      ]
    },
    {
      "cell_type": "code",
      "source": [
        "4# 15.program to calculate the volume of a cube\n",
        "def vol_of_cube(side) :\n",
        "    volume = side**3\n",
        "    print(volume)\n",
        "vol_of_cube(5)\n",
        ""
      ],
      "metadata": {
        "colab": {
          "base_uri": "https://localhost:8080/"
        },
        "id": "B-fJVAKcjuW1",
        "outputId": "5f5c8869-80fc-4b80-cc24-e6e3323cb9d2"
      },
      "execution_count": 7,
      "outputs": [
        {
          "output_type": "stream",
          "name": "stdout",
          "text": [
            "125\n"
          ]
        }
      ]
    },
    {
      "cell_type": "code",
      "source": [
        "# 17.Write a program to convert a decimal number to a binary number.\n",
        "def deci_to_binary(num):\n",
        "    binary = 0\n",
        "    while(num != 0):\n",
        "        rem = num % 2\n",
        "        binary = binary*10 + rem\n",
        "        num //= 2\n",
        "    return binary\n",
        "testnum = int (input(\"Enter a number: \"))\n",
        "print(deci_to_binary(testnum))\n"
      ],
      "metadata": {
        "colab": {
          "base_uri": "https://localhost:8080/"
        },
        "id": "yYJ2DzYUj0To",
        "outputId": "d5581168-db40-4d0f-c3d8-6321f0cf7b2f"
      },
      "execution_count": 8,
      "outputs": [
        {
          "output_type": "stream",
          "name": "stdout",
          "text": [
            "Enter a number: 10\n",
            "101\n"
          ]
        }
      ]
    },
    {
      "cell_type": "code",
      "source": [
        "# 18.Python program to remove vowels from the string\n",
        "def remove_vowel(string):\n",
        "    vowels = ['a' , 'e' , 'i' , 'o' , 'u' , 'A' , 'E' , 'I' , 'O' , 'U']\n",
        "    for x in string:\n",
        "        if x in vowels:\n",
        "            string = string.replace(x , \"\")\n",
        "    return string\n",
        "string = input(\"Enter a string: \")\n",
        "string = remove_vowel(string)\n",
        "print(string)"
      ],
      "metadata": {
        "colab": {
          "base_uri": "https://localhost:8080/"
        },
        "id": "HcJLMqMrj2Xa",
        "outputId": "8a5f4093-ec16-4ffe-8885-bd1832642e17"
      },
      "execution_count": 9,
      "outputs": [
        {
          "output_type": "stream",
          "name": "stdout",
          "text": [
            "Enter a string: hasini\n",
            "hsn\n"
          ]
        }
      ]
    },
    {
      "cell_type": "code",
      "source": [
        "# 19.Write a program to sort an array.\n",
        "def sortarray(List):\n",
        "    List.sort()\n",
        "    return List\n",
        "testlist = [11 , 22, 3  ,4  ,35 , 16]\n",
        "print(sortarray(testlist))\n",
        ""
      ],
      "metadata": {
        "colab": {
          "base_uri": "https://localhost:8080/"
        },
        "id": "Iwvtkazlj6dE",
        "outputId": "ec86caf0-de68-4c23-c50e-5926231e1d1c"
      },
      "execution_count": 10,
      "outputs": [
        {
          "output_type": "stream",
          "name": "stdout",
          "text": [
            "[3, 4, 11, 16, 22, 35]\n"
          ]
        }
      ]
    }
  ]
}