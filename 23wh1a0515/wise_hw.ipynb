{
  "nbformat": 4,
  "nbformat_minor": 0,
  "metadata": {
    "colab": {
      "provenance": []
    },
    "kernelspec": {
      "name": "python3",
      "display_name": "Python 3"
    },
    "language_info": {
      "name": "python"
    }
  },
  "cells": [
    {
      "cell_type": "markdown",
      "source": [
        "**ASSIGNMENT**"
      ],
      "metadata": {
        "id": "KOyUd1VorxZD"
      }
    },
    {
      "cell_type": "code",
      "source": [
        "# 1\n",
        "def vol_cube(a):\n",
        "    volume = a**3\n",
        "    return(volume)\n",
        "vol_cube(5)"
      ],
      "metadata": {
        "colab": {
          "base_uri": "https://localhost:8080/"
        },
        "id": "UxzcZ6eKr0S7",
        "outputId": "b09917ae-da40-4d5b-893c-39338aa58736"
      },
      "execution_count": null,
      "outputs": [
        {
          "output_type": "execute_result",
          "data": {
            "text/plain": [
              "125"
            ]
          },
          "metadata": {},
          "execution_count": 3
        }
      ]
    },
    {
      "cell_type": "code",
      "source": [
        "# 2\n",
        "def rainbow():\n",
        "    colors = ['Violet','Indigo','Blue','Green','Yellow','Orange','Red']\n",
        "    print(colors)\n",
        "rainbow()"
      ],
      "metadata": {
        "colab": {
          "base_uri": "https://localhost:8080/"
        },
        "id": "-_AfxwXLszgN",
        "outputId": "b3809e62-9f12-4638-bbc7-fd68f789c9d2"
      },
      "execution_count": null,
      "outputs": [
        {
          "output_type": "stream",
          "name": "stdout",
          "text": [
            "['Violet', 'Indigo', 'Blue', 'Green', 'Yellow', 'Orange', 'Red']\n"
          ]
        }
      ]
    },
    {
      "cell_type": "code",
      "source": [
        "# Write a program to swap two numbers.\n",
        "def swap() :\n",
        "    num1 = int(input(\"enter number 1 : \"))\n",
        "    num2 = int(input(\"enter number 2 : \"))\n",
        "    temp = num1\n",
        "    num1 = num2\n",
        "    num2 = temp\n",
        "    print(num1)\n",
        "    print(num2)"
      ],
      "metadata": {
        "id": "4Iz-hjIbXcLi"
      },
      "execution_count": 7,
      "outputs": []
    },
    {
      "cell_type": "code",
      "source": [
        "# Write a program to reverse the given digits.\n",
        "def reverse() :\n",
        "    num = int(input(\"enter number :\"))\n",
        "    rev1 = 0\n",
        "    while num != 0:\n",
        "        digit = num % 10\n",
        "        rev1= rev1 * 10 + digit\n",
        "        num = num//10\n",
        "    print(rev1)"
      ],
      "metadata": {
        "id": "YghGa8adXfRT"
      },
      "execution_count": 8,
      "outputs": []
    },
    {
      "cell_type": "code",
      "source": [
        "reverse()"
      ],
      "metadata": {
        "colab": {
          "base_uri": "https://localhost:8080/"
        },
        "id": "c-AZAE7KXj6y",
        "outputId": "a6e4dcbc-dc5d-417d-c61e-a3fcb8bf8d4e"
      },
      "execution_count": 9,
      "outputs": [
        {
          "output_type": "stream",
          "name": "stdout",
          "text": [
            "enter number :234\n",
            "432\n"
          ]
        }
      ]
    },
    {
      "cell_type": "code",
      "source": [
        "# Write a program to add up numbers in a given list .\n",
        "def add() :\n",
        "    list1 = [5,1,6,8,10]\n",
        "    sum = 0\n",
        "    for x in list1 :\n",
        "        sum = sum + (x)\n",
        "    print(sum)"
      ],
      "metadata": {
        "id": "D7rVR_nFXnkG"
      },
      "execution_count": 10,
      "outputs": []
    },
    {
      "cell_type": "code",
      "source": [
        "add()"
      ],
      "metadata": {
        "colab": {
          "base_uri": "https://localhost:8080/"
        },
        "id": "JopA4xVyXvxi",
        "outputId": "42935838-7d42-4575-a769-d653dbcb5462"
      },
      "execution_count": 11,
      "outputs": [
        {
          "output_type": "stream",
          "name": "stdout",
          "text": [
            "30\n"
          ]
        }
      ]
    },
    {
      "cell_type": "code",
      "source": [
        "# Write a program to check wether a given string is a palindrome or not\n",
        "def palindrome() :\n",
        "    num = int(input(\"enter number :\"))\n",
        "    temp = num\n",
        "    rev2 = 0\n",
        "    while num !=0 :\n",
        "        rem1 = num%10\n",
        "        rev2 = rev2*10 + rem1\n",
        "        num = num//10\n",
        "    if temp == rev2 :\n",
        "        print(\"palindrome\")\n",
        "    else :\n",
        "        print(\"not a palindrome\")"
      ],
      "metadata": {
        "id": "G-UMh1YRXvrW"
      },
      "execution_count": 12,
      "outputs": []
    },
    {
      "cell_type": "code",
      "source": [
        "palindrome()"
      ],
      "metadata": {
        "colab": {
          "base_uri": "https://localhost:8080/"
        },
        "id": "9WIQlLugXvn9",
        "outputId": "ac313c54-a5be-42c5-ac7e-29611e146062"
      },
      "execution_count": 13,
      "outputs": [
        {
          "output_type": "stream",
          "name": "stdout",
          "text": [
            "enter number :1331\n",
            "palindrome\n"
          ]
        }
      ]
    },
    {
      "cell_type": "code",
      "source": [
        "# Write a program to find the greatest number among given three numbers\n",
        "def largest_of_3_numbers() :\n",
        "    num1 = int(input(\"enter number 1 :\"))\n",
        "    num2 = int(input(\"enter number 2 :\"))\n",
        "    num3 = int(input(\"enter number 3 :\"))\n",
        "    if num1>num2 and num1>num3 :\n",
        "        print(num1)\n",
        "    elif num2>num1 and num2>num3 :\n",
        "        print(num2)\n",
        "    elif num3>num1 and num3>num2 :\n",
        "        print(num3)"
      ],
      "metadata": {
        "id": "t5_7jodwXvlR"
      },
      "execution_count": 14,
      "outputs": []
    },
    {
      "cell_type": "code",
      "source": [
        "# Write a program to check wether the entered city name is present in telangana or not\n",
        "def city() :\n",
        "    city_name = input(\"enter name of the city :\")\n",
        "    if city_name in (\"hyderabad\",\"suryapet\",\"medak\",\"mahabubnagar\",\"warangal\",\"nalgonda\",\"mancherial\",\"jagtial\",\"adilabad\",\"khammam\",\"karimnagar\") :\n",
        "        print(\"present in telangana\")\n",
        "    else :\n",
        "        print(\"not present in telangana\")"
      ],
      "metadata": {
        "id": "DSwKkrCqXvaU"
      },
      "execution_count": 15,
      "outputs": []
    },
    {
      "cell_type": "code",
      "source": [
        "city()"
      ],
      "metadata": {
        "colab": {
          "base_uri": "https://localhost:8080/"
        },
        "id": "1MCHac0OYJQO",
        "outputId": "cc6e7233-b00d-4834-fea8-b83c17a2d835"
      },
      "execution_count": 3,
      "outputs": [
        {
          "output_type": "stream",
          "name": "stdout",
          "text": [
            "enter name of the city :hyderabad\n",
            "present in telangana\n"
          ]
        }
      ]
    },
    {
      "cell_type": "code",
      "source": [
        "# Write a program to find the square root of a number .\n",
        "def sqrt() :\n",
        "    num = int(input(\"enter number :\"))\n",
        "    print(pow(num,0.5))"
      ],
      "metadata": {
        "id": "125as9vgYJH0"
      },
      "execution_count": 18,
      "outputs": []
    },
    {
      "cell_type": "code",
      "source": [
        "sqrt()"
      ],
      "metadata": {
        "colab": {
          "base_uri": "https://localhost:8080/"
        },
        "id": "30yHgnGwYJFd",
        "outputId": "a16b235c-ff8c-4e76-c2d3-00315f454282"
      },
      "execution_count": 20,
      "outputs": [
        {
          "output_type": "stream",
          "name": "stdout",
          "text": [
            "enter number :625\n",
            "25.0\n"
          ]
        }
      ]
    },
    {
      "cell_type": "code",
      "source": [
        "#  Write a program to calculate length of a string entered by a user.\n",
        "def len_of_str() :\n",
        "    str1 = input(\"enter a string :\")\n",
        "    print(len(str1))"
      ],
      "metadata": {
        "id": "wKNB0lQrYv5u"
      },
      "execution_count": 21,
      "outputs": []
    },
    {
      "cell_type": "code",
      "source": [
        "len_of_str()"
      ],
      "metadata": {
        "colab": {
          "base_uri": "https://localhost:8080/"
        },
        "id": "c1VhzBjIYvuP",
        "outputId": "71cf1ae3-8ff2-4732-de14-8736af6f1c81"
      },
      "execution_count": 22,
      "outputs": [
        {
          "output_type": "stream",
          "name": "stdout",
          "text": [
            "enter a string :hasini\n",
            "6\n"
          ]
        }
      ]
    },
    {
      "cell_type": "code",
      "source": [
        "# Write a program to check if a given triangle is a right angled triangle or not\n",
        "def right_angled_triangle() :\n",
        "    s1 = int(input(\"enter side 1 :\"))\n",
        "    s2 = int(input(\"enter side 2 :\"))\n",
        "    s3 = int(input(\"enter side 3 :\"))\n",
        "    if (s1*s1) + (s2*s2) == (s3*s3) or (s1*s1) + (s3*s3) == (s2*s2) or (s2*s2) + (s3*s3) == (s1*s1) :\n",
        "        print(\"the given triangle is a right angled\")\n",
        "    else :\n",
        "        print(\"the given triangle is not right angled \")"
      ],
      "metadata": {
        "id": "wZPg5NwyYzic"
      },
      "execution_count": 23,
      "outputs": []
    },
    {
      "cell_type": "code",
      "source": [
        "right_angled_triangle()"
      ],
      "metadata": {
        "colab": {
          "base_uri": "https://localhost:8080/"
        },
        "id": "Lt6wsXDrYzfC",
        "outputId": "37e4ac22-044f-4f6d-f102-1ace88cd0ec9"
      },
      "execution_count": 25,
      "outputs": [
        {
          "output_type": "stream",
          "name": "stdout",
          "text": [
            "enter side 1 :10\n",
            "enter side 2 :2\n",
            "enter side 3 :5\n",
            "the given triangle is not right angled \n"
          ]
        }
      ]
    },
    {
      "cell_type": "code",
      "source": [
        "# Write a program to convert a list into string.\n",
        "def list_to_string(names):\n",
        "    str2 = \" \"\n",
        "    return(str2.join(names))\n",
        "names = [\"vaishnavi\",\"keerthana\",\"srijani\",\"sudheepthi\"]\n",
        "print(list_to_string(names))"
      ],
      "metadata": {
        "colab": {
          "base_uri": "https://localhost:8080/"
        },
        "id": "tlX_AVuDYzcg",
        "outputId": "baca279f-79e4-4379-fc8c-bc6560618b19"
      },
      "execution_count": 26,
      "outputs": [
        {
          "output_type": "stream",
          "name": "stdout",
          "text": [
            "vaishnavi keerthana srijani sudheepthi\n"
          ]
        }
      ]
    },
    {
      "cell_type": "code",
      "source": [
        "# Write a program to print the largest string from a given list .\n",
        "def largest_of_string() :\n",
        "    str3 =[\"vaishnavi\",\"fruit\",\"chocolate\",\"cool drinks\"]\n",
        "    max_len = -1\n",
        "    for ele in str3 :\n",
        "        if len(ele) > max_len :\n",
        "            max_len = len(ele)\n",
        "            res = ele\n",
        "\n",
        "# printing result\n",
        "    print(\"Maximum length string is : \", res)"
      ],
      "metadata": {
        "id": "LfpSU7RTYzZ2"
      },
      "execution_count": 27,
      "outputs": []
    },
    {
      "cell_type": "code",
      "source": [
        "largest_of_string()"
      ],
      "metadata": {
        "colab": {
          "base_uri": "https://localhost:8080/"
        },
        "id": "-l4HauzQZFNT",
        "outputId": "7da5e4e0-ac50-4c6a-9633-fb5f98db9c07"
      },
      "execution_count": 28,
      "outputs": [
        {
          "output_type": "stream",
          "name": "stdout",
          "text": [
            "Maximum length string is :  cool drinks\n"
          ]
        }
      ]
    },
    {
      "cell_type": "code",
      "source": [
        "# loops\n",
        "# Write a Python program that prints all the numbers from 0 to 6 except 3 and 6\n",
        "for x in range(6) :\n",
        "    if x != 3 and x !=6 :\n",
        "        print(x)"
      ],
      "metadata": {
        "id": "fZxx7ChMVqWA",
        "colab": {
          "base_uri": "https://localhost:8080/"
        },
        "outputId": "c5b02038-47df-4c0a-8057-07ab39b71809"
      },
      "execution_count": 1,
      "outputs": [
        {
          "output_type": "stream",
          "name": "stdout",
          "text": [
            "0\n",
            "1\n",
            "2\n",
            "4\n",
            "5\n"
          ]
        }
      ]
    },
    {
      "cell_type": "code",
      "source": [
        "# Write a program to calculate factorial of a given number\n",
        "num = int(input(\"enter number :\"))\n",
        "fact = 1\n",
        "i=1\n",
        "while (i<=num) :\n",
        "    fact = fact*i\n",
        "    i+=1\n",
        "print(fact)"
      ],
      "metadata": {
        "colab": {
          "base_uri": "https://localhost:8080/"
        },
        "id": "YRDHHp60WsLq",
        "outputId": "9570fc6f-7695-433e-de9f-495fa107a729"
      },
      "execution_count": 36,
      "outputs": [
        {
          "output_type": "stream",
          "name": "stdout",
          "text": [
            "enter number :10\n",
            "3628800\n"
          ]
        }
      ]
    },
    {
      "cell_type": "code",
      "source": [
        "# Write a Python program that accepts a word from the user and reverses it\n",
        "word = (input(\"enter word :\"))\n",
        "s = word.split()[::-1]\n",
        "rev = []\n",
        "for i in s:\n",
        "    rev.append(i)\n",
        "print(\" \".join(rev))"
      ],
      "metadata": {
        "colab": {
          "base_uri": "https://localhost:8080/"
        },
        "id": "u2BkI6YAW0XA",
        "outputId": "6ebc751e-9c78-495e-a970-ef7a1d07f6ff"
      },
      "execution_count": 37,
      "outputs": [
        {
          "output_type": "stream",
          "name": "stdout",
          "text": [
            "enter word :hasini\n",
            "hasini\n"
          ]
        }
      ]
    },
    {
      "cell_type": "code",
      "source": [
        "# Write a Python program to check whether an alphabet is a vowel or consonant\n",
        "alpha = input(\"enter alphabet :\")\n",
        "if alpha == \"a\"or alpha == \"e\" or alpha == \"i\" or alpha == \"o\" or alpha == \"u\" :\n",
        "    print(\"vowel\")\n",
        "else :\n",
        "    print(\"consonant\")"
      ],
      "metadata": {
        "colab": {
          "base_uri": "https://localhost:8080/"
        },
        "id": "9TxAHPhTW1no",
        "outputId": "8397bb87-e170-49ee-f4ec-139d6a490a37"
      },
      "execution_count": 38,
      "outputs": [
        {
          "output_type": "stream",
          "name": "stdout",
          "text": [
            "enter alphabet :a\n",
            "vowel\n"
          ]
        }
      ]
    },
    {
      "cell_type": "code",
      "source": [
        "#  Write a Python program to convert a month name to a number of days\n",
        "print(\"List of months: January, February, March, April, May, June, July, August, September, October, November, December\")\n",
        "month_name = input(\"Input the name of Month: \")\n",
        "if month_name == \"February\":\n",
        "\tprint(\"No. of days: 28/29 days\")\n",
        "elif month_name in (\"April\", \"June\", \"September\", \"November\"):\n",
        "\tprint(\"No. of days: 30 days\")\n",
        "elif month_name in (\"January\", \"March\", \"May\", \"July\", \"August\", \"October\", \"December\"):\n",
        "\tprint(\"No. of days: 31 day\")\n",
        "else:\n",
        "\tprint(\"Wrong month name\")"
      ],
      "metadata": {
        "colab": {
          "base_uri": "https://localhost:8080/"
        },
        "id": "o0dAH1cgW5VX",
        "outputId": "583e2d0f-c409-4a54-e332-dfd108007fcd"
      },
      "execution_count": 39,
      "outputs": [
        {
          "output_type": "stream",
          "name": "stdout",
          "text": [
            "List of months: January, February, March, April, May, June, July, August, September, October, November, December\n",
            "Input the name of Month: march\n",
            "Wrong month name\n"
          ]
        }
      ]
    },
    {
      "cell_type": "code",
      "source": [
        "#  Write a Python program to create the multiplication table (from 1 to 10) of a number.\n",
        "num = int(input(\"enter number : \"))\n",
        "i = 1\n",
        "product =1\n",
        "while (i<=10) :\n",
        "    product = num * i\n",
        "    print(product)\n",
        "    i+=1"
      ],
      "metadata": {
        "colab": {
          "base_uri": "https://localhost:8080/"
        },
        "id": "iaDUk_IYW9Mz",
        "outputId": "07fd2657-f4b4-4e37-efba-eb00f7b1c374"
      },
      "execution_count": 40,
      "outputs": [
        {
          "output_type": "stream",
          "name": "stdout",
          "text": [
            "enter number : 10\n",
            "10\n",
            "20\n",
            "30\n",
            "40\n",
            "50\n",
            "60\n",
            "70\n",
            "80\n",
            "90\n",
            "100\n"
          ]
        }
      ]
    },
    {
      "cell_type": "code",
      "source": [
        "# Write a program to print n natural number in descending order using a while loop.\n",
        "range = int(input(\"enter range : \"))\n",
        "i = range\n",
        "while i>0 :\n",
        "    print(i)\n",
        "    i-=1"
      ],
      "metadata": {
        "colab": {
          "base_uri": "https://localhost:8080/"
        },
        "id": "KDoaNp6uXBNj",
        "outputId": "39051da9-4694-43f8-dc0c-33cb376f57e3"
      },
      "execution_count": 41,
      "outputs": [
        {
          "output_type": "stream",
          "name": "stdout",
          "text": [
            "enter range : 20\n",
            "20\n",
            "19\n",
            "18\n",
            "17\n",
            "16\n",
            "15\n",
            "14\n",
            "13\n",
            "12\n",
            "11\n",
            "10\n",
            "9\n",
            "8\n",
            "7\n",
            "6\n",
            "5\n",
            "4\n",
            "3\n",
            "2\n",
            "1\n"
          ]
        }
      ]
    }
  ]
}